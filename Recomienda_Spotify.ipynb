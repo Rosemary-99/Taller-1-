{
  "nbformat": 4,
  "nbformat_minor": 0,
  "metadata": {
    "colab": {
      "provenance": [],
      "mount_file_id": "11hGAf47Z_QDbNoNqa9dZUulK7h69ESQw",
      "authorship_tag": "ABX9TyOgyyqvnLQPePbnGX8xAFny",
      "include_colab_link": true
    },
    "kernelspec": {
      "name": "python3",
      "display_name": "Python 3"
    },
    "language_info": {
      "name": "python"
    }
  },
  "cells": [
    {
      "cell_type": "markdown",
      "metadata": {
        "id": "view-in-github",
        "colab_type": "text"
      },
      "source": [
        "<a href=\"https://colab.research.google.com/github/Rosemary-99/Taller-1-/blob/main/Recomienda_Spotify.ipynb\" target=\"_parent\"><img src=\"https://colab.research.google.com/assets/colab-badge.svg\" alt=\"Open In Colab\"/></a>"
      ]
    },
    {
      "cell_type": "code",
      "source": [
        "pip install annoy"
      ],
      "metadata": {
        "colab": {
          "base_uri": "https://localhost:8080/"
        },
        "id": "A2bwZPK78Tdj",
        "outputId": "567b165d-45a8-42a0-cfe1-16f62458cbcf"
      },
      "execution_count": null,
      "outputs": [
        {
          "output_type": "stream",
          "name": "stdout",
          "text": [
            "Looking in indexes: https://pypi.org/simple, https://us-python.pkg.dev/colab-wheels/public/simple/\n",
            "Collecting annoy\n",
            "  Downloading annoy-1.17.1.tar.gz (647 kB)\n",
            "\u001b[2K     \u001b[90m━━━━━━━━━━━━━━━━━━━━━━━━━━━━━━━━━━━━━━\u001b[0m \u001b[32m648.0/648.0 KB\u001b[0m \u001b[31m10.9 MB/s\u001b[0m eta \u001b[36m0:00:00\u001b[0m\n",
            "\u001b[?25h  Preparing metadata (setup.py) ... \u001b[?25l\u001b[?25hdone\n",
            "Building wheels for collected packages: annoy\n",
            "  Building wheel for annoy (setup.py) ... \u001b[?25l\u001b[?25hdone\n",
            "  Created wheel for annoy: filename=annoy-1.17.1-cp39-cp39-linux_x86_64.whl size=582307 sha256=6c27dbcd51e4d721d08996b0a29eca2277a9806228d1d2092e3fc0772c7a061c\n",
            "  Stored in directory: /root/.cache/pip/wheels/5b/7d/31/9a9a4993d085bc85bee21946bce94cd5906ce99730f5467e57\n",
            "Successfully built annoy\n",
            "Installing collected packages: annoy\n",
            "Successfully installed annoy-1.17.1\n"
          ]
        }
      ]
    },
    {
      "cell_type": "code",
      "execution_count": null,
      "metadata": {
        "id": "Jc0mhxNQ8LSR"
      },
      "outputs": [],
      "source": [
        "import pandas as pd\n",
        "from annoy import AnnoyIndex"
      ]
    },
    {
      "cell_type": "code",
      "source": [
        "tracks_df = pd.read_csv('/content/drive/MyDrive/BigQuery/normal_track3.csv')"
      ],
      "metadata": {
        "id": "i9yM_vto8VXB"
      },
      "execution_count": null,
      "outputs": []
    },
    {
      "cell_type": "code",
      "source": [
        "tracks_df.shape"
      ],
      "metadata": {
        "colab": {
          "base_uri": "https://localhost:8080/"
        },
        "id": "86cICaj08vNA",
        "outputId": "dbea49d5-eed8-4c71-ea35-d0decb56b60f"
      },
      "execution_count": null,
      "outputs": [
        {
          "output_type": "execute_result",
          "data": {
            "text/plain": [
              "(586672, 21)"
            ]
          },
          "metadata": {},
          "execution_count": 5
        }
      ]
    },
    {
      "cell_type": "code",
      "source": [
        "tracks_df.dtypes"
      ],
      "metadata": {
        "colab": {
          "base_uri": "https://localhost:8080/"
        },
        "id": "fLUF0vZY8yye",
        "outputId": "380dff65-da2f-459e-a26e-6c9f36ac164d"
      },
      "execution_count": null,
      "outputs": [
        {
          "output_type": "execute_result",
          "data": {
            "text/plain": [
              "Unnamed: 0            int64\n",
              "id                   object\n",
              "name                 object\n",
              "popularity          float64\n",
              "duration_ms           int64\n",
              "explicit              int64\n",
              "artists              object\n",
              "id_artists           object\n",
              "release_date         object\n",
              "danceability        float64\n",
              "energy              float64\n",
              "key                 float64\n",
              "loudness            float64\n",
              "mode                float64\n",
              "speechiness         float64\n",
              "acousticness        float64\n",
              "instrumentalness    float64\n",
              "liveness            float64\n",
              "valence             float64\n",
              "tempo               float64\n",
              "time_signature      float64\n",
              "dtype: object"
            ]
          },
          "metadata": {},
          "execution_count": 6
        }
      ]
    },
    {
      "cell_type": "code",
      "source": [
        "tracks_df.head()"
      ],
      "metadata": {
        "colab": {
          "base_uri": "https://localhost:8080/",
          "height": 421
        },
        "id": "UQpITx2k9Gw3",
        "outputId": "dae6a163-11ba-4a53-b526-a6b035929d43"
      },
      "execution_count": null,
      "outputs": [
        {
          "output_type": "execute_result",
          "data": {
            "text/plain": [
              "   Unnamed: 0                      id                                 name  \\\n",
              "0           0  35iwgR4jXetI318WEWsa1Q                                Carve   \n",
              "1           1  021ht4sdgPcrDgSk7JTbKY  Capítulo 2.16 - Banquero Anarquista   \n",
              "2           2  07A5yehtSnoedViJAZkNnc   Vivo para Quererte - Remasterizado   \n",
              "3           3  08FmqUhxtyLTn6pAh6bk45        El Prisionero - Remasterizado   \n",
              "4           4  08y9GfoqCWfOGsKdwojr5e                  Lady of the Evening   \n",
              "\n",
              "   popularity  duration_ms  explicit          artists              id_artists  \\\n",
              "0         6.0       126903         0              Uli  45tIt06XoI0Iio4LBEVpls   \n",
              "1         0.0        98200         0  Fernando Pessoa  14jtPCOoNZwquk5wd9DxrY   \n",
              "2         0.0       181640         0  Ignacio Corsini  5LiOoJbxVSAMkBS2fUm3X2   \n",
              "3         NaN       176907         0  Ignacio Corsini  5LiOoJbxVSAMkBS2fUm3X2   \n",
              "4         0.0       163080         0      Dick Haymes  3BiJGZsyX9sJchTqcSA7Su   \n",
              "\n",
              "  release_date  danceability  ...  key  loudness  mode  speechiness  \\\n",
              "0   1922-02-22         0.645  ...  0.0   -13.338   1.0       0.4510   \n",
              "1   1922-06-01         0.695  ...  0.0   -22.136   1.0       0.9570   \n",
              "2   1922-03-21         0.434  ...  1.0   -21.180   1.0       0.0512   \n",
              "3   1922-03-21         0.321  ...  7.0   -27.961   1.0       0.0504   \n",
              "4   1922-01-01         0.402  ...  3.0   -16.900   0.0       0.0390   \n",
              "\n",
              "   acousticness  instrumentalness  liveness  valence    tempo  time_signature  \n",
              "0         0.674            0.7440     0.151    0.127  104.851             3.0  \n",
              "1         0.797            0.0000     0.148    0.655  102.009             1.0  \n",
              "2         0.994            0.0218     0.212    0.457  130.418             5.0  \n",
              "3         0.995            0.9180     0.104    0.397  169.980             3.0  \n",
              "4         0.989            0.1300     0.311    0.196  103.220             4.0  \n",
              "\n",
              "[5 rows x 21 columns]"
            ],
            "text/html": [
              "\n",
              "  <div id=\"df-19d734ab-de07-4ce0-80c6-2d46f3af63c8\">\n",
              "    <div class=\"colab-df-container\">\n",
              "      <div>\n",
              "<style scoped>\n",
              "    .dataframe tbody tr th:only-of-type {\n",
              "        vertical-align: middle;\n",
              "    }\n",
              "\n",
              "    .dataframe tbody tr th {\n",
              "        vertical-align: top;\n",
              "    }\n",
              "\n",
              "    .dataframe thead th {\n",
              "        text-align: right;\n",
              "    }\n",
              "</style>\n",
              "<table border=\"1\" class=\"dataframe\">\n",
              "  <thead>\n",
              "    <tr style=\"text-align: right;\">\n",
              "      <th></th>\n",
              "      <th>Unnamed: 0</th>\n",
              "      <th>id</th>\n",
              "      <th>name</th>\n",
              "      <th>popularity</th>\n",
              "      <th>duration_ms</th>\n",
              "      <th>explicit</th>\n",
              "      <th>artists</th>\n",
              "      <th>id_artists</th>\n",
              "      <th>release_date</th>\n",
              "      <th>danceability</th>\n",
              "      <th>...</th>\n",
              "      <th>key</th>\n",
              "      <th>loudness</th>\n",
              "      <th>mode</th>\n",
              "      <th>speechiness</th>\n",
              "      <th>acousticness</th>\n",
              "      <th>instrumentalness</th>\n",
              "      <th>liveness</th>\n",
              "      <th>valence</th>\n",
              "      <th>tempo</th>\n",
              "      <th>time_signature</th>\n",
              "    </tr>\n",
              "  </thead>\n",
              "  <tbody>\n",
              "    <tr>\n",
              "      <th>0</th>\n",
              "      <td>0</td>\n",
              "      <td>35iwgR4jXetI318WEWsa1Q</td>\n",
              "      <td>Carve</td>\n",
              "      <td>6.0</td>\n",
              "      <td>126903</td>\n",
              "      <td>0</td>\n",
              "      <td>Uli</td>\n",
              "      <td>45tIt06XoI0Iio4LBEVpls</td>\n",
              "      <td>1922-02-22</td>\n",
              "      <td>0.645</td>\n",
              "      <td>...</td>\n",
              "      <td>0.0</td>\n",
              "      <td>-13.338</td>\n",
              "      <td>1.0</td>\n",
              "      <td>0.4510</td>\n",
              "      <td>0.674</td>\n",
              "      <td>0.7440</td>\n",
              "      <td>0.151</td>\n",
              "      <td>0.127</td>\n",
              "      <td>104.851</td>\n",
              "      <td>3.0</td>\n",
              "    </tr>\n",
              "    <tr>\n",
              "      <th>1</th>\n",
              "      <td>1</td>\n",
              "      <td>021ht4sdgPcrDgSk7JTbKY</td>\n",
              "      <td>Capítulo 2.16 - Banquero Anarquista</td>\n",
              "      <td>0.0</td>\n",
              "      <td>98200</td>\n",
              "      <td>0</td>\n",
              "      <td>Fernando Pessoa</td>\n",
              "      <td>14jtPCOoNZwquk5wd9DxrY</td>\n",
              "      <td>1922-06-01</td>\n",
              "      <td>0.695</td>\n",
              "      <td>...</td>\n",
              "      <td>0.0</td>\n",
              "      <td>-22.136</td>\n",
              "      <td>1.0</td>\n",
              "      <td>0.9570</td>\n",
              "      <td>0.797</td>\n",
              "      <td>0.0000</td>\n",
              "      <td>0.148</td>\n",
              "      <td>0.655</td>\n",
              "      <td>102.009</td>\n",
              "      <td>1.0</td>\n",
              "    </tr>\n",
              "    <tr>\n",
              "      <th>2</th>\n",
              "      <td>2</td>\n",
              "      <td>07A5yehtSnoedViJAZkNnc</td>\n",
              "      <td>Vivo para Quererte - Remasterizado</td>\n",
              "      <td>0.0</td>\n",
              "      <td>181640</td>\n",
              "      <td>0</td>\n",
              "      <td>Ignacio Corsini</td>\n",
              "      <td>5LiOoJbxVSAMkBS2fUm3X2</td>\n",
              "      <td>1922-03-21</td>\n",
              "      <td>0.434</td>\n",
              "      <td>...</td>\n",
              "      <td>1.0</td>\n",
              "      <td>-21.180</td>\n",
              "      <td>1.0</td>\n",
              "      <td>0.0512</td>\n",
              "      <td>0.994</td>\n",
              "      <td>0.0218</td>\n",
              "      <td>0.212</td>\n",
              "      <td>0.457</td>\n",
              "      <td>130.418</td>\n",
              "      <td>5.0</td>\n",
              "    </tr>\n",
              "    <tr>\n",
              "      <th>3</th>\n",
              "      <td>3</td>\n",
              "      <td>08FmqUhxtyLTn6pAh6bk45</td>\n",
              "      <td>El Prisionero - Remasterizado</td>\n",
              "      <td>NaN</td>\n",
              "      <td>176907</td>\n",
              "      <td>0</td>\n",
              "      <td>Ignacio Corsini</td>\n",
              "      <td>5LiOoJbxVSAMkBS2fUm3X2</td>\n",
              "      <td>1922-03-21</td>\n",
              "      <td>0.321</td>\n",
              "      <td>...</td>\n",
              "      <td>7.0</td>\n",
              "      <td>-27.961</td>\n",
              "      <td>1.0</td>\n",
              "      <td>0.0504</td>\n",
              "      <td>0.995</td>\n",
              "      <td>0.9180</td>\n",
              "      <td>0.104</td>\n",
              "      <td>0.397</td>\n",
              "      <td>169.980</td>\n",
              "      <td>3.0</td>\n",
              "    </tr>\n",
              "    <tr>\n",
              "      <th>4</th>\n",
              "      <td>4</td>\n",
              "      <td>08y9GfoqCWfOGsKdwojr5e</td>\n",
              "      <td>Lady of the Evening</td>\n",
              "      <td>0.0</td>\n",
              "      <td>163080</td>\n",
              "      <td>0</td>\n",
              "      <td>Dick Haymes</td>\n",
              "      <td>3BiJGZsyX9sJchTqcSA7Su</td>\n",
              "      <td>1922-01-01</td>\n",
              "      <td>0.402</td>\n",
              "      <td>...</td>\n",
              "      <td>3.0</td>\n",
              "      <td>-16.900</td>\n",
              "      <td>0.0</td>\n",
              "      <td>0.0390</td>\n",
              "      <td>0.989</td>\n",
              "      <td>0.1300</td>\n",
              "      <td>0.311</td>\n",
              "      <td>0.196</td>\n",
              "      <td>103.220</td>\n",
              "      <td>4.0</td>\n",
              "    </tr>\n",
              "  </tbody>\n",
              "</table>\n",
              "<p>5 rows × 21 columns</p>\n",
              "</div>\n",
              "      <button class=\"colab-df-convert\" onclick=\"convertToInteractive('df-19d734ab-de07-4ce0-80c6-2d46f3af63c8')\"\n",
              "              title=\"Convert this dataframe to an interactive table.\"\n",
              "              style=\"display:none;\">\n",
              "        \n",
              "  <svg xmlns=\"http://www.w3.org/2000/svg\" height=\"24px\"viewBox=\"0 0 24 24\"\n",
              "       width=\"24px\">\n",
              "    <path d=\"M0 0h24v24H0V0z\" fill=\"none\"/>\n",
              "    <path d=\"M18.56 5.44l.94 2.06.94-2.06 2.06-.94-2.06-.94-.94-2.06-.94 2.06-2.06.94zm-11 1L8.5 8.5l.94-2.06 2.06-.94-2.06-.94L8.5 2.5l-.94 2.06-2.06.94zm10 10l.94 2.06.94-2.06 2.06-.94-2.06-.94-.94-2.06-.94 2.06-2.06.94z\"/><path d=\"M17.41 7.96l-1.37-1.37c-.4-.4-.92-.59-1.43-.59-.52 0-1.04.2-1.43.59L10.3 9.45l-7.72 7.72c-.78.78-.78 2.05 0 2.83L4 21.41c.39.39.9.59 1.41.59.51 0 1.02-.2 1.41-.59l7.78-7.78 2.81-2.81c.8-.78.8-2.07 0-2.86zM5.41 20L4 18.59l7.72-7.72 1.47 1.35L5.41 20z\"/>\n",
              "  </svg>\n",
              "      </button>\n",
              "      \n",
              "  <style>\n",
              "    .colab-df-container {\n",
              "      display:flex;\n",
              "      flex-wrap:wrap;\n",
              "      gap: 12px;\n",
              "    }\n",
              "\n",
              "    .colab-df-convert {\n",
              "      background-color: #E8F0FE;\n",
              "      border: none;\n",
              "      border-radius: 50%;\n",
              "      cursor: pointer;\n",
              "      display: none;\n",
              "      fill: #1967D2;\n",
              "      height: 32px;\n",
              "      padding: 0 0 0 0;\n",
              "      width: 32px;\n",
              "    }\n",
              "\n",
              "    .colab-df-convert:hover {\n",
              "      background-color: #E2EBFA;\n",
              "      box-shadow: 0px 1px 2px rgba(60, 64, 67, 0.3), 0px 1px 3px 1px rgba(60, 64, 67, 0.15);\n",
              "      fill: #174EA6;\n",
              "    }\n",
              "\n",
              "    [theme=dark] .colab-df-convert {\n",
              "      background-color: #3B4455;\n",
              "      fill: #D2E3FC;\n",
              "    }\n",
              "\n",
              "    [theme=dark] .colab-df-convert:hover {\n",
              "      background-color: #434B5C;\n",
              "      box-shadow: 0px 1px 3px 1px rgba(0, 0, 0, 0.15);\n",
              "      filter: drop-shadow(0px 1px 2px rgba(0, 0, 0, 0.3));\n",
              "      fill: #FFFFFF;\n",
              "    }\n",
              "  </style>\n",
              "\n",
              "      <script>\n",
              "        const buttonEl =\n",
              "          document.querySelector('#df-19d734ab-de07-4ce0-80c6-2d46f3af63c8 button.colab-df-convert');\n",
              "        buttonEl.style.display =\n",
              "          google.colab.kernel.accessAllowed ? 'block' : 'none';\n",
              "\n",
              "        async function convertToInteractive(key) {\n",
              "          const element = document.querySelector('#df-19d734ab-de07-4ce0-80c6-2d46f3af63c8');\n",
              "          const dataTable =\n",
              "            await google.colab.kernel.invokeFunction('convertToInteractive',\n",
              "                                                     [key], {});\n",
              "          if (!dataTable) return;\n",
              "\n",
              "          const docLinkHtml = 'Like what you see? Visit the ' +\n",
              "            '<a target=\"_blank\" href=https://colab.research.google.com/notebooks/data_table.ipynb>data table notebook</a>'\n",
              "            + ' to learn more about interactive tables.';\n",
              "          element.innerHTML = '';\n",
              "          dataTable['output_type'] = 'display_data';\n",
              "          await google.colab.output.renderOutput(dataTable, element);\n",
              "          const docLink = document.createElement('div');\n",
              "          docLink.innerHTML = docLinkHtml;\n",
              "          element.appendChild(docLink);\n",
              "        }\n",
              "      </script>\n",
              "    </div>\n",
              "  </div>\n",
              "  "
            ]
          },
          "metadata": {},
          "execution_count": 7
        }
      ]
    },
    {
      "cell_type": "code",
      "source": [
        "tracks_df.loc[[9, 1333, 300, 155, 684, 1262, 1348, 1396, 1757, 1759]]"
      ],
      "metadata": {
        "colab": {
          "base_uri": "https://localhost:8080/",
          "height": 907
        },
        "id": "I2gs6WueyUxw",
        "outputId": "e3e54ed6-e20a-4c20-8774-d45159884cf5"
      },
      "execution_count": null,
      "outputs": [
        {
          "output_type": "execute_result",
          "data": {
            "text/plain": [
              "      Unnamed: 0                      id  \\\n",
              "9              9  0JV4iqw2lSKJaHBQZ0e5zK   \n",
              "1333        1333  1eV1AOW0I6VkD5snXEje5y   \n",
              "300          300  10qdz1AgvZt7ZKWi58Wutx   \n",
              "155          155  0V1iYWPXCBTaB6dhbiprGF   \n",
              "684          684  7li6UhaaGIR6qcrZKdj1V6   \n",
              "1262        1262  0tbQ84XDd41wGegn3ZWM8O   \n",
              "1348        1348  1tfqyY25BGDrwTfpmLrdqH   \n",
              "1396        1396  2QIDcdAAd6C8k9AgVuNSAn   \n",
              "1757        1757  6bJSv9LwGHdjJCNiyuVCA3   \n",
              "1759        1759  6dsL7a4SRSkcKkMDEbwyt3   \n",
              "\n",
              "                                                   name  popularity  \\\n",
              "9                         Martín Fierro - Remasterizado         0.0   \n",
              "1333      Struttin' With Some Barbecue - 78 rpm Version         0.0   \n",
              "300              Quiereme,Que ganas me dieron - en vivo         2.0   \n",
              "155                       Send Me to the 'Lectric Chair        26.0   \n",
              "684   The Four Seasons: 'Winter' in F Minor, RV 297:...         0.0   \n",
              "1262                                     Wild Man Blues         0.0   \n",
              "1348                                           My Heart         1.0   \n",
              "1396                                      Georgia Grind         0.0   \n",
              "1757                                   Smokehouse Blues         0.0   \n",
              "1759                         Глава 5. Часть 1.9 - Кюхля         0.0   \n",
              "\n",
              "      duration_ms  explicit                               artists  \\\n",
              "9          181173         0                       Ignacio Corsini   \n",
              "1333       183947         0        Louis Armstrong & His Hot Five   \n",
              "300        416984         0                  Yiyo y Los Chicos 10   \n",
              "155        201480         0                          Bessie Smith   \n",
              "684        230910         0  Qatar Concert Choir, Giovanni Pasini   \n",
              "1262       188867         0       Louis Armstrong & His Hot Seven   \n",
              "1348       142907         0        Louis Armstrong & His Hot Five   \n",
              "1396       151560         0        Louis Armstrong & His Hot Five   \n",
              "1757       191560         0                     Jelly Roll Morton   \n",
              "1759       248100         0                          Юрий Тынянов   \n",
              "\n",
              "                                          id_artists release_date  \\\n",
              "9                             5LiOoJbxVSAMkBS2fUm3X2   1922-03-29   \n",
              "1333                          0t4VVR2T9Sb0z3NdDdEU6S   1925-01-01   \n",
              "300                           6JXytsNesnjzxv4tHWbe9I   1923-01-01   \n",
              "155                           5ESobCkc6JI4tIMxQttqeg   1923-01-01   \n",
              "684   1yZrW6JwnjZ9KJ3woXrZFV, 06pn5m7HcOR4nvQtRBBpq8   1923-01-01   \n",
              "1262                          267SHEPfqnF16IEmwbLhLQ   1925-01-01   \n",
              "1348                          0t4VVR2T9Sb0z3NdDdEU6S   1925-01-01   \n",
              "1396                          0t4VVR2T9Sb0z3NdDdEU6S   1925-01-01   \n",
              "1757                          4XepUkisa56DUeA3gbjDQD   1925-01-01   \n",
              "1759                          0a39oecVf6UdscqWdiK1ny   1925-03-24   \n",
              "\n",
              "      danceability  ...   key  loudness  mode  speechiness  acousticness  \\\n",
              "9            0.548  ...   6.0   -23.228   1.0       0.1530         0.996   \n",
              "1333         0.731  ...   8.0    -7.941   1.0       0.1250         0.932   \n",
              "300          0.576  ...  11.0    -8.367   1.0       0.0498         0.485   \n",
              "155          0.771  ...   3.0    -7.788   1.0       0.0613         0.986   \n",
              "684          0.419  ...   5.0   -18.409   0.0       0.0476         0.994   \n",
              "1262         0.676  ...   0.0    -8.629   NaN       0.0563         0.971   \n",
              "1348         0.696  ...   0.0    -7.236   0.0       0.0964         0.985   \n",
              "1396         0.733  ...   8.0   -14.649   1.0       0.0603         0.908   \n",
              "1757         0.646  ...   8.0       NaN   1.0       0.0462           NaN   \n",
              "1759         0.666  ...   6.0   -20.545   1.0       0.9660         0.821   \n",
              "\n",
              "      instrumentalness  liveness  valence    tempo  time_signature  \n",
              "9                  NaN    0.1480      NaN   75.595             3.0  \n",
              "1333          0.863000    0.0481   0.8840   95.973             4.0  \n",
              "300           0.000000    0.4500   0.8240  105.498             4.0  \n",
              "155           0.000141    0.1520   0.6010   87.571             4.0  \n",
              "684           0.960000    0.0681   0.0661  127.638             4.0  \n",
              "1262          0.636000       NaN   0.5920   95.636             4.0  \n",
              "1348          0.145000    0.0904   0.8250   97.808             4.0  \n",
              "1396          0.000000    0.1780      NaN  140.380             4.0  \n",
              "1757          0.779000    0.0862   0.8500  123.100             4.0  \n",
              "1759          0.000000    0.2790   0.5030   59.988             5.0  \n",
              "\n",
              "[10 rows x 21 columns]"
            ],
            "text/html": [
              "\n",
              "  <div id=\"df-7eebfbed-2484-4ab0-be4e-9f7c3bdfc46f\">\n",
              "    <div class=\"colab-df-container\">\n",
              "      <div>\n",
              "<style scoped>\n",
              "    .dataframe tbody tr th:only-of-type {\n",
              "        vertical-align: middle;\n",
              "    }\n",
              "\n",
              "    .dataframe tbody tr th {\n",
              "        vertical-align: top;\n",
              "    }\n",
              "\n",
              "    .dataframe thead th {\n",
              "        text-align: right;\n",
              "    }\n",
              "</style>\n",
              "<table border=\"1\" class=\"dataframe\">\n",
              "  <thead>\n",
              "    <tr style=\"text-align: right;\">\n",
              "      <th></th>\n",
              "      <th>Unnamed: 0</th>\n",
              "      <th>id</th>\n",
              "      <th>name</th>\n",
              "      <th>popularity</th>\n",
              "      <th>duration_ms</th>\n",
              "      <th>explicit</th>\n",
              "      <th>artists</th>\n",
              "      <th>id_artists</th>\n",
              "      <th>release_date</th>\n",
              "      <th>danceability</th>\n",
              "      <th>...</th>\n",
              "      <th>key</th>\n",
              "      <th>loudness</th>\n",
              "      <th>mode</th>\n",
              "      <th>speechiness</th>\n",
              "      <th>acousticness</th>\n",
              "      <th>instrumentalness</th>\n",
              "      <th>liveness</th>\n",
              "      <th>valence</th>\n",
              "      <th>tempo</th>\n",
              "      <th>time_signature</th>\n",
              "    </tr>\n",
              "  </thead>\n",
              "  <tbody>\n",
              "    <tr>\n",
              "      <th>9</th>\n",
              "      <td>9</td>\n",
              "      <td>0JV4iqw2lSKJaHBQZ0e5zK</td>\n",
              "      <td>Martín Fierro - Remasterizado</td>\n",
              "      <td>0.0</td>\n",
              "      <td>181173</td>\n",
              "      <td>0</td>\n",
              "      <td>Ignacio Corsini</td>\n",
              "      <td>5LiOoJbxVSAMkBS2fUm3X2</td>\n",
              "      <td>1922-03-29</td>\n",
              "      <td>0.548</td>\n",
              "      <td>...</td>\n",
              "      <td>6.0</td>\n",
              "      <td>-23.228</td>\n",
              "      <td>1.0</td>\n",
              "      <td>0.1530</td>\n",
              "      <td>0.996</td>\n",
              "      <td>NaN</td>\n",
              "      <td>0.1480</td>\n",
              "      <td>NaN</td>\n",
              "      <td>75.595</td>\n",
              "      <td>3.0</td>\n",
              "    </tr>\n",
              "    <tr>\n",
              "      <th>1333</th>\n",
              "      <td>1333</td>\n",
              "      <td>1eV1AOW0I6VkD5snXEje5y</td>\n",
              "      <td>Struttin' With Some Barbecue - 78 rpm Version</td>\n",
              "      <td>0.0</td>\n",
              "      <td>183947</td>\n",
              "      <td>0</td>\n",
              "      <td>Louis Armstrong &amp; His Hot Five</td>\n",
              "      <td>0t4VVR2T9Sb0z3NdDdEU6S</td>\n",
              "      <td>1925-01-01</td>\n",
              "      <td>0.731</td>\n",
              "      <td>...</td>\n",
              "      <td>8.0</td>\n",
              "      <td>-7.941</td>\n",
              "      <td>1.0</td>\n",
              "      <td>0.1250</td>\n",
              "      <td>0.932</td>\n",
              "      <td>0.863000</td>\n",
              "      <td>0.0481</td>\n",
              "      <td>0.8840</td>\n",
              "      <td>95.973</td>\n",
              "      <td>4.0</td>\n",
              "    </tr>\n",
              "    <tr>\n",
              "      <th>300</th>\n",
              "      <td>300</td>\n",
              "      <td>10qdz1AgvZt7ZKWi58Wutx</td>\n",
              "      <td>Quiereme,Que ganas me dieron - en vivo</td>\n",
              "      <td>2.0</td>\n",
              "      <td>416984</td>\n",
              "      <td>0</td>\n",
              "      <td>Yiyo y Los Chicos 10</td>\n",
              "      <td>6JXytsNesnjzxv4tHWbe9I</td>\n",
              "      <td>1923-01-01</td>\n",
              "      <td>0.576</td>\n",
              "      <td>...</td>\n",
              "      <td>11.0</td>\n",
              "      <td>-8.367</td>\n",
              "      <td>1.0</td>\n",
              "      <td>0.0498</td>\n",
              "      <td>0.485</td>\n",
              "      <td>0.000000</td>\n",
              "      <td>0.4500</td>\n",
              "      <td>0.8240</td>\n",
              "      <td>105.498</td>\n",
              "      <td>4.0</td>\n",
              "    </tr>\n",
              "    <tr>\n",
              "      <th>155</th>\n",
              "      <td>155</td>\n",
              "      <td>0V1iYWPXCBTaB6dhbiprGF</td>\n",
              "      <td>Send Me to the 'Lectric Chair</td>\n",
              "      <td>26.0</td>\n",
              "      <td>201480</td>\n",
              "      <td>0</td>\n",
              "      <td>Bessie Smith</td>\n",
              "      <td>5ESobCkc6JI4tIMxQttqeg</td>\n",
              "      <td>1923-01-01</td>\n",
              "      <td>0.771</td>\n",
              "      <td>...</td>\n",
              "      <td>3.0</td>\n",
              "      <td>-7.788</td>\n",
              "      <td>1.0</td>\n",
              "      <td>0.0613</td>\n",
              "      <td>0.986</td>\n",
              "      <td>0.000141</td>\n",
              "      <td>0.1520</td>\n",
              "      <td>0.6010</td>\n",
              "      <td>87.571</td>\n",
              "      <td>4.0</td>\n",
              "    </tr>\n",
              "    <tr>\n",
              "      <th>684</th>\n",
              "      <td>684</td>\n",
              "      <td>7li6UhaaGIR6qcrZKdj1V6</td>\n",
              "      <td>The Four Seasons: 'Winter' in F Minor, RV 297:...</td>\n",
              "      <td>0.0</td>\n",
              "      <td>230910</td>\n",
              "      <td>0</td>\n",
              "      <td>Qatar Concert Choir, Giovanni Pasini</td>\n",
              "      <td>1yZrW6JwnjZ9KJ3woXrZFV, 06pn5m7HcOR4nvQtRBBpq8</td>\n",
              "      <td>1923-01-01</td>\n",
              "      <td>0.419</td>\n",
              "      <td>...</td>\n",
              "      <td>5.0</td>\n",
              "      <td>-18.409</td>\n",
              "      <td>0.0</td>\n",
              "      <td>0.0476</td>\n",
              "      <td>0.994</td>\n",
              "      <td>0.960000</td>\n",
              "      <td>0.0681</td>\n",
              "      <td>0.0661</td>\n",
              "      <td>127.638</td>\n",
              "      <td>4.0</td>\n",
              "    </tr>\n",
              "    <tr>\n",
              "      <th>1262</th>\n",
              "      <td>1262</td>\n",
              "      <td>0tbQ84XDd41wGegn3ZWM8O</td>\n",
              "      <td>Wild Man Blues</td>\n",
              "      <td>0.0</td>\n",
              "      <td>188867</td>\n",
              "      <td>0</td>\n",
              "      <td>Louis Armstrong &amp; His Hot Seven</td>\n",
              "      <td>267SHEPfqnF16IEmwbLhLQ</td>\n",
              "      <td>1925-01-01</td>\n",
              "      <td>0.676</td>\n",
              "      <td>...</td>\n",
              "      <td>0.0</td>\n",
              "      <td>-8.629</td>\n",
              "      <td>NaN</td>\n",
              "      <td>0.0563</td>\n",
              "      <td>0.971</td>\n",
              "      <td>0.636000</td>\n",
              "      <td>NaN</td>\n",
              "      <td>0.5920</td>\n",
              "      <td>95.636</td>\n",
              "      <td>4.0</td>\n",
              "    </tr>\n",
              "    <tr>\n",
              "      <th>1348</th>\n",
              "      <td>1348</td>\n",
              "      <td>1tfqyY25BGDrwTfpmLrdqH</td>\n",
              "      <td>My Heart</td>\n",
              "      <td>1.0</td>\n",
              "      <td>142907</td>\n",
              "      <td>0</td>\n",
              "      <td>Louis Armstrong &amp; His Hot Five</td>\n",
              "      <td>0t4VVR2T9Sb0z3NdDdEU6S</td>\n",
              "      <td>1925-01-01</td>\n",
              "      <td>0.696</td>\n",
              "      <td>...</td>\n",
              "      <td>0.0</td>\n",
              "      <td>-7.236</td>\n",
              "      <td>0.0</td>\n",
              "      <td>0.0964</td>\n",
              "      <td>0.985</td>\n",
              "      <td>0.145000</td>\n",
              "      <td>0.0904</td>\n",
              "      <td>0.8250</td>\n",
              "      <td>97.808</td>\n",
              "      <td>4.0</td>\n",
              "    </tr>\n",
              "    <tr>\n",
              "      <th>1396</th>\n",
              "      <td>1396</td>\n",
              "      <td>2QIDcdAAd6C8k9AgVuNSAn</td>\n",
              "      <td>Georgia Grind</td>\n",
              "      <td>0.0</td>\n",
              "      <td>151560</td>\n",
              "      <td>0</td>\n",
              "      <td>Louis Armstrong &amp; His Hot Five</td>\n",
              "      <td>0t4VVR2T9Sb0z3NdDdEU6S</td>\n",
              "      <td>1925-01-01</td>\n",
              "      <td>0.733</td>\n",
              "      <td>...</td>\n",
              "      <td>8.0</td>\n",
              "      <td>-14.649</td>\n",
              "      <td>1.0</td>\n",
              "      <td>0.0603</td>\n",
              "      <td>0.908</td>\n",
              "      <td>0.000000</td>\n",
              "      <td>0.1780</td>\n",
              "      <td>NaN</td>\n",
              "      <td>140.380</td>\n",
              "      <td>4.0</td>\n",
              "    </tr>\n",
              "    <tr>\n",
              "      <th>1757</th>\n",
              "      <td>1757</td>\n",
              "      <td>6bJSv9LwGHdjJCNiyuVCA3</td>\n",
              "      <td>Smokehouse Blues</td>\n",
              "      <td>0.0</td>\n",
              "      <td>191560</td>\n",
              "      <td>0</td>\n",
              "      <td>Jelly Roll Morton</td>\n",
              "      <td>4XepUkisa56DUeA3gbjDQD</td>\n",
              "      <td>1925-01-01</td>\n",
              "      <td>0.646</td>\n",
              "      <td>...</td>\n",
              "      <td>8.0</td>\n",
              "      <td>NaN</td>\n",
              "      <td>1.0</td>\n",
              "      <td>0.0462</td>\n",
              "      <td>NaN</td>\n",
              "      <td>0.779000</td>\n",
              "      <td>0.0862</td>\n",
              "      <td>0.8500</td>\n",
              "      <td>123.100</td>\n",
              "      <td>4.0</td>\n",
              "    </tr>\n",
              "    <tr>\n",
              "      <th>1759</th>\n",
              "      <td>1759</td>\n",
              "      <td>6dsL7a4SRSkcKkMDEbwyt3</td>\n",
              "      <td>Глава 5. Часть 1.9 - Кюхля</td>\n",
              "      <td>0.0</td>\n",
              "      <td>248100</td>\n",
              "      <td>0</td>\n",
              "      <td>Юрий Тынянов</td>\n",
              "      <td>0a39oecVf6UdscqWdiK1ny</td>\n",
              "      <td>1925-03-24</td>\n",
              "      <td>0.666</td>\n",
              "      <td>...</td>\n",
              "      <td>6.0</td>\n",
              "      <td>-20.545</td>\n",
              "      <td>1.0</td>\n",
              "      <td>0.9660</td>\n",
              "      <td>0.821</td>\n",
              "      <td>0.000000</td>\n",
              "      <td>0.2790</td>\n",
              "      <td>0.5030</td>\n",
              "      <td>59.988</td>\n",
              "      <td>5.0</td>\n",
              "    </tr>\n",
              "  </tbody>\n",
              "</table>\n",
              "<p>10 rows × 21 columns</p>\n",
              "</div>\n",
              "      <button class=\"colab-df-convert\" onclick=\"convertToInteractive('df-7eebfbed-2484-4ab0-be4e-9f7c3bdfc46f')\"\n",
              "              title=\"Convert this dataframe to an interactive table.\"\n",
              "              style=\"display:none;\">\n",
              "        \n",
              "  <svg xmlns=\"http://www.w3.org/2000/svg\" height=\"24px\"viewBox=\"0 0 24 24\"\n",
              "       width=\"24px\">\n",
              "    <path d=\"M0 0h24v24H0V0z\" fill=\"none\"/>\n",
              "    <path d=\"M18.56 5.44l.94 2.06.94-2.06 2.06-.94-2.06-.94-.94-2.06-.94 2.06-2.06.94zm-11 1L8.5 8.5l.94-2.06 2.06-.94-2.06-.94L8.5 2.5l-.94 2.06-2.06.94zm10 10l.94 2.06.94-2.06 2.06-.94-2.06-.94-.94-2.06-.94 2.06-2.06.94z\"/><path d=\"M17.41 7.96l-1.37-1.37c-.4-.4-.92-.59-1.43-.59-.52 0-1.04.2-1.43.59L10.3 9.45l-7.72 7.72c-.78.78-.78 2.05 0 2.83L4 21.41c.39.39.9.59 1.41.59.51 0 1.02-.2 1.41-.59l7.78-7.78 2.81-2.81c.8-.78.8-2.07 0-2.86zM5.41 20L4 18.59l7.72-7.72 1.47 1.35L5.41 20z\"/>\n",
              "  </svg>\n",
              "      </button>\n",
              "      \n",
              "  <style>\n",
              "    .colab-df-container {\n",
              "      display:flex;\n",
              "      flex-wrap:wrap;\n",
              "      gap: 12px;\n",
              "    }\n",
              "\n",
              "    .colab-df-convert {\n",
              "      background-color: #E8F0FE;\n",
              "      border: none;\n",
              "      border-radius: 50%;\n",
              "      cursor: pointer;\n",
              "      display: none;\n",
              "      fill: #1967D2;\n",
              "      height: 32px;\n",
              "      padding: 0 0 0 0;\n",
              "      width: 32px;\n",
              "    }\n",
              "\n",
              "    .colab-df-convert:hover {\n",
              "      background-color: #E2EBFA;\n",
              "      box-shadow: 0px 1px 2px rgba(60, 64, 67, 0.3), 0px 1px 3px 1px rgba(60, 64, 67, 0.15);\n",
              "      fill: #174EA6;\n",
              "    }\n",
              "\n",
              "    [theme=dark] .colab-df-convert {\n",
              "      background-color: #3B4455;\n",
              "      fill: #D2E3FC;\n",
              "    }\n",
              "\n",
              "    [theme=dark] .colab-df-convert:hover {\n",
              "      background-color: #434B5C;\n",
              "      box-shadow: 0px 1px 3px 1px rgba(0, 0, 0, 0.15);\n",
              "      filter: drop-shadow(0px 1px 2px rgba(0, 0, 0, 0.3));\n",
              "      fill: #FFFFFF;\n",
              "    }\n",
              "  </style>\n",
              "\n",
              "      <script>\n",
              "        const buttonEl =\n",
              "          document.querySelector('#df-7eebfbed-2484-4ab0-be4e-9f7c3bdfc46f button.colab-df-convert');\n",
              "        buttonEl.style.display =\n",
              "          google.colab.kernel.accessAllowed ? 'block' : 'none';\n",
              "\n",
              "        async function convertToInteractive(key) {\n",
              "          const element = document.querySelector('#df-7eebfbed-2484-4ab0-be4e-9f7c3bdfc46f');\n",
              "          const dataTable =\n",
              "            await google.colab.kernel.invokeFunction('convertToInteractive',\n",
              "                                                     [key], {});\n",
              "          if (!dataTable) return;\n",
              "\n",
              "          const docLinkHtml = 'Like what you see? Visit the ' +\n",
              "            '<a target=\"_blank\" href=https://colab.research.google.com/notebooks/data_table.ipynb>data table notebook</a>'\n",
              "            + ' to learn more about interactive tables.';\n",
              "          element.innerHTML = '';\n",
              "          dataTable['output_type'] = 'display_data';\n",
              "          await google.colab.output.renderOutput(dataTable, element);\n",
              "          const docLink = document.createElement('div');\n",
              "          docLink.innerHTML = docLinkHtml;\n",
              "          element.appendChild(docLink);\n",
              "        }\n",
              "      </script>\n",
              "    </div>\n",
              "  </div>\n",
              "  "
            ]
          },
          "metadata": {},
          "execution_count": 10
        }
      ]
    },
    {
      "cell_type": "markdown",
      "source": [
        "### Cleaning the data"
      ],
      "metadata": {
        "id": "Jv6Vy0MnEpti"
      }
    },
    {
      "cell_type": "code",
      "source": [
        "tracks_df.dropna(inplace=True)"
      ],
      "metadata": {
        "id": "Q57HueScEsUh"
      },
      "execution_count": null,
      "outputs": []
    },
    {
      "cell_type": "code",
      "source": [
        "tracks_df.shape"
      ],
      "metadata": {
        "colab": {
          "base_uri": "https://localhost:8080/"
        },
        "id": "06iw1BxlEuzC",
        "outputId": "f53ade5a-940f-494c-dc69-acdd78aa0264"
      },
      "execution_count": null,
      "outputs": [
        {
          "output_type": "execute_result",
          "data": {
            "text/plain": [
              "(348066, 21)"
            ]
          },
          "metadata": {},
          "execution_count": 21
        }
      ]
    },
    {
      "cell_type": "code",
      "source": [
        "print(f\"Lost data: {round(1 - tracks_df.shape[0] / 586672, 2)}%\")"
      ],
      "metadata": {
        "colab": {
          "base_uri": "https://localhost:8080/"
        },
        "id": "R9M5jVFRExOx",
        "outputId": "8f7fee92-0fa2-487d-face-f297cf739cf6"
      },
      "execution_count": null,
      "outputs": [
        {
          "output_type": "stream",
          "name": "stdout",
          "text": [
            "Lost data: 0.41%\n"
          ]
        }
      ]
    },
    {
      "cell_type": "markdown",
      "source": [
        "### Building the similarity model\n"
      ],
      "metadata": {
        "id": "9MvwO24O9Qvn"
      }
    },
    {
      "cell_type": "code",
      "source": [
        "features = [\"explicit\", \"danceability\", \"energy\", \"loudness\", \"speechiness\", \"liveness\", \"valence\"]\n",
        "len_features = len(features)"
      ],
      "metadata": {
        "id": "DCCeKSOk9JAb"
      },
      "execution_count": null,
      "outputs": []
    },
    {
      "cell_type": "code",
      "source": [
        "annoy = AnnoyIndex(len_features, \"euclidean\")"
      ],
      "metadata": {
        "id": "8jc8wUwH9Utm"
      },
      "execution_count": null,
      "outputs": []
    },
    {
      "cell_type": "code",
      "source": [
        "for i in tracks_df.index:\n",
        "    v = tracks_df.loc[i][features].values\n",
        "    annoy.add_item(i, v)"
      ],
      "metadata": {
        "id": "KlmnwXZz9Wxh"
      },
      "execution_count": null,
      "outputs": []
    },
    {
      "cell_type": "code",
      "source": [
        "annoy.build(1000, n_jobs=-1)"
      ],
      "metadata": {
        "colab": {
          "base_uri": "https://localhost:8080/"
        },
        "id": "6gCLPbS-9Ynv",
        "outputId": "596cbb22-bc56-4221-a82b-6158fb3c1f6a"
      },
      "execution_count": null,
      "outputs": [
        {
          "output_type": "execute_result",
          "data": {
            "text/plain": [
              "True"
            ]
          },
          "metadata": {},
          "execution_count": 10
        }
      ]
    },
    {
      "cell_type": "code",
      "source": [
        "annoy.save(\"spotify.ann\")"
      ],
      "metadata": {
        "colab": {
          "base_uri": "https://localhost:8080/"
        },
        "id": "SeBXdEfM9bia",
        "outputId": "e0c0b330-909c-415c-b054-b2dc0a45a3bc"
      },
      "execution_count": null,
      "outputs": [
        {
          "output_type": "execute_result",
          "data": {
            "text/plain": [
              "True"
            ]
          },
          "metadata": {},
          "execution_count": 11
        }
      ]
    },
    {
      "cell_type": "code",
      "source": [
        "from google.colab import drive\n",
        "drive.mount('/content/drive')\n",
        "\n",
        "!cp spotify.ann /content/drive/MyDrive/"
      ],
      "metadata": {
        "colab": {
          "base_uri": "https://localhost:8080/"
        },
        "id": "RzrfqhRJFe7K",
        "outputId": "1cd92898-f4fc-49c4-fb20-dd4ab1de7794"
      },
      "execution_count": null,
      "outputs": [
        {
          "output_type": "stream",
          "name": "stdout",
          "text": [
            "Drive already mounted at /content/drive; to attempt to forcibly remount, call drive.mount(\"/content/drive\", force_remount=True).\n",
            "^C\n"
          ]
        }
      ]
    },
    {
      "cell_type": "markdown",
      "source": [
        "### Getting similar songs"
      ],
      "metadata": {
        "id": "aMaz86nBDUBu"
      }
    },
    {
      "cell_type": "code",
      "source": [
        "annoy_loaded = AnnoyIndex(len_features, \"euclidean\")"
      ],
      "metadata": {
        "id": "u1pVhT2zDSur"
      },
      "execution_count": null,
      "outputs": []
    },
    {
      "cell_type": "code",
      "source": [
        "annoy_loaded.load(\"spotify.ann\")"
      ],
      "metadata": {
        "colab": {
          "base_uri": "https://localhost:8080/"
        },
        "id": "tk_ydVEEEEE2",
        "outputId": "a37638cb-a75a-4715-caf3-bc4e5ba1730f"
      },
      "execution_count": null,
      "outputs": [
        {
          "output_type": "execute_result",
          "data": {
            "text/plain": [
              "True"
            ]
          },
          "metadata": {},
          "execution_count": 13
        }
      ]
    },
    {
      "cell_type": "code",
      "source": [
        "tracks_df.dropna(inplace=True)"
      ],
      "metadata": {
        "id": "a0XQzYsgEMvz"
      },
      "execution_count": null,
      "outputs": []
    },
    {
      "cell_type": "code",
      "source": [
        "maluma_tracks_df = tracks_df.loc[tracks_df[\"artists\"].str.contains(\"Maluma\")]\n",
        "maluma_tracks_df[\"release_date\"] = pd.to_datetime(maluma_tracks_df[\"release_date\"])\n",
        "maluma_tracks_df.sort_values(by=[\"release_date\"], ascending=False).head(1)"
      ],
      "metadata": {
        "colab": {
          "base_uri": "https://localhost:8080/",
          "height": 335
        },
        "id": "v_f3owl9EGRt",
        "outputId": "f8166f30-c203-46d1-ed9e-e0e666bbae82"
      },
      "execution_count": null,
      "outputs": [
        {
          "output_type": "stream",
          "name": "stderr",
          "text": [
            "<ipython-input-19-9a31c345603b>:2: SettingWithCopyWarning: \n",
            "A value is trying to be set on a copy of a slice from a DataFrame.\n",
            "Try using .loc[row_indexer,col_indexer] = value instead\n",
            "\n",
            "See the caveats in the documentation: https://pandas.pydata.org/pandas-docs/stable/user_guide/indexing.html#returning-a-view-versus-a-copy\n",
            "  maluma_tracks_df[\"release_date\"] = pd.to_datetime(maluma_tracks_df[\"release_date\"])\n"
          ]
        },
        {
          "output_type": "execute_result",
          "data": {
            "text/plain": [
              "        Unnamed: 0                      id    name  popularity  duration_ms  \\\n",
              "353004      353004  6cDE7xhQZBSHNWB5RX0U9l  Créeme         0.0       214293   \n",
              "\n",
              "        explicit          artists  \\\n",
              "353004         0  KAROL G, Maluma   \n",
              "\n",
              "                                            id_artists release_date  \\\n",
              "353004  790FomKkXshlbRYZFtlgla, 1r4hJ1h58CWwUQe3MxPuau   2021-04-14   \n",
              "\n",
              "        danceability  ...  key  loudness  mode  speechiness  acousticness  \\\n",
              "353004         0.714  ...  6.0    -3.576   1.0       0.0549         0.128   \n",
              "\n",
              "        instrumentalness  liveness  valence   tempo  time_signature  \n",
              "353004          0.000146     0.105    0.648  96.998             4.0  \n",
              "\n",
              "[1 rows x 21 columns]"
            ],
            "text/html": [
              "\n",
              "  <div id=\"df-513b9ea1-b625-426d-b833-a6da3ef6e225\">\n",
              "    <div class=\"colab-df-container\">\n",
              "      <div>\n",
              "<style scoped>\n",
              "    .dataframe tbody tr th:only-of-type {\n",
              "        vertical-align: middle;\n",
              "    }\n",
              "\n",
              "    .dataframe tbody tr th {\n",
              "        vertical-align: top;\n",
              "    }\n",
              "\n",
              "    .dataframe thead th {\n",
              "        text-align: right;\n",
              "    }\n",
              "</style>\n",
              "<table border=\"1\" class=\"dataframe\">\n",
              "  <thead>\n",
              "    <tr style=\"text-align: right;\">\n",
              "      <th></th>\n",
              "      <th>Unnamed: 0</th>\n",
              "      <th>id</th>\n",
              "      <th>name</th>\n",
              "      <th>popularity</th>\n",
              "      <th>duration_ms</th>\n",
              "      <th>explicit</th>\n",
              "      <th>artists</th>\n",
              "      <th>id_artists</th>\n",
              "      <th>release_date</th>\n",
              "      <th>danceability</th>\n",
              "      <th>...</th>\n",
              "      <th>key</th>\n",
              "      <th>loudness</th>\n",
              "      <th>mode</th>\n",
              "      <th>speechiness</th>\n",
              "      <th>acousticness</th>\n",
              "      <th>instrumentalness</th>\n",
              "      <th>liveness</th>\n",
              "      <th>valence</th>\n",
              "      <th>tempo</th>\n",
              "      <th>time_signature</th>\n",
              "    </tr>\n",
              "  </thead>\n",
              "  <tbody>\n",
              "    <tr>\n",
              "      <th>353004</th>\n",
              "      <td>353004</td>\n",
              "      <td>6cDE7xhQZBSHNWB5RX0U9l</td>\n",
              "      <td>Créeme</td>\n",
              "      <td>0.0</td>\n",
              "      <td>214293</td>\n",
              "      <td>0</td>\n",
              "      <td>KAROL G, Maluma</td>\n",
              "      <td>790FomKkXshlbRYZFtlgla, 1r4hJ1h58CWwUQe3MxPuau</td>\n",
              "      <td>2021-04-14</td>\n",
              "      <td>0.714</td>\n",
              "      <td>...</td>\n",
              "      <td>6.0</td>\n",
              "      <td>-3.576</td>\n",
              "      <td>1.0</td>\n",
              "      <td>0.0549</td>\n",
              "      <td>0.128</td>\n",
              "      <td>0.000146</td>\n",
              "      <td>0.105</td>\n",
              "      <td>0.648</td>\n",
              "      <td>96.998</td>\n",
              "      <td>4.0</td>\n",
              "    </tr>\n",
              "  </tbody>\n",
              "</table>\n",
              "<p>1 rows × 21 columns</p>\n",
              "</div>\n",
              "      <button class=\"colab-df-convert\" onclick=\"convertToInteractive('df-513b9ea1-b625-426d-b833-a6da3ef6e225')\"\n",
              "              title=\"Convert this dataframe to an interactive table.\"\n",
              "              style=\"display:none;\">\n",
              "        \n",
              "  <svg xmlns=\"http://www.w3.org/2000/svg\" height=\"24px\"viewBox=\"0 0 24 24\"\n",
              "       width=\"24px\">\n",
              "    <path d=\"M0 0h24v24H0V0z\" fill=\"none\"/>\n",
              "    <path d=\"M18.56 5.44l.94 2.06.94-2.06 2.06-.94-2.06-.94-.94-2.06-.94 2.06-2.06.94zm-11 1L8.5 8.5l.94-2.06 2.06-.94-2.06-.94L8.5 2.5l-.94 2.06-2.06.94zm10 10l.94 2.06.94-2.06 2.06-.94-2.06-.94-.94-2.06-.94 2.06-2.06.94z\"/><path d=\"M17.41 7.96l-1.37-1.37c-.4-.4-.92-.59-1.43-.59-.52 0-1.04.2-1.43.59L10.3 9.45l-7.72 7.72c-.78.78-.78 2.05 0 2.83L4 21.41c.39.39.9.59 1.41.59.51 0 1.02-.2 1.41-.59l7.78-7.78 2.81-2.81c.8-.78.8-2.07 0-2.86zM5.41 20L4 18.59l7.72-7.72 1.47 1.35L5.41 20z\"/>\n",
              "  </svg>\n",
              "      </button>\n",
              "      \n",
              "  <style>\n",
              "    .colab-df-container {\n",
              "      display:flex;\n",
              "      flex-wrap:wrap;\n",
              "      gap: 12px;\n",
              "    }\n",
              "\n",
              "    .colab-df-convert {\n",
              "      background-color: #E8F0FE;\n",
              "      border: none;\n",
              "      border-radius: 50%;\n",
              "      cursor: pointer;\n",
              "      display: none;\n",
              "      fill: #1967D2;\n",
              "      height: 32px;\n",
              "      padding: 0 0 0 0;\n",
              "      width: 32px;\n",
              "    }\n",
              "\n",
              "    .colab-df-convert:hover {\n",
              "      background-color: #E2EBFA;\n",
              "      box-shadow: 0px 1px 2px rgba(60, 64, 67, 0.3), 0px 1px 3px 1px rgba(60, 64, 67, 0.15);\n",
              "      fill: #174EA6;\n",
              "    }\n",
              "\n",
              "    [theme=dark] .colab-df-convert {\n",
              "      background-color: #3B4455;\n",
              "      fill: #D2E3FC;\n",
              "    }\n",
              "\n",
              "    [theme=dark] .colab-df-convert:hover {\n",
              "      background-color: #434B5C;\n",
              "      box-shadow: 0px 1px 3px 1px rgba(0, 0, 0, 0.15);\n",
              "      filter: drop-shadow(0px 1px 2px rgba(0, 0, 0, 0.3));\n",
              "      fill: #FFFFFF;\n",
              "    }\n",
              "  </style>\n",
              "\n",
              "      <script>\n",
              "        const buttonEl =\n",
              "          document.querySelector('#df-513b9ea1-b625-426d-b833-a6da3ef6e225 button.colab-df-convert');\n",
              "        buttonEl.style.display =\n",
              "          google.colab.kernel.accessAllowed ? 'block' : 'none';\n",
              "\n",
              "        async function convertToInteractive(key) {\n",
              "          const element = document.querySelector('#df-513b9ea1-b625-426d-b833-a6da3ef6e225');\n",
              "          const dataTable =\n",
              "            await google.colab.kernel.invokeFunction('convertToInteractive',\n",
              "                                                     [key], {});\n",
              "          if (!dataTable) return;\n",
              "\n",
              "          const docLinkHtml = 'Like what you see? Visit the ' +\n",
              "            '<a target=\"_blank\" href=https://colab.research.google.com/notebooks/data_table.ipynb>data table notebook</a>'\n",
              "            + ' to learn more about interactive tables.';\n",
              "          element.innerHTML = '';\n",
              "          dataTable['output_type'] = 'display_data';\n",
              "          await google.colab.output.renderOutput(dataTable, element);\n",
              "          const docLink = document.createElement('div');\n",
              "          docLink.innerHTML = docLinkHtml;\n",
              "          element.appendChild(docLink);\n",
              "        }\n",
              "      </script>\n",
              "    </div>\n",
              "  </div>\n",
              "  "
            ]
          },
          "metadata": {},
          "execution_count": 19
        }
      ]
    },
    {
      "cell_type": "code",
      "source": [
        "tracks_df.sample()[features]"
      ],
      "metadata": {
        "id": "O4qDZxVkJ9Kl",
        "outputId": "a13b4bb7-6185-420d-ac7a-19584731aa31",
        "colab": {
          "base_uri": "https://localhost:8080/",
          "height": 81
        }
      },
      "execution_count": null,
      "outputs": [
        {
          "output_type": "execute_result",
          "data": {
            "text/plain": [
              "       explicit  danceability  energy  loudness  speechiness  liveness  \\\n",
              "48621         0          0.71   0.387    -12.82       0.0484     0.113   \n",
              "\n",
              "       valence  \n",
              "48621    0.806  "
            ],
            "text/html": [
              "\n",
              "  <div id=\"df-ed3b90ca-6faf-4ac8-8c75-e9366ccedefb\">\n",
              "    <div class=\"colab-df-container\">\n",
              "      <div>\n",
              "<style scoped>\n",
              "    .dataframe tbody tr th:only-of-type {\n",
              "        vertical-align: middle;\n",
              "    }\n",
              "\n",
              "    .dataframe tbody tr th {\n",
              "        vertical-align: top;\n",
              "    }\n",
              "\n",
              "    .dataframe thead th {\n",
              "        text-align: right;\n",
              "    }\n",
              "</style>\n",
              "<table border=\"1\" class=\"dataframe\">\n",
              "  <thead>\n",
              "    <tr style=\"text-align: right;\">\n",
              "      <th></th>\n",
              "      <th>explicit</th>\n",
              "      <th>danceability</th>\n",
              "      <th>energy</th>\n",
              "      <th>loudness</th>\n",
              "      <th>speechiness</th>\n",
              "      <th>liveness</th>\n",
              "      <th>valence</th>\n",
              "    </tr>\n",
              "  </thead>\n",
              "  <tbody>\n",
              "    <tr>\n",
              "      <th>48621</th>\n",
              "      <td>0</td>\n",
              "      <td>0.71</td>\n",
              "      <td>0.387</td>\n",
              "      <td>-12.82</td>\n",
              "      <td>0.0484</td>\n",
              "      <td>0.113</td>\n",
              "      <td>0.806</td>\n",
              "    </tr>\n",
              "  </tbody>\n",
              "</table>\n",
              "</div>\n",
              "      <button class=\"colab-df-convert\" onclick=\"convertToInteractive('df-ed3b90ca-6faf-4ac8-8c75-e9366ccedefb')\"\n",
              "              title=\"Convert this dataframe to an interactive table.\"\n",
              "              style=\"display:none;\">\n",
              "        \n",
              "  <svg xmlns=\"http://www.w3.org/2000/svg\" height=\"24px\"viewBox=\"0 0 24 24\"\n",
              "       width=\"24px\">\n",
              "    <path d=\"M0 0h24v24H0V0z\" fill=\"none\"/>\n",
              "    <path d=\"M18.56 5.44l.94 2.06.94-2.06 2.06-.94-2.06-.94-.94-2.06-.94 2.06-2.06.94zm-11 1L8.5 8.5l.94-2.06 2.06-.94-2.06-.94L8.5 2.5l-.94 2.06-2.06.94zm10 10l.94 2.06.94-2.06 2.06-.94-2.06-.94-.94-2.06-.94 2.06-2.06.94z\"/><path d=\"M17.41 7.96l-1.37-1.37c-.4-.4-.92-.59-1.43-.59-.52 0-1.04.2-1.43.59L10.3 9.45l-7.72 7.72c-.78.78-.78 2.05 0 2.83L4 21.41c.39.39.9.59 1.41.59.51 0 1.02-.2 1.41-.59l7.78-7.78 2.81-2.81c.8-.78.8-2.07 0-2.86zM5.41 20L4 18.59l7.72-7.72 1.47 1.35L5.41 20z\"/>\n",
              "  </svg>\n",
              "      </button>\n",
              "      \n",
              "  <style>\n",
              "    .colab-df-container {\n",
              "      display:flex;\n",
              "      flex-wrap:wrap;\n",
              "      gap: 12px;\n",
              "    }\n",
              "\n",
              "    .colab-df-convert {\n",
              "      background-color: #E8F0FE;\n",
              "      border: none;\n",
              "      border-radius: 50%;\n",
              "      cursor: pointer;\n",
              "      display: none;\n",
              "      fill: #1967D2;\n",
              "      height: 32px;\n",
              "      padding: 0 0 0 0;\n",
              "      width: 32px;\n",
              "    }\n",
              "\n",
              "    .colab-df-convert:hover {\n",
              "      background-color: #E2EBFA;\n",
              "      box-shadow: 0px 1px 2px rgba(60, 64, 67, 0.3), 0px 1px 3px 1px rgba(60, 64, 67, 0.15);\n",
              "      fill: #174EA6;\n",
              "    }\n",
              "\n",
              "    [theme=dark] .colab-df-convert {\n",
              "      background-color: #3B4455;\n",
              "      fill: #D2E3FC;\n",
              "    }\n",
              "\n",
              "    [theme=dark] .colab-df-convert:hover {\n",
              "      background-color: #434B5C;\n",
              "      box-shadow: 0px 1px 3px 1px rgba(0, 0, 0, 0.15);\n",
              "      filter: drop-shadow(0px 1px 2px rgba(0, 0, 0, 0.3));\n",
              "      fill: #FFFFFF;\n",
              "    }\n",
              "  </style>\n",
              "\n",
              "      <script>\n",
              "        const buttonEl =\n",
              "          document.querySelector('#df-ed3b90ca-6faf-4ac8-8c75-e9366ccedefb button.colab-df-convert');\n",
              "        buttonEl.style.display =\n",
              "          google.colab.kernel.accessAllowed ? 'block' : 'none';\n",
              "\n",
              "        async function convertToInteractive(key) {\n",
              "          const element = document.querySelector('#df-ed3b90ca-6faf-4ac8-8c75-e9366ccedefb');\n",
              "          const dataTable =\n",
              "            await google.colab.kernel.invokeFunction('convertToInteractive',\n",
              "                                                     [key], {});\n",
              "          if (!dataTable) return;\n",
              "\n",
              "          const docLinkHtml = 'Like what you see? Visit the ' +\n",
              "            '<a target=\"_blank\" href=https://colab.research.google.com/notebooks/data_table.ipynb>data table notebook</a>'\n",
              "            + ' to learn more about interactive tables.';\n",
              "          element.innerHTML = '';\n",
              "          dataTable['output_type'] = 'display_data';\n",
              "          await google.colab.output.renderOutput(dataTable, element);\n",
              "          const docLink = document.createElement('div');\n",
              "          docLink.innerHTML = docLinkHtml;\n",
              "          element.appendChild(docLink);\n",
              "        }\n",
              "      </script>\n",
              "    </div>\n",
              "  </div>\n",
              "  "
            ]
          },
          "metadata": {},
          "execution_count": 33
        }
      ]
    },
    {
      "cell_type": "code",
      "source": [
        "tracks_df.sample()[features].to_json()"
      ],
      "metadata": {
        "colab": {
          "base_uri": "https://localhost:8080/",
          "height": 54
        },
        "id": "qCRf5cXZJN2p",
        "outputId": "52188721-852d-4429-8005-cea17d8561eb"
      },
      "execution_count": null,
      "outputs": [
        {
          "output_type": "execute_result",
          "data": {
            "text/plain": [
              "'{\"explicit\":{\"207255\":0},\"danceability\":{\"207255\":0.872},\"energy\":{\"207255\":0.514},\"loudness\":{\"207255\":-9.52},\"speechiness\":{\"207255\":0.0652},\"liveness\":{\"207255\":0.249},\"valence\":{\"207255\":0.93}}'"
            ],
            "application/vnd.google.colaboratory.intrinsic+json": {
              "type": "string"
            }
          },
          "metadata": {},
          "execution_count": 32
        }
      ]
    }
  ]
}