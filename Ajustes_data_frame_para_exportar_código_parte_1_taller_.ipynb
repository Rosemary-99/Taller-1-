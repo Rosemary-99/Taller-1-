{
  "nbformat": 4,
  "nbformat_minor": 0,
  "metadata": {
    "colab": {
      "provenance": [],
      "include_colab_link": true
    },
    "kernelspec": {
      "name": "python3",
      "display_name": "Python 3"
    },
    "language_info": {
      "name": "python"
    }
  },
  "cells": [
    {
      "cell_type": "markdown",
      "metadata": {
        "id": "view-in-github",
        "colab_type": "text"
      },
      "source": [
        "<a href=\"https://colab.research.google.com/github/Rosemary-99/Taller-1-/blob/main/Ajustes_data_frame_para_exportar_c%C3%B3digo_parte_1_taller_.ipynb\" target=\"_parent\"><img src=\"https://colab.research.google.com/assets/colab-badge.svg\" alt=\"Open In Colab\"/></a>"
      ]
    },
    {
      "cell_type": "code",
      "source": [
        "#!pip install pandas-profiling --upgrade"
      ],
      "metadata": {
        "id": "nDSFpjXZki6L"
      },
      "execution_count": null,
      "outputs": []
    },
    {
      "cell_type": "code",
      "execution_count": null,
      "metadata": {
        "id": "fK2c7sVhOm4E"
      },
      "outputs": [],
      "source": [
        "import pandas as pd\n",
        "import matplotlib.pyplot as plt\n",
        "import numpy as np\n",
        "import seaborn as sns\n",
        "import re\n",
        "#from ydata_profiling import ProfileReport"
      ]
    },
    {
      "cell_type": "code",
      "source": [
        "from google.colab import drive\n",
        "drive.mount('/content/drive')"
      ],
      "metadata": {
        "colab": {
          "base_uri": "https://localhost:8080/"
        },
        "id": "s2Ff_2DzQjl6",
        "outputId": "2c78348e-846f-4bec-fda8-be331fab797d"
      },
      "execution_count": null,
      "outputs": [
        {
          "output_type": "stream",
          "name": "stdout",
          "text": [
            "Mounted at /content/drive\n"
          ]
        }
      ]
    },
    {
      "cell_type": "markdown",
      "source": [
        "# Track_mod"
      ],
      "metadata": {
        "id": "D9FiRFe7pUhR"
      }
    },
    {
      "cell_type": "markdown",
      "source": [
        "## Importación"
      ],
      "metadata": {
        "id": "o88eqwBpR8e1"
      }
    },
    {
      "cell_type": "code",
      "source": [
        "track_df = pd.read_csv('/content/drive/MyDrive/Spotify/tracks_mod.csv')"
      ],
      "metadata": {
        "id": "Ldb4rnZCPv1P"
      },
      "execution_count": null,
      "outputs": []
    },
    {
      "cell_type": "code",
      "source": [
        "track_df"
      ],
      "metadata": {
        "colab": {
          "base_uri": "https://localhost:8080/"
        },
        "id": "Z0Bli1IBRxJu",
        "outputId": "ba580c8c-2c34-43c7-fc0a-4e61efb855f1"
      },
      "execution_count": null,
      "outputs": [
        {
          "output_type": "execute_result",
          "data": {
            "text/plain": [
              "                            id                                 name  \\\n",
              "0       35iwgR4jXetI318WEWsa1Q                                Carve   \n",
              "1       021ht4sdgPcrDgSk7JTbKY  Capítulo 2.16 - Banquero Anarquista   \n",
              "2       07A5yehtSnoedViJAZkNnc   Vivo para Quererte - Remasterizado   \n",
              "3       08FmqUhxtyLTn6pAh6bk45        El Prisionero - Remasterizado   \n",
              "4       08y9GfoqCWfOGsKdwojr5e                  Lady of the Evening   \n",
              "...                        ...                                  ...   \n",
              "586667  5rgu12WBIHQtvej2MdHSH0                                  云与海   \n",
              "586668  0NuWgxEp51CutD2pJoF4OM                                blind   \n",
              "586669  27Y1N4Q4U3EfDU5Ubw8ws2            What They'll Say About Us   \n",
              "586670  45XJsGpFTyzbzeWK8VzR8S                      A Day At A Time   \n",
              "586671  5Ocn6dZ3BJFPWh4ylwFXtn                     Mar de Emociones   \n",
              "\n",
              "        popularity  duration_ms  explicit                          artists  \\\n",
              "0              6.0       126903         0                          ['Uli']   \n",
              "1              0.0        98200         0              ['Fernando Pessoa']   \n",
              "2              0.0       181640         0              ['Ignacio Corsini']   \n",
              "3              NaN       176907         0              ['Ignacio Corsini']   \n",
              "4              0.0       163080         0                  ['Dick Haymes']   \n",
              "...            ...          ...       ...                              ...   \n",
              "586667        50.0       258267         0                      ['阿YueYue']   \n",
              "586668        72.0       153293         0                   ['ROLE MODEL']   \n",
              "586669        70.0       187601         0                      ['FINNEAS']   \n",
              "586670        58.0       142003         0  ['Gentle Bones', 'Clara Benin']   \n",
              "586671         NaN       214360         0                    ['Afrosound']   \n",
              "\n",
              "                                               id_artists release_date  \\\n",
              "0                              ['45tIt06XoI0Iio4LBEVpls']   1922-02-22   \n",
              "1                              ['14jtPCOoNZwquk5wd9DxrY']   1922-06-01   \n",
              "2                              ['5LiOoJbxVSAMkBS2fUm3X2']   1922-03-21   \n",
              "3                              ['5LiOoJbxVSAMkBS2fUm3X2']   1922-03-21   \n",
              "4                              ['3BiJGZsyX9sJchTqcSA7Su']         1922   \n",
              "...                                                   ...          ...   \n",
              "586667                         ['1QLBXKM5GCpyQQSVMNZqrZ']   2020-09-26   \n",
              "586668                         ['1dy5WNgIKQU6ezkpZs4y8z']   2020-10-21   \n",
              "586669                         ['37M5pPGs6V1fchFJSgCguX']   2020-09-02   \n",
              "586670  ['4jGPdu95icCKVF31CcFKbS', '5ebPSE9YI5aLeZ1Z2g...   2021-03-05   \n",
              "586671                         ['0i4Qda0k4nf7jnNHmSNpYv']   2015-07-01   \n",
              "\n",
              "        danceability  energy   key  loudness  mode  speechiness  acousticness  \\\n",
              "0              0.645   0.445   0.0   -13.338   1.0       0.4510         0.674   \n",
              "1              0.695   0.263   0.0   -22.136   1.0       0.9570         0.797   \n",
              "2              0.434   0.177   1.0   -21.180   1.0       0.0512         0.994   \n",
              "3              0.321     NaN   7.0   -27.961   1.0       0.0504         0.995   \n",
              "4              0.402   0.158   3.0   -16.900   0.0       0.0390         0.989   \n",
              "...              ...     ...   ...       ...   ...          ...           ...   \n",
              "586667         0.560   0.518   0.0    -7.471   0.0       0.0292         0.785   \n",
              "586668         0.765   0.663   0.0    -5.223   1.0       0.0652         0.141   \n",
              "586669         0.535   0.314   7.0   -12.823   0.0       0.0408         0.895   \n",
              "586670         0.696   0.615  10.0    -6.212   1.0       0.0345         0.206   \n",
              "586671         0.686   0.723   6.0    -7.067   1.0       0.0363         0.105   \n",
              "\n",
              "        instrumentalness  liveness  valence    tempo  time_signature  \n",
              "0               0.744000    0.1510    0.127  104.851             3.0  \n",
              "1               0.000000    0.1480    0.655  102.009             1.0  \n",
              "2               0.021800    0.2120    0.457  130.418             5.0  \n",
              "3               0.918000    0.1040    0.397  169.980             3.0  \n",
              "4               0.130000    0.3110    0.196  103.220             4.0  \n",
              "...                  ...       ...      ...      ...             ...  \n",
              "586667          0.000000    0.0648    0.211  131.896             4.0  \n",
              "586668          0.000297    0.0924    0.686  150.091             4.0  \n",
              "586669          0.000150    0.0874      NaN  145.095             4.0  \n",
              "586670          0.000003    0.3050    0.438   90.029             4.0  \n",
              "586671          0.000000    0.2640    0.975  112.204             4.0  \n",
              "\n",
              "[586672 rows x 20 columns]"
            ],
            "text/html": [
              "\n",
              "  <div id=\"df-e5ce587c-bfeb-49da-980d-fdadba7d8a77\">\n",
              "    <div class=\"colab-df-container\">\n",
              "      <div>\n",
              "<style scoped>\n",
              "    .dataframe tbody tr th:only-of-type {\n",
              "        vertical-align: middle;\n",
              "    }\n",
              "\n",
              "    .dataframe tbody tr th {\n",
              "        vertical-align: top;\n",
              "    }\n",
              "\n",
              "    .dataframe thead th {\n",
              "        text-align: right;\n",
              "    }\n",
              "</style>\n",
              "<table border=\"1\" class=\"dataframe\">\n",
              "  <thead>\n",
              "    <tr style=\"text-align: right;\">\n",
              "      <th></th>\n",
              "      <th>id</th>\n",
              "      <th>name</th>\n",
              "      <th>popularity</th>\n",
              "      <th>duration_ms</th>\n",
              "      <th>explicit</th>\n",
              "      <th>artists</th>\n",
              "      <th>id_artists</th>\n",
              "      <th>release_date</th>\n",
              "      <th>danceability</th>\n",
              "      <th>energy</th>\n",
              "      <th>key</th>\n",
              "      <th>loudness</th>\n",
              "      <th>mode</th>\n",
              "      <th>speechiness</th>\n",
              "      <th>acousticness</th>\n",
              "      <th>instrumentalness</th>\n",
              "      <th>liveness</th>\n",
              "      <th>valence</th>\n",
              "      <th>tempo</th>\n",
              "      <th>time_signature</th>\n",
              "    </tr>\n",
              "  </thead>\n",
              "  <tbody>\n",
              "    <tr>\n",
              "      <th>0</th>\n",
              "      <td>35iwgR4jXetI318WEWsa1Q</td>\n",
              "      <td>Carve</td>\n",
              "      <td>6.0</td>\n",
              "      <td>126903</td>\n",
              "      <td>0</td>\n",
              "      <td>['Uli']</td>\n",
              "      <td>['45tIt06XoI0Iio4LBEVpls']</td>\n",
              "      <td>1922-02-22</td>\n",
              "      <td>0.645</td>\n",
              "      <td>0.445</td>\n",
              "      <td>0.0</td>\n",
              "      <td>-13.338</td>\n",
              "      <td>1.0</td>\n",
              "      <td>0.4510</td>\n",
              "      <td>0.674</td>\n",
              "      <td>0.744000</td>\n",
              "      <td>0.1510</td>\n",
              "      <td>0.127</td>\n",
              "      <td>104.851</td>\n",
              "      <td>3.0</td>\n",
              "    </tr>\n",
              "    <tr>\n",
              "      <th>1</th>\n",
              "      <td>021ht4sdgPcrDgSk7JTbKY</td>\n",
              "      <td>Capítulo 2.16 - Banquero Anarquista</td>\n",
              "      <td>0.0</td>\n",
              "      <td>98200</td>\n",
              "      <td>0</td>\n",
              "      <td>['Fernando Pessoa']</td>\n",
              "      <td>['14jtPCOoNZwquk5wd9DxrY']</td>\n",
              "      <td>1922-06-01</td>\n",
              "      <td>0.695</td>\n",
              "      <td>0.263</td>\n",
              "      <td>0.0</td>\n",
              "      <td>-22.136</td>\n",
              "      <td>1.0</td>\n",
              "      <td>0.9570</td>\n",
              "      <td>0.797</td>\n",
              "      <td>0.000000</td>\n",
              "      <td>0.1480</td>\n",
              "      <td>0.655</td>\n",
              "      <td>102.009</td>\n",
              "      <td>1.0</td>\n",
              "    </tr>\n",
              "    <tr>\n",
              "      <th>2</th>\n",
              "      <td>07A5yehtSnoedViJAZkNnc</td>\n",
              "      <td>Vivo para Quererte - Remasterizado</td>\n",
              "      <td>0.0</td>\n",
              "      <td>181640</td>\n",
              "      <td>0</td>\n",
              "      <td>['Ignacio Corsini']</td>\n",
              "      <td>['5LiOoJbxVSAMkBS2fUm3X2']</td>\n",
              "      <td>1922-03-21</td>\n",
              "      <td>0.434</td>\n",
              "      <td>0.177</td>\n",
              "      <td>1.0</td>\n",
              "      <td>-21.180</td>\n",
              "      <td>1.0</td>\n",
              "      <td>0.0512</td>\n",
              "      <td>0.994</td>\n",
              "      <td>0.021800</td>\n",
              "      <td>0.2120</td>\n",
              "      <td>0.457</td>\n",
              "      <td>130.418</td>\n",
              "      <td>5.0</td>\n",
              "    </tr>\n",
              "    <tr>\n",
              "      <th>3</th>\n",
              "      <td>08FmqUhxtyLTn6pAh6bk45</td>\n",
              "      <td>El Prisionero - Remasterizado</td>\n",
              "      <td>NaN</td>\n",
              "      <td>176907</td>\n",
              "      <td>0</td>\n",
              "      <td>['Ignacio Corsini']</td>\n",
              "      <td>['5LiOoJbxVSAMkBS2fUm3X2']</td>\n",
              "      <td>1922-03-21</td>\n",
              "      <td>0.321</td>\n",
              "      <td>NaN</td>\n",
              "      <td>7.0</td>\n",
              "      <td>-27.961</td>\n",
              "      <td>1.0</td>\n",
              "      <td>0.0504</td>\n",
              "      <td>0.995</td>\n",
              "      <td>0.918000</td>\n",
              "      <td>0.1040</td>\n",
              "      <td>0.397</td>\n",
              "      <td>169.980</td>\n",
              "      <td>3.0</td>\n",
              "    </tr>\n",
              "    <tr>\n",
              "      <th>4</th>\n",
              "      <td>08y9GfoqCWfOGsKdwojr5e</td>\n",
              "      <td>Lady of the Evening</td>\n",
              "      <td>0.0</td>\n",
              "      <td>163080</td>\n",
              "      <td>0</td>\n",
              "      <td>['Dick Haymes']</td>\n",
              "      <td>['3BiJGZsyX9sJchTqcSA7Su']</td>\n",
              "      <td>1922</td>\n",
              "      <td>0.402</td>\n",
              "      <td>0.158</td>\n",
              "      <td>3.0</td>\n",
              "      <td>-16.900</td>\n",
              "      <td>0.0</td>\n",
              "      <td>0.0390</td>\n",
              "      <td>0.989</td>\n",
              "      <td>0.130000</td>\n",
              "      <td>0.3110</td>\n",
              "      <td>0.196</td>\n",
              "      <td>103.220</td>\n",
              "      <td>4.0</td>\n",
              "    </tr>\n",
              "    <tr>\n",
              "      <th>...</th>\n",
              "      <td>...</td>\n",
              "      <td>...</td>\n",
              "      <td>...</td>\n",
              "      <td>...</td>\n",
              "      <td>...</td>\n",
              "      <td>...</td>\n",
              "      <td>...</td>\n",
              "      <td>...</td>\n",
              "      <td>...</td>\n",
              "      <td>...</td>\n",
              "      <td>...</td>\n",
              "      <td>...</td>\n",
              "      <td>...</td>\n",
              "      <td>...</td>\n",
              "      <td>...</td>\n",
              "      <td>...</td>\n",
              "      <td>...</td>\n",
              "      <td>...</td>\n",
              "      <td>...</td>\n",
              "      <td>...</td>\n",
              "    </tr>\n",
              "    <tr>\n",
              "      <th>586667</th>\n",
              "      <td>5rgu12WBIHQtvej2MdHSH0</td>\n",
              "      <td>云与海</td>\n",
              "      <td>50.0</td>\n",
              "      <td>258267</td>\n",
              "      <td>0</td>\n",
              "      <td>['阿YueYue']</td>\n",
              "      <td>['1QLBXKM5GCpyQQSVMNZqrZ']</td>\n",
              "      <td>2020-09-26</td>\n",
              "      <td>0.560</td>\n",
              "      <td>0.518</td>\n",
              "      <td>0.0</td>\n",
              "      <td>-7.471</td>\n",
              "      <td>0.0</td>\n",
              "      <td>0.0292</td>\n",
              "      <td>0.785</td>\n",
              "      <td>0.000000</td>\n",
              "      <td>0.0648</td>\n",
              "      <td>0.211</td>\n",
              "      <td>131.896</td>\n",
              "      <td>4.0</td>\n",
              "    </tr>\n",
              "    <tr>\n",
              "      <th>586668</th>\n",
              "      <td>0NuWgxEp51CutD2pJoF4OM</td>\n",
              "      <td>blind</td>\n",
              "      <td>72.0</td>\n",
              "      <td>153293</td>\n",
              "      <td>0</td>\n",
              "      <td>['ROLE MODEL']</td>\n",
              "      <td>['1dy5WNgIKQU6ezkpZs4y8z']</td>\n",
              "      <td>2020-10-21</td>\n",
              "      <td>0.765</td>\n",
              "      <td>0.663</td>\n",
              "      <td>0.0</td>\n",
              "      <td>-5.223</td>\n",
              "      <td>1.0</td>\n",
              "      <td>0.0652</td>\n",
              "      <td>0.141</td>\n",
              "      <td>0.000297</td>\n",
              "      <td>0.0924</td>\n",
              "      <td>0.686</td>\n",
              "      <td>150.091</td>\n",
              "      <td>4.0</td>\n",
              "    </tr>\n",
              "    <tr>\n",
              "      <th>586669</th>\n",
              "      <td>27Y1N4Q4U3EfDU5Ubw8ws2</td>\n",
              "      <td>What They'll Say About Us</td>\n",
              "      <td>70.0</td>\n",
              "      <td>187601</td>\n",
              "      <td>0</td>\n",
              "      <td>['FINNEAS']</td>\n",
              "      <td>['37M5pPGs6V1fchFJSgCguX']</td>\n",
              "      <td>2020-09-02</td>\n",
              "      <td>0.535</td>\n",
              "      <td>0.314</td>\n",
              "      <td>7.0</td>\n",
              "      <td>-12.823</td>\n",
              "      <td>0.0</td>\n",
              "      <td>0.0408</td>\n",
              "      <td>0.895</td>\n",
              "      <td>0.000150</td>\n",
              "      <td>0.0874</td>\n",
              "      <td>NaN</td>\n",
              "      <td>145.095</td>\n",
              "      <td>4.0</td>\n",
              "    </tr>\n",
              "    <tr>\n",
              "      <th>586670</th>\n",
              "      <td>45XJsGpFTyzbzeWK8VzR8S</td>\n",
              "      <td>A Day At A Time</td>\n",
              "      <td>58.0</td>\n",
              "      <td>142003</td>\n",
              "      <td>0</td>\n",
              "      <td>['Gentle Bones', 'Clara Benin']</td>\n",
              "      <td>['4jGPdu95icCKVF31CcFKbS', '5ebPSE9YI5aLeZ1Z2g...</td>\n",
              "      <td>2021-03-05</td>\n",
              "      <td>0.696</td>\n",
              "      <td>0.615</td>\n",
              "      <td>10.0</td>\n",
              "      <td>-6.212</td>\n",
              "      <td>1.0</td>\n",
              "      <td>0.0345</td>\n",
              "      <td>0.206</td>\n",
              "      <td>0.000003</td>\n",
              "      <td>0.3050</td>\n",
              "      <td>0.438</td>\n",
              "      <td>90.029</td>\n",
              "      <td>4.0</td>\n",
              "    </tr>\n",
              "    <tr>\n",
              "      <th>586671</th>\n",
              "      <td>5Ocn6dZ3BJFPWh4ylwFXtn</td>\n",
              "      <td>Mar de Emociones</td>\n",
              "      <td>NaN</td>\n",
              "      <td>214360</td>\n",
              "      <td>0</td>\n",
              "      <td>['Afrosound']</td>\n",
              "      <td>['0i4Qda0k4nf7jnNHmSNpYv']</td>\n",
              "      <td>2015-07-01</td>\n",
              "      <td>0.686</td>\n",
              "      <td>0.723</td>\n",
              "      <td>6.0</td>\n",
              "      <td>-7.067</td>\n",
              "      <td>1.0</td>\n",
              "      <td>0.0363</td>\n",
              "      <td>0.105</td>\n",
              "      <td>0.000000</td>\n",
              "      <td>0.2640</td>\n",
              "      <td>0.975</td>\n",
              "      <td>112.204</td>\n",
              "      <td>4.0</td>\n",
              "    </tr>\n",
              "  </tbody>\n",
              "</table>\n",
              "<p>586672 rows × 20 columns</p>\n",
              "</div>\n",
              "      <button class=\"colab-df-convert\" onclick=\"convertToInteractive('df-e5ce587c-bfeb-49da-980d-fdadba7d8a77')\"\n",
              "              title=\"Convert this dataframe to an interactive table.\"\n",
              "              style=\"display:none;\">\n",
              "        \n",
              "  <svg xmlns=\"http://www.w3.org/2000/svg\" height=\"24px\"viewBox=\"0 0 24 24\"\n",
              "       width=\"24px\">\n",
              "    <path d=\"M0 0h24v24H0V0z\" fill=\"none\"/>\n",
              "    <path d=\"M18.56 5.44l.94 2.06.94-2.06 2.06-.94-2.06-.94-.94-2.06-.94 2.06-2.06.94zm-11 1L8.5 8.5l.94-2.06 2.06-.94-2.06-.94L8.5 2.5l-.94 2.06-2.06.94zm10 10l.94 2.06.94-2.06 2.06-.94-2.06-.94-.94-2.06-.94 2.06-2.06.94z\"/><path d=\"M17.41 7.96l-1.37-1.37c-.4-.4-.92-.59-1.43-.59-.52 0-1.04.2-1.43.59L10.3 9.45l-7.72 7.72c-.78.78-.78 2.05 0 2.83L4 21.41c.39.39.9.59 1.41.59.51 0 1.02-.2 1.41-.59l7.78-7.78 2.81-2.81c.8-.78.8-2.07 0-2.86zM5.41 20L4 18.59l7.72-7.72 1.47 1.35L5.41 20z\"/>\n",
              "  </svg>\n",
              "      </button>\n",
              "      \n",
              "  <style>\n",
              "    .colab-df-container {\n",
              "      display:flex;\n",
              "      flex-wrap:wrap;\n",
              "      gap: 12px;\n",
              "    }\n",
              "\n",
              "    .colab-df-convert {\n",
              "      background-color: #E8F0FE;\n",
              "      border: none;\n",
              "      border-radius: 50%;\n",
              "      cursor: pointer;\n",
              "      display: none;\n",
              "      fill: #1967D2;\n",
              "      height: 32px;\n",
              "      padding: 0 0 0 0;\n",
              "      width: 32px;\n",
              "    }\n",
              "\n",
              "    .colab-df-convert:hover {\n",
              "      background-color: #E2EBFA;\n",
              "      box-shadow: 0px 1px 2px rgba(60, 64, 67, 0.3), 0px 1px 3px 1px rgba(60, 64, 67, 0.15);\n",
              "      fill: #174EA6;\n",
              "    }\n",
              "\n",
              "    [theme=dark] .colab-df-convert {\n",
              "      background-color: #3B4455;\n",
              "      fill: #D2E3FC;\n",
              "    }\n",
              "\n",
              "    [theme=dark] .colab-df-convert:hover {\n",
              "      background-color: #434B5C;\n",
              "      box-shadow: 0px 1px 3px 1px rgba(0, 0, 0, 0.15);\n",
              "      filter: drop-shadow(0px 1px 2px rgba(0, 0, 0, 0.3));\n",
              "      fill: #FFFFFF;\n",
              "    }\n",
              "  </style>\n",
              "\n",
              "      <script>\n",
              "        const buttonEl =\n",
              "          document.querySelector('#df-e5ce587c-bfeb-49da-980d-fdadba7d8a77 button.colab-df-convert');\n",
              "        buttonEl.style.display =\n",
              "          google.colab.kernel.accessAllowed ? 'block' : 'none';\n",
              "\n",
              "        async function convertToInteractive(key) {\n",
              "          const element = document.querySelector('#df-e5ce587c-bfeb-49da-980d-fdadba7d8a77');\n",
              "          const dataTable =\n",
              "            await google.colab.kernel.invokeFunction('convertToInteractive',\n",
              "                                                     [key], {});\n",
              "          if (!dataTable) return;\n",
              "\n",
              "          const docLinkHtml = 'Like what you see? Visit the ' +\n",
              "            '<a target=\"_blank\" href=https://colab.research.google.com/notebooks/data_table.ipynb>data table notebook</a>'\n",
              "            + ' to learn more about interactive tables.';\n",
              "          element.innerHTML = '';\n",
              "          dataTable['output_type'] = 'display_data';\n",
              "          await google.colab.output.renderOutput(dataTable, element);\n",
              "          const docLink = document.createElement('div');\n",
              "          docLink.innerHTML = docLinkHtml;\n",
              "          element.appendChild(docLink);\n",
              "        }\n",
              "      </script>\n",
              "    </div>\n",
              "  </div>\n",
              "  "
            ]
          },
          "metadata": {},
          "execution_count": 5
        }
      ]
    },
    {
      "cell_type": "code",
      "source": [
        "track_df.dtypes"
      ],
      "metadata": {
        "colab": {
          "base_uri": "https://localhost:8080/"
        },
        "id": "z1EBjZeaba7a",
        "outputId": "2ad5cbae-1f5c-465b-eab4-56b1fd9c9bb4"
      },
      "execution_count": null,
      "outputs": [
        {
          "output_type": "execute_result",
          "data": {
            "text/plain": [
              "id                   object\n",
              "name                 object\n",
              "popularity          float64\n",
              "duration_ms           int64\n",
              "explicit              int64\n",
              "artists              object\n",
              "id_artists           object\n",
              "release_date         object\n",
              "danceability        float64\n",
              "energy              float64\n",
              "key                 float64\n",
              "loudness            float64\n",
              "mode                float64\n",
              "speechiness         float64\n",
              "acousticness        float64\n",
              "instrumentalness    float64\n",
              "liveness            float64\n",
              "valence             float64\n",
              "tempo               float64\n",
              "time_signature      float64\n",
              "dtype: object"
            ]
          },
          "metadata": {},
          "execution_count": 6
        }
      ]
    },
    {
      "cell_type": "markdown",
      "source": [
        "## Descripción general"
      ],
      "metadata": {
        "id": "pjYf56UaSDo_"
      }
    },
    {
      "cell_type": "code",
      "source": [
        "track_df.shape"
      ],
      "metadata": {
        "colab": {
          "base_uri": "https://localhost:8080/"
        },
        "id": "5agR2WgeR-v7",
        "outputId": "81325b1c-14b7-43fb-c446-317efe79a7a7"
      },
      "execution_count": null,
      "outputs": [
        {
          "output_type": "execute_result",
          "data": {
            "text/plain": [
              "(586672, 20)"
            ]
          },
          "metadata": {},
          "execution_count": 7
        }
      ]
    },
    {
      "cell_type": "code",
      "source": [
        "track_df.dtypes"
      ],
      "metadata": {
        "colab": {
          "base_uri": "https://localhost:8080/"
        },
        "id": "IZmNJAt-SGVh",
        "outputId": "20709f60-4f28-441f-e774-e20257fccaf6"
      },
      "execution_count": null,
      "outputs": [
        {
          "output_type": "execute_result",
          "data": {
            "text/plain": [
              "id                   object\n",
              "name                 object\n",
              "popularity          float64\n",
              "duration_ms           int64\n",
              "explicit              int64\n",
              "artists              object\n",
              "id_artists           object\n",
              "release_date         object\n",
              "danceability        float64\n",
              "energy              float64\n",
              "key                 float64\n",
              "loudness            float64\n",
              "mode                float64\n",
              "speechiness         float64\n",
              "acousticness        float64\n",
              "instrumentalness    float64\n",
              "liveness            float64\n",
              "valence             float64\n",
              "tempo               float64\n",
              "time_signature      float64\n",
              "dtype: object"
            ]
          },
          "metadata": {},
          "execution_count": 8
        }
      ]
    },
    {
      "cell_type": "markdown",
      "source": [
        "Descripción de columnas:\n",
        "\n",
        "* id: -\n",
        "* name: -\n",
        "* popularity: The popularity of the album. The value will be between 0 and 100, with 100 being the most popular.\n",
        "* duration_ms: The track length in milliseconds.\n",
        "* explicit: Whether or not the track has explicit lyrics ( true = yes it does; false = no it does not OR unknown)\n",
        "* artists: The artists who performed the track. Each artist object includes a link in href to more detailed information about the artist.\n",
        "* id_artists: -\n",
        "* release_date: The date the album was first released.\n",
        "* danceability: Danceability describes how suitable a track is for dancing based on a combination of musical elements including tempo, rhythm stability, beat strength, and overall regularity. A value of 0.0 is least danceable and 1.0 is most danceable.\n",
        "* energy: Energy is a measure from 0.0 to 1.0 and represents a perceptual measure of intensity and activity. Typically, energetic tracks feel fast, loud, and noisy. For example, death metal has high energy, while a Bach prelude scores low on the scale. Perceptual features contributing to this attribute include dynamic range, perceived loudness, timbre, onset rate, and general entropy.\n",
        "* key: The key the track is in. Integers map to pitches using standard Pitch Class notation. E.g. 0 = C, 1 = C♯/D♭, 2 = D, and so on. If no key was detected, the value is -1.\n",
        "* loudness: The overall loudness of a track in decibels (dB). Loudness values are averaged across the entire track and are useful for comparing relative loudness of tracks. Loudness is the quality of a sound that is the primary psychological correlate of physical strength (amplitude). Values typically range between -60 and 0 db.\n",
        "* mode: Mode indicates the modality (major or minor) of a track, the type of scale from which its melodic content is derived. Major is represented by 1 and minor is 0.\n",
        "* speechiness: Speechiness detects the presence of spoken words in a track. The more exclusively speech-like the recording (e.g. talk show, audio book, poetry), the closer to 1.0 the attribute value. Values above 0.66 describe tracks that are probably made entirely of spoken words. Values between 0.33 and 0.66 describe tracks that may contain both music and speech, either in sections or layered, including such cases as rap music. Values below 0.33 most likely represent music and other non-speech-like tracks.\n",
        "* acousticness: A confidence measure from 0.0 to 1.0 of whether the track is acoustic. 1.0 represents high confidence the track is acoustic.\n",
        "* instrumentalness: Predicts whether a track contains no vocals. \"Ooh\" and \"aah\" sounds are treated as instrumental in this context. Rap or spoken word tracks are clearly \"vocal\". The closer the instrumentalness value is to 1.0, the greater likelihood the track contains no vocal content. Values above 0.5 are intended to represent instrumental tracks, but confidence is higher as the value approaches 1.0.\n",
        "* liveness: Detects the presence of an audience in the recording. Higher liveness values represent an increased probability that the track was performed live. A value above 0.8 provides strong likelihood that the track is live.\n",
        "* valence: A measure from 0.0 to 1.0 describing the musical positiveness conveyed by a track. Tracks with high valence sound more positive (e.g. happy, cheerful, euphoric), while tracks with low valence sound more negative (e.g. sad, depressed, angry).\n",
        "* tempo: The overall estimated tempo of a track in beats per minute (BPM). In musical terminology, tempo is the speed or pace of a given piece and derives directly from the average beat duration.\n",
        "* time_signature: An estimated time signature. The time signature (meter) is a notational convention to specify how many beats are in each bar (or measure). The time signature ranges from 3 to 7 indicating time signatures of \"3/4\", to \"7/4\"."
      ],
      "metadata": {
        "id": "JF_UlhlkSpex"
      }
    },
    {
      "cell_type": "code",
      "source": [
        "track_df.describe()"
      ],
      "metadata": {
        "colab": {
          "base_uri": "https://localhost:8080/"
        },
        "id": "PAFMKblbW2VA",
        "outputId": "ce1828c2-39ed-4f1b-a2db-ca376be112ff"
      },
      "execution_count": null,
      "outputs": [
        {
          "output_type": "execute_result",
          "data": {
            "text/plain": [
              "          popularity   duration_ms       explicit   danceability  \\\n",
              "count  555128.000000  5.866720e+05  586672.000000  564477.000000   \n",
              "mean       27.564493  2.300512e+05       0.027571       0.563608   \n",
              "std        18.371158  1.265261e+05       0.241849       0.166092   \n",
              "min         0.000000  3.344000e+03      -1.000000       0.000000   \n",
              "25%        13.000000  1.750930e+05       0.000000       0.453000   \n",
              "50%        27.000000  2.148930e+05       0.000000       0.577000   \n",
              "75%        41.000000  2.638670e+05       0.000000       0.686000   \n",
              "max       100.000000  5.621218e+06       1.000000       0.991000   \n",
              "\n",
              "              energy            key       loudness           mode  \\\n",
              "count  564246.000000  564114.000000  564238.000000  564406.000000   \n",
              "mean        0.542160       5.222037     -10.206486       0.658609   \n",
              "std         0.251872       3.519683       5.089432       0.474177   \n",
              "min         0.000000       0.000000     -60.000000       0.000000   \n",
              "25%         0.343000       2.000000     -12.890000       0.000000   \n",
              "50%         0.549000       5.000000      -9.242000       1.000000   \n",
              "75%         0.748000       8.000000      -6.483000       1.000000   \n",
              "max         1.000000      11.000000       5.376000       1.000000   \n",
              "\n",
              "         speechiness   acousticness  instrumentalness       liveness  \\\n",
              "count  564216.000000  564055.000000     564202.000000  564394.000000   \n",
              "mean        0.104757       0.449750          0.113352       0.213931   \n",
              "std         0.179644       0.348881          0.266767       0.184336   \n",
              "min         0.000000       0.000000          0.000000       0.000000   \n",
              "25%         0.034000       0.096700          0.000000       0.098300   \n",
              "50%         0.044300       0.422000          0.000024       0.139000   \n",
              "75%         0.076300       0.784000          0.009530       0.278000   \n",
              "max         0.971000       0.996000          1.000000       1.000000   \n",
              "\n",
              "             valence          tempo  time_signature  \n",
              "count  564324.000000  564318.000000   564322.000000  \n",
              "mean        0.552261     118.457192        3.873484  \n",
              "std         0.257680      29.765675        0.472978  \n",
              "min         0.000000       0.000000        0.000000  \n",
              "25%         0.346000      95.594000        4.000000  \n",
              "50%         0.564000     117.375000        4.000000  \n",
              "75%         0.769000     136.317000        4.000000  \n",
              "max         1.000000     246.381000        5.000000  "
            ],
            "text/html": [
              "\n",
              "  <div id=\"df-9abd63b0-4844-43ef-bd07-b55fe40cd83f\">\n",
              "    <div class=\"colab-df-container\">\n",
              "      <div>\n",
              "<style scoped>\n",
              "    .dataframe tbody tr th:only-of-type {\n",
              "        vertical-align: middle;\n",
              "    }\n",
              "\n",
              "    .dataframe tbody tr th {\n",
              "        vertical-align: top;\n",
              "    }\n",
              "\n",
              "    .dataframe thead th {\n",
              "        text-align: right;\n",
              "    }\n",
              "</style>\n",
              "<table border=\"1\" class=\"dataframe\">\n",
              "  <thead>\n",
              "    <tr style=\"text-align: right;\">\n",
              "      <th></th>\n",
              "      <th>popularity</th>\n",
              "      <th>duration_ms</th>\n",
              "      <th>explicit</th>\n",
              "      <th>danceability</th>\n",
              "      <th>energy</th>\n",
              "      <th>key</th>\n",
              "      <th>loudness</th>\n",
              "      <th>mode</th>\n",
              "      <th>speechiness</th>\n",
              "      <th>acousticness</th>\n",
              "      <th>instrumentalness</th>\n",
              "      <th>liveness</th>\n",
              "      <th>valence</th>\n",
              "      <th>tempo</th>\n",
              "      <th>time_signature</th>\n",
              "    </tr>\n",
              "  </thead>\n",
              "  <tbody>\n",
              "    <tr>\n",
              "      <th>count</th>\n",
              "      <td>555128.000000</td>\n",
              "      <td>5.866720e+05</td>\n",
              "      <td>586672.000000</td>\n",
              "      <td>564477.000000</td>\n",
              "      <td>564246.000000</td>\n",
              "      <td>564114.000000</td>\n",
              "      <td>564238.000000</td>\n",
              "      <td>564406.000000</td>\n",
              "      <td>564216.000000</td>\n",
              "      <td>564055.000000</td>\n",
              "      <td>564202.000000</td>\n",
              "      <td>564394.000000</td>\n",
              "      <td>564324.000000</td>\n",
              "      <td>564318.000000</td>\n",
              "      <td>564322.000000</td>\n",
              "    </tr>\n",
              "    <tr>\n",
              "      <th>mean</th>\n",
              "      <td>27.564493</td>\n",
              "      <td>2.300512e+05</td>\n",
              "      <td>0.027571</td>\n",
              "      <td>0.563608</td>\n",
              "      <td>0.542160</td>\n",
              "      <td>5.222037</td>\n",
              "      <td>-10.206486</td>\n",
              "      <td>0.658609</td>\n",
              "      <td>0.104757</td>\n",
              "      <td>0.449750</td>\n",
              "      <td>0.113352</td>\n",
              "      <td>0.213931</td>\n",
              "      <td>0.552261</td>\n",
              "      <td>118.457192</td>\n",
              "      <td>3.873484</td>\n",
              "    </tr>\n",
              "    <tr>\n",
              "      <th>std</th>\n",
              "      <td>18.371158</td>\n",
              "      <td>1.265261e+05</td>\n",
              "      <td>0.241849</td>\n",
              "      <td>0.166092</td>\n",
              "      <td>0.251872</td>\n",
              "      <td>3.519683</td>\n",
              "      <td>5.089432</td>\n",
              "      <td>0.474177</td>\n",
              "      <td>0.179644</td>\n",
              "      <td>0.348881</td>\n",
              "      <td>0.266767</td>\n",
              "      <td>0.184336</td>\n",
              "      <td>0.257680</td>\n",
              "      <td>29.765675</td>\n",
              "      <td>0.472978</td>\n",
              "    </tr>\n",
              "    <tr>\n",
              "      <th>min</th>\n",
              "      <td>0.000000</td>\n",
              "      <td>3.344000e+03</td>\n",
              "      <td>-1.000000</td>\n",
              "      <td>0.000000</td>\n",
              "      <td>0.000000</td>\n",
              "      <td>0.000000</td>\n",
              "      <td>-60.000000</td>\n",
              "      <td>0.000000</td>\n",
              "      <td>0.000000</td>\n",
              "      <td>0.000000</td>\n",
              "      <td>0.000000</td>\n",
              "      <td>0.000000</td>\n",
              "      <td>0.000000</td>\n",
              "      <td>0.000000</td>\n",
              "      <td>0.000000</td>\n",
              "    </tr>\n",
              "    <tr>\n",
              "      <th>25%</th>\n",
              "      <td>13.000000</td>\n",
              "      <td>1.750930e+05</td>\n",
              "      <td>0.000000</td>\n",
              "      <td>0.453000</td>\n",
              "      <td>0.343000</td>\n",
              "      <td>2.000000</td>\n",
              "      <td>-12.890000</td>\n",
              "      <td>0.000000</td>\n",
              "      <td>0.034000</td>\n",
              "      <td>0.096700</td>\n",
              "      <td>0.000000</td>\n",
              "      <td>0.098300</td>\n",
              "      <td>0.346000</td>\n",
              "      <td>95.594000</td>\n",
              "      <td>4.000000</td>\n",
              "    </tr>\n",
              "    <tr>\n",
              "      <th>50%</th>\n",
              "      <td>27.000000</td>\n",
              "      <td>2.148930e+05</td>\n",
              "      <td>0.000000</td>\n",
              "      <td>0.577000</td>\n",
              "      <td>0.549000</td>\n",
              "      <td>5.000000</td>\n",
              "      <td>-9.242000</td>\n",
              "      <td>1.000000</td>\n",
              "      <td>0.044300</td>\n",
              "      <td>0.422000</td>\n",
              "      <td>0.000024</td>\n",
              "      <td>0.139000</td>\n",
              "      <td>0.564000</td>\n",
              "      <td>117.375000</td>\n",
              "      <td>4.000000</td>\n",
              "    </tr>\n",
              "    <tr>\n",
              "      <th>75%</th>\n",
              "      <td>41.000000</td>\n",
              "      <td>2.638670e+05</td>\n",
              "      <td>0.000000</td>\n",
              "      <td>0.686000</td>\n",
              "      <td>0.748000</td>\n",
              "      <td>8.000000</td>\n",
              "      <td>-6.483000</td>\n",
              "      <td>1.000000</td>\n",
              "      <td>0.076300</td>\n",
              "      <td>0.784000</td>\n",
              "      <td>0.009530</td>\n",
              "      <td>0.278000</td>\n",
              "      <td>0.769000</td>\n",
              "      <td>136.317000</td>\n",
              "      <td>4.000000</td>\n",
              "    </tr>\n",
              "    <tr>\n",
              "      <th>max</th>\n",
              "      <td>100.000000</td>\n",
              "      <td>5.621218e+06</td>\n",
              "      <td>1.000000</td>\n",
              "      <td>0.991000</td>\n",
              "      <td>1.000000</td>\n",
              "      <td>11.000000</td>\n",
              "      <td>5.376000</td>\n",
              "      <td>1.000000</td>\n",
              "      <td>0.971000</td>\n",
              "      <td>0.996000</td>\n",
              "      <td>1.000000</td>\n",
              "      <td>1.000000</td>\n",
              "      <td>1.000000</td>\n",
              "      <td>246.381000</td>\n",
              "      <td>5.000000</td>\n",
              "    </tr>\n",
              "  </tbody>\n",
              "</table>\n",
              "</div>\n",
              "      <button class=\"colab-df-convert\" onclick=\"convertToInteractive('df-9abd63b0-4844-43ef-bd07-b55fe40cd83f')\"\n",
              "              title=\"Convert this dataframe to an interactive table.\"\n",
              "              style=\"display:none;\">\n",
              "        \n",
              "  <svg xmlns=\"http://www.w3.org/2000/svg\" height=\"24px\"viewBox=\"0 0 24 24\"\n",
              "       width=\"24px\">\n",
              "    <path d=\"M0 0h24v24H0V0z\" fill=\"none\"/>\n",
              "    <path d=\"M18.56 5.44l.94 2.06.94-2.06 2.06-.94-2.06-.94-.94-2.06-.94 2.06-2.06.94zm-11 1L8.5 8.5l.94-2.06 2.06-.94-2.06-.94L8.5 2.5l-.94 2.06-2.06.94zm10 10l.94 2.06.94-2.06 2.06-.94-2.06-.94-.94-2.06-.94 2.06-2.06.94z\"/><path d=\"M17.41 7.96l-1.37-1.37c-.4-.4-.92-.59-1.43-.59-.52 0-1.04.2-1.43.59L10.3 9.45l-7.72 7.72c-.78.78-.78 2.05 0 2.83L4 21.41c.39.39.9.59 1.41.59.51 0 1.02-.2 1.41-.59l7.78-7.78 2.81-2.81c.8-.78.8-2.07 0-2.86zM5.41 20L4 18.59l7.72-7.72 1.47 1.35L5.41 20z\"/>\n",
              "  </svg>\n",
              "      </button>\n",
              "      \n",
              "  <style>\n",
              "    .colab-df-container {\n",
              "      display:flex;\n",
              "      flex-wrap:wrap;\n",
              "      gap: 12px;\n",
              "    }\n",
              "\n",
              "    .colab-df-convert {\n",
              "      background-color: #E8F0FE;\n",
              "      border: none;\n",
              "      border-radius: 50%;\n",
              "      cursor: pointer;\n",
              "      display: none;\n",
              "      fill: #1967D2;\n",
              "      height: 32px;\n",
              "      padding: 0 0 0 0;\n",
              "      width: 32px;\n",
              "    }\n",
              "\n",
              "    .colab-df-convert:hover {\n",
              "      background-color: #E2EBFA;\n",
              "      box-shadow: 0px 1px 2px rgba(60, 64, 67, 0.3), 0px 1px 3px 1px rgba(60, 64, 67, 0.15);\n",
              "      fill: #174EA6;\n",
              "    }\n",
              "\n",
              "    [theme=dark] .colab-df-convert {\n",
              "      background-color: #3B4455;\n",
              "      fill: #D2E3FC;\n",
              "    }\n",
              "\n",
              "    [theme=dark] .colab-df-convert:hover {\n",
              "      background-color: #434B5C;\n",
              "      box-shadow: 0px 1px 3px 1px rgba(0, 0, 0, 0.15);\n",
              "      filter: drop-shadow(0px 1px 2px rgba(0, 0, 0, 0.3));\n",
              "      fill: #FFFFFF;\n",
              "    }\n",
              "  </style>\n",
              "\n",
              "      <script>\n",
              "        const buttonEl =\n",
              "          document.querySelector('#df-9abd63b0-4844-43ef-bd07-b55fe40cd83f button.colab-df-convert');\n",
              "        buttonEl.style.display =\n",
              "          google.colab.kernel.accessAllowed ? 'block' : 'none';\n",
              "\n",
              "        async function convertToInteractive(key) {\n",
              "          const element = document.querySelector('#df-9abd63b0-4844-43ef-bd07-b55fe40cd83f');\n",
              "          const dataTable =\n",
              "            await google.colab.kernel.invokeFunction('convertToInteractive',\n",
              "                                                     [key], {});\n",
              "          if (!dataTable) return;\n",
              "\n",
              "          const docLinkHtml = 'Like what you see? Visit the ' +\n",
              "            '<a target=\"_blank\" href=https://colab.research.google.com/notebooks/data_table.ipynb>data table notebook</a>'\n",
              "            + ' to learn more about interactive tables.';\n",
              "          element.innerHTML = '';\n",
              "          dataTable['output_type'] = 'display_data';\n",
              "          await google.colab.output.renderOutput(dataTable, element);\n",
              "          const docLink = document.createElement('div');\n",
              "          docLink.innerHTML = docLinkHtml;\n",
              "          element.appendChild(docLink);\n",
              "        }\n",
              "      </script>\n",
              "    </div>\n",
              "  </div>\n",
              "  "
            ]
          },
          "metadata": {},
          "execution_count": 9
        }
      ]
    },
    {
      "cell_type": "code",
      "source": [
        "sns.heatmap(track_df.corr(), cmap='seismic')"
      ],
      "metadata": {
        "colab": {
          "base_uri": "https://localhost:8080/"
        },
        "id": "Iyf5UcJBXeQK",
        "outputId": "fbe74ad1-1efe-4e78-a92a-069244016d09"
      },
      "execution_count": null,
      "outputs": [
        {
          "output_type": "execute_result",
          "data": {
            "text/plain": [
              "<AxesSubplot:>"
            ]
          },
          "metadata": {},
          "execution_count": 10
        },
        {
          "output_type": "display_data",
          "data": {
            "text/plain": [
              "<Figure size 432x288 with 2 Axes>"
            ],
            "image/png": "[encoded data removed]"
          },
          "metadata": {
            "needs_background": "light"
          }
        }
      ]
    },
    {
      "cell_type": "code",
      "source": [
        "correlacion = track_df.corr()\n",
        "relevant = {}\n",
        "for col in correlacion:\n",
        "  # Nombre de la columna: col\n",
        "  for row in correlacion[col]:\n",
        "    # valor de la fila\n",
        "    if (row != 1.0) and (row > 0.5 or row < -0.5):\n",
        "      relevant[col] = track_df[col].dtype"
      ],
      "metadata": {
        "id": "mkeK7dmmYsI5"
      },
      "execution_count": null,
      "outputs": []
    },
    {
      "cell_type": "code",
      "source": [
        "relevant"
      ],
      "metadata": {
        "colab": {
          "base_uri": "https://localhost:8080/"
        },
        "id": "ynQ59AFwZ92w",
        "outputId": "06e2f871-1543-4257-a293-6d37f4514743"
      },
      "execution_count": null,
      "outputs": [
        {
          "output_type": "execute_result",
          "data": {
            "text/plain": [
              "{'danceability': dtype('float64'),\n",
              " 'energy': dtype('float64'),\n",
              " 'loudness': dtype('float64'),\n",
              " 'acousticness': dtype('float64'),\n",
              " 'valence': dtype('float64')}"
            ]
          },
          "metadata": {},
          "execution_count": 12
        }
      ]
    },
    {
      "cell_type": "markdown",
      "source": [
        "Correlaciones\n",
        "\n",
        "* Valence vs danceability: positiva\n",
        "* acousticness vs energy: negativa\n",
        "* energy vs valence: positiva\n",
        "* energy vs popularity: positiva"
      ],
      "metadata": {
        "id": "C3nBj3o1YHQ0"
      }
    },
    {
      "cell_type": "markdown",
      "source": [
        "## Análisis de calidad de datos y procesos de limpieza implementado"
      ],
      "metadata": {
        "id": "vfYwM_QnapzD"
      }
    },
    {
      "cell_type": "code",
      "source": [
        "track_df.isnull().sum()"
      ],
      "metadata": {
        "colab": {
          "base_uri": "https://localhost:8080/"
        },
        "id": "9WCqmW6havz8",
        "outputId": "f432061a-b809-4f18-89cd-1c969e314509"
      },
      "execution_count": null,
      "outputs": [
        {
          "output_type": "execute_result",
          "data": {
            "text/plain": [
              "id                      0\n",
              "name                   71\n",
              "popularity          31544\n",
              "duration_ms             0\n",
              "explicit                0\n",
              "artists                 0\n",
              "id_artists              0\n",
              "release_date            0\n",
              "danceability        22195\n",
              "energy              22426\n",
              "key                 22558\n",
              "loudness            22434\n",
              "mode                22266\n",
              "speechiness         22456\n",
              "acousticness        22617\n",
              "instrumentalness    22470\n",
              "liveness            22278\n",
              "valence             22348\n",
              "tempo               22354\n",
              "time_signature      22350\n",
              "dtype: int64"
            ]
          },
          "metadata": {},
          "execution_count": 13
        }
      ]
    },
    {
      "cell_type": "code",
      "source": [
        "track_df.describe()"
      ],
      "metadata": {
        "colab": {
          "base_uri": "https://localhost:8080/"
        },
        "id": "i36uL8dfa3EJ",
        "outputId": "164bb21f-2813-47c6-82d9-26ac28a1a215"
      },
      "execution_count": null,
      "outputs": [
        {
          "output_type": "execute_result",
          "data": {
            "text/plain": [
              "          popularity   duration_ms       explicit   danceability  \\\n",
              "count  555128.000000  5.866720e+05  586672.000000  564477.000000   \n",
              "mean       27.564493  2.300512e+05       0.027571       0.563608   \n",
              "std        18.371158  1.265261e+05       0.241849       0.166092   \n",
              "min         0.000000  3.344000e+03      -1.000000       0.000000   \n",
              "25%        13.000000  1.750930e+05       0.000000       0.453000   \n",
              "50%        27.000000  2.148930e+05       0.000000       0.577000   \n",
              "75%        41.000000  2.638670e+05       0.000000       0.686000   \n",
              "max       100.000000  5.621218e+06       1.000000       0.991000   \n",
              "\n",
              "              energy            key       loudness           mode  \\\n",
              "count  564246.000000  564114.000000  564238.000000  564406.000000   \n",
              "mean        0.542160       5.222037     -10.206486       0.658609   \n",
              "std         0.251872       3.519683       5.089432       0.474177   \n",
              "min         0.000000       0.000000     -60.000000       0.000000   \n",
              "25%         0.343000       2.000000     -12.890000       0.000000   \n",
              "50%         0.549000       5.000000      -9.242000       1.000000   \n",
              "75%         0.748000       8.000000      -6.483000       1.000000   \n",
              "max         1.000000      11.000000       5.376000       1.000000   \n",
              "\n",
              "         speechiness   acousticness  instrumentalness       liveness  \\\n",
              "count  564216.000000  564055.000000     564202.000000  564394.000000   \n",
              "mean        0.104757       0.449750          0.113352       0.213931   \n",
              "std         0.179644       0.348881          0.266767       0.184336   \n",
              "min         0.000000       0.000000          0.000000       0.000000   \n",
              "25%         0.034000       0.096700          0.000000       0.098300   \n",
              "50%         0.044300       0.422000          0.000024       0.139000   \n",
              "75%         0.076300       0.784000          0.009530       0.278000   \n",
              "max         0.971000       0.996000          1.000000       1.000000   \n",
              "\n",
              "             valence          tempo  time_signature  \n",
              "count  564324.000000  564318.000000   564322.000000  \n",
              "mean        0.552261     118.457192        3.873484  \n",
              "std         0.257680      29.765675        0.472978  \n",
              "min         0.000000       0.000000        0.000000  \n",
              "25%         0.346000      95.594000        4.000000  \n",
              "50%         0.564000     117.375000        4.000000  \n",
              "75%         0.769000     136.317000        4.000000  \n",
              "max         1.000000     246.381000        5.000000  "
            ],
            "text/html": [
              "\n",
              "  <div id=\"df-2b3fa971-8e21-4eb8-8e45-c8abba6eb785\">\n",
              "    <div class=\"colab-df-container\">\n",
              "      <div>\n",
              "<style scoped>\n",
              "    .dataframe tbody tr th:only-of-type {\n",
              "        vertical-align: middle;\n",
              "    }\n",
              "\n",
              "    .dataframe tbody tr th {\n",
              "        vertical-align: top;\n",
              "    }\n",
              "\n",
              "    .dataframe thead th {\n",
              "        text-align: right;\n",
              "    }\n",
              "</style>\n",
              "<table border=\"1\" class=\"dataframe\">\n",
              "  <thead>\n",
              "    <tr style=\"text-align: right;\">\n",
              "      <th></th>\n",
              "      <th>popularity</th>\n",
              "      <th>duration_ms</th>\n",
              "      <th>explicit</th>\n",
              "      <th>danceability</th>\n",
              "      <th>energy</th>\n",
              "      <th>key</th>\n",
              "      <th>loudness</th>\n",
              "      <th>mode</th>\n",
              "      <th>speechiness</th>\n",
              "      <th>acousticness</th>\n",
              "      <th>instrumentalness</th>\n",
              "      <th>liveness</th>\n",
              "      <th>valence</th>\n",
              "      <th>tempo</th>\n",
              "      <th>time_signature</th>\n",
              "    </tr>\n",
              "  </thead>\n",
              "  <tbody>\n",
              "    <tr>\n",
              "      <th>count</th>\n",
              "      <td>555128.000000</td>\n",
              "      <td>5.866720e+05</td>\n",
              "      <td>586672.000000</td>\n",
              "      <td>564477.000000</td>\n",
              "      <td>564246.000000</td>\n",
              "      <td>564114.000000</td>\n",
              "      <td>564238.000000</td>\n",
              "      <td>564406.000000</td>\n",
              "      <td>564216.000000</td>\n",
              "      <td>564055.000000</td>\n",
              "      <td>564202.000000</td>\n",
              "      <td>564394.000000</td>\n",
              "      <td>564324.000000</td>\n",
              "      <td>564318.000000</td>\n",
              "      <td>564322.000000</td>\n",
              "    </tr>\n",
              "    <tr>\n",
              "      <th>mean</th>\n",
              "      <td>27.564493</td>\n",
              "      <td>2.300512e+05</td>\n",
              "      <td>0.027571</td>\n",
              "      <td>0.563608</td>\n",
              "      <td>0.542160</td>\n",
              "      <td>5.222037</td>\n",
              "      <td>-10.206486</td>\n",
              "      <td>0.658609</td>\n",
              "      <td>0.104757</td>\n",
              "      <td>0.449750</td>\n",
              "      <td>0.113352</td>\n",
              "      <td>0.213931</td>\n",
              "      <td>0.552261</td>\n",
              "      <td>118.457192</td>\n",
              "      <td>3.873484</td>\n",
              "    </tr>\n",
              "    <tr>\n",
              "      <th>std</th>\n",
              "      <td>18.371158</td>\n",
              "      <td>1.265261e+05</td>\n",
              "      <td>0.241849</td>\n",
              "      <td>0.166092</td>\n",
              "      <td>0.251872</td>\n",
              "      <td>3.519683</td>\n",
              "      <td>5.089432</td>\n",
              "      <td>0.474177</td>\n",
              "      <td>0.179644</td>\n",
              "      <td>0.348881</td>\n",
              "      <td>0.266767</td>\n",
              "      <td>0.184336</td>\n",
              "      <td>0.257680</td>\n",
              "      <td>29.765675</td>\n",
              "      <td>0.472978</td>\n",
              "    </tr>\n",
              "    <tr>\n",
              "      <th>min</th>\n",
              "      <td>0.000000</td>\n",
              "      <td>3.344000e+03</td>\n",
              "      <td>-1.000000</td>\n",
              "      <td>0.000000</td>\n",
              "      <td>0.000000</td>\n",
              "      <td>0.000000</td>\n",
              "      <td>-60.000000</td>\n",
              "      <td>0.000000</td>\n",
              "      <td>0.000000</td>\n",
              "      <td>0.000000</td>\n",
              "      <td>0.000000</td>\n",
              "      <td>0.000000</td>\n",
              "      <td>0.000000</td>\n",
              "      <td>0.000000</td>\n",
              "      <td>0.000000</td>\n",
              "    </tr>\n",
              "    <tr>\n",
              "      <th>25%</th>\n",
              "      <td>13.000000</td>\n",
              "      <td>1.750930e+05</td>\n",
              "      <td>0.000000</td>\n",
              "      <td>0.453000</td>\n",
              "      <td>0.343000</td>\n",
              "      <td>2.000000</td>\n",
              "      <td>-12.890000</td>\n",
              "      <td>0.000000</td>\n",
              "      <td>0.034000</td>\n",
              "      <td>0.096700</td>\n",
              "      <td>0.000000</td>\n",
              "      <td>0.098300</td>\n",
              "      <td>0.346000</td>\n",
              "      <td>95.594000</td>\n",
              "      <td>4.000000</td>\n",
              "    </tr>\n",
              "    <tr>\n",
              "      <th>50%</th>\n",
              "      <td>27.000000</td>\n",
              "      <td>2.148930e+05</td>\n",
              "      <td>0.000000</td>\n",
              "      <td>0.577000</td>\n",
              "      <td>0.549000</td>\n",
              "      <td>5.000000</td>\n",
              "      <td>-9.242000</td>\n",
              "      <td>1.000000</td>\n",
              "      <td>0.044300</td>\n",
              "      <td>0.422000</td>\n",
              "      <td>0.000024</td>\n",
              "      <td>0.139000</td>\n",
              "      <td>0.564000</td>\n",
              "      <td>117.375000</td>\n",
              "      <td>4.000000</td>\n",
              "    </tr>\n",
              "    <tr>\n",
              "      <th>75%</th>\n",
              "      <td>41.000000</td>\n",
              "      <td>2.638670e+05</td>\n",
              "      <td>0.000000</td>\n",
              "      <td>0.686000</td>\n",
              "      <td>0.748000</td>\n",
              "      <td>8.000000</td>\n",
              "      <td>-6.483000</td>\n",
              "      <td>1.000000</td>\n",
              "      <td>0.076300</td>\n",
              "      <td>0.784000</td>\n",
              "      <td>0.009530</td>\n",
              "      <td>0.278000</td>\n",
              "      <td>0.769000</td>\n",
              "      <td>136.317000</td>\n",
              "      <td>4.000000</td>\n",
              "    </tr>\n",
              "    <tr>\n",
              "      <th>max</th>\n",
              "      <td>100.000000</td>\n",
              "      <td>5.621218e+06</td>\n",
              "      <td>1.000000</td>\n",
              "      <td>0.991000</td>\n",
              "      <td>1.000000</td>\n",
              "      <td>11.000000</td>\n",
              "      <td>5.376000</td>\n",
              "      <td>1.000000</td>\n",
              "      <td>0.971000</td>\n",
              "      <td>0.996000</td>\n",
              "      <td>1.000000</td>\n",
              "      <td>1.000000</td>\n",
              "      <td>1.000000</td>\n",
              "      <td>246.381000</td>\n",
              "      <td>5.000000</td>\n",
              "    </tr>\n",
              "  </tbody>\n",
              "</table>\n",
              "</div>\n",
              "      <button class=\"colab-df-convert\" onclick=\"convertToInteractive('df-2b3fa971-8e21-4eb8-8e45-c8abba6eb785')\"\n",
              "              title=\"Convert this dataframe to an interactive table.\"\n",
              "              style=\"display:none;\">\n",
              "        \n",
              "  <svg xmlns=\"http://www.w3.org/2000/svg\" height=\"24px\"viewBox=\"0 0 24 24\"\n",
              "       width=\"24px\">\n",
              "    <path d=\"M0 0h24v24H0V0z\" fill=\"none\"/>\n",
              "    <path d=\"M18.56 5.44l.94 2.06.94-2.06 2.06-.94-2.06-.94-.94-2.06-.94 2.06-2.06.94zm-11 1L8.5 8.5l.94-2.06 2.06-.94-2.06-.94L8.5 2.5l-.94 2.06-2.06.94zm10 10l.94 2.06.94-2.06 2.06-.94-2.06-.94-.94-2.06-.94 2.06-2.06.94z\"/><path d=\"M17.41 7.96l-1.37-1.37c-.4-.4-.92-.59-1.43-.59-.52 0-1.04.2-1.43.59L10.3 9.45l-7.72 7.72c-.78.78-.78 2.05 0 2.83L4 21.41c.39.39.9.59 1.41.59.51 0 1.02-.2 1.41-.59l7.78-7.78 2.81-2.81c.8-.78.8-2.07 0-2.86zM5.41 20L4 18.59l7.72-7.72 1.47 1.35L5.41 20z\"/>\n",
              "  </svg>\n",
              "      </button>\n",
              "      \n",
              "  <style>\n",
              "    .colab-df-container {\n",
              "      display:flex;\n",
              "      flex-wrap:wrap;\n",
              "      gap: 12px;\n",
              "    }\n",
              "\n",
              "    .colab-df-convert {\n",
              "      background-color: #E8F0FE;\n",
              "      border: none;\n",
              "      border-radius: 50%;\n",
              "      cursor: pointer;\n",
              "      display: none;\n",
              "      fill: #1967D2;\n",
              "      height: 32px;\n",
              "      padding: 0 0 0 0;\n",
              "      width: 32px;\n",
              "    }\n",
              "\n",
              "    .colab-df-convert:hover {\n",
              "      background-color: #E2EBFA;\n",
              "      box-shadow: 0px 1px 2px rgba(60, 64, 67, 0.3), 0px 1px 3px 1px rgba(60, 64, 67, 0.15);\n",
              "      fill: #174EA6;\n",
              "    }\n",
              "\n",
              "    [theme=dark] .colab-df-convert {\n",
              "      background-color: #3B4455;\n",
              "      fill: #D2E3FC;\n",
              "    }\n",
              "\n",
              "    [theme=dark] .colab-df-convert:hover {\n",
              "      background-color: #434B5C;\n",
              "      box-shadow: 0px 1px 3px 1px rgba(0, 0, 0, 0.15);\n",
              "      filter: drop-shadow(0px 1px 2px rgba(0, 0, 0, 0.3));\n",
              "      fill: #FFFFFF;\n",
              "    }\n",
              "  </style>\n",
              "\n",
              "      <script>\n",
              "        const buttonEl =\n",
              "          document.querySelector('#df-2b3fa971-8e21-4eb8-8e45-c8abba6eb785 button.colab-df-convert');\n",
              "        buttonEl.style.display =\n",
              "          google.colab.kernel.accessAllowed ? 'block' : 'none';\n",
              "\n",
              "        async function convertToInteractive(key) {\n",
              "          const element = document.querySelector('#df-2b3fa971-8e21-4eb8-8e45-c8abba6eb785');\n",
              "          const dataTable =\n",
              "            await google.colab.kernel.invokeFunction('convertToInteractive',\n",
              "                                                     [key], {});\n",
              "          if (!dataTable) return;\n",
              "\n",
              "          const docLinkHtml = 'Like what you see? Visit the ' +\n",
              "            '<a target=\"_blank\" href=https://colab.research.google.com/notebooks/data_table.ipynb>data table notebook</a>'\n",
              "            + ' to learn more about interactive tables.';\n",
              "          element.innerHTML = '';\n",
              "          dataTable['output_type'] = 'display_data';\n",
              "          await google.colab.output.renderOutput(dataTable, element);\n",
              "          const docLink = document.createElement('div');\n",
              "          docLink.innerHTML = docLinkHtml;\n",
              "          element.appendChild(docLink);\n",
              "        }\n",
              "      </script>\n",
              "    </div>\n",
              "  </div>\n",
              "  "
            ]
          },
          "metadata": {},
          "execution_count": 14
        }
      ]
    },
    {
      "cell_type": "code",
      "source": [
        "categoricas = list(filter(lambda x: track_df[x].dtype==\"object\", track_df.columns))\n",
        "categoricas"
      ],
      "metadata": {
        "colab": {
          "base_uri": "https://localhost:8080/"
        },
        "id": "XEL-o8VmbKGa",
        "outputId": "d7619bde-fb65-46d9-abd7-7899dcdd893b"
      },
      "execution_count": null,
      "outputs": [
        {
          "output_type": "execute_result",
          "data": {
            "text/plain": [
              "['id', 'name', 'artists', 'id_artists', 'release_date']"
            ]
          },
          "metadata": {},
          "execution_count": 15
        }
      ]
    },
    {
      "cell_type": "code",
      "source": [
        "cat_df = track_df[categoricas]\n",
        "cat_df.head()"
      ],
      "metadata": {
        "colab": {
          "base_uri": "https://localhost:8080/"
        },
        "id": "RHCi--uUbkTV",
        "outputId": "4a8afb9f-63ba-4e81-853c-09db77285bdb"
      },
      "execution_count": null,
      "outputs": [
        {
          "output_type": "execute_result",
          "data": {
            "text/plain": [
              "                       id                                 name  \\\n",
              "0  35iwgR4jXetI318WEWsa1Q                                Carve   \n",
              "1  021ht4sdgPcrDgSk7JTbKY  Capítulo 2.16 - Banquero Anarquista   \n",
              "2  07A5yehtSnoedViJAZkNnc   Vivo para Quererte - Remasterizado   \n",
              "3  08FmqUhxtyLTn6pAh6bk45        El Prisionero - Remasterizado   \n",
              "4  08y9GfoqCWfOGsKdwojr5e                  Lady of the Evening   \n",
              "\n",
              "               artists                  id_artists release_date  \n",
              "0              ['Uli']  ['45tIt06XoI0Iio4LBEVpls']   1922-02-22  \n",
              "1  ['Fernando Pessoa']  ['14jtPCOoNZwquk5wd9DxrY']   1922-06-01  \n",
              "2  ['Ignacio Corsini']  ['5LiOoJbxVSAMkBS2fUm3X2']   1922-03-21  \n",
              "3  ['Ignacio Corsini']  ['5LiOoJbxVSAMkBS2fUm3X2']   1922-03-21  \n",
              "4      ['Dick Haymes']  ['3BiJGZsyX9sJchTqcSA7Su']         1922  "
            ],
            "text/html": [
              "\n",
              "  <div id=\"df-8e1276c7-ec68-4d23-8046-a731a6b31cc3\">\n",
              "    <div class=\"colab-df-container\">\n",
              "      <div>\n",
              "<style scoped>\n",
              "    .dataframe tbody tr th:only-of-type {\n",
              "        vertical-align: middle;\n",
              "    }\n",
              "\n",
              "    .dataframe tbody tr th {\n",
              "        vertical-align: top;\n",
              "    }\n",
              "\n",
              "    .dataframe thead th {\n",
              "        text-align: right;\n",
              "    }\n",
              "</style>\n",
              "<table border=\"1\" class=\"dataframe\">\n",
              "  <thead>\n",
              "    <tr style=\"text-align: right;\">\n",
              "      <th></th>\n",
              "      <th>id</th>\n",
              "      <th>name</th>\n",
              "      <th>artists</th>\n",
              "      <th>id_artists</th>\n",
              "      <th>release_date</th>\n",
              "    </tr>\n",
              "  </thead>\n",
              "  <tbody>\n",
              "    <tr>\n",
              "      <th>0</th>\n",
              "      <td>35iwgR4jXetI318WEWsa1Q</td>\n",
              "      <td>Carve</td>\n",
              "      <td>['Uli']</td>\n",
              "      <td>['45tIt06XoI0Iio4LBEVpls']</td>\n",
              "      <td>1922-02-22</td>\n",
              "    </tr>\n",
              "    <tr>\n",
              "      <th>1</th>\n",
              "      <td>021ht4sdgPcrDgSk7JTbKY</td>\n",
              "      <td>Capítulo 2.16 - Banquero Anarquista</td>\n",
              "      <td>['Fernando Pessoa']</td>\n",
              "      <td>['14jtPCOoNZwquk5wd9DxrY']</td>\n",
              "      <td>1922-06-01</td>\n",
              "    </tr>\n",
              "    <tr>\n",
              "      <th>2</th>\n",
              "      <td>07A5yehtSnoedViJAZkNnc</td>\n",
              "      <td>Vivo para Quererte - Remasterizado</td>\n",
              "      <td>['Ignacio Corsini']</td>\n",
              "      <td>['5LiOoJbxVSAMkBS2fUm3X2']</td>\n",
              "      <td>1922-03-21</td>\n",
              "    </tr>\n",
              "    <tr>\n",
              "      <th>3</th>\n",
              "      <td>08FmqUhxtyLTn6pAh6bk45</td>\n",
              "      <td>El Prisionero - Remasterizado</td>\n",
              "      <td>['Ignacio Corsini']</td>\n",
              "      <td>['5LiOoJbxVSAMkBS2fUm3X2']</td>\n",
              "      <td>1922-03-21</td>\n",
              "    </tr>\n",
              "    <tr>\n",
              "      <th>4</th>\n",
              "      <td>08y9GfoqCWfOGsKdwojr5e</td>\n",
              "      <td>Lady of the Evening</td>\n",
              "      <td>['Dick Haymes']</td>\n",
              "      <td>['3BiJGZsyX9sJchTqcSA7Su']</td>\n",
              "      <td>1922</td>\n",
              "    </tr>\n",
              "  </tbody>\n",
              "</table>\n",
              "</div>\n",
              "      <button class=\"colab-df-convert\" onclick=\"convertToInteractive('df-8e1276c7-ec68-4d23-8046-a731a6b31cc3')\"\n",
              "              title=\"Convert this dataframe to an interactive table.\"\n",
              "              style=\"display:none;\">\n",
              "        \n",
              "  <svg xmlns=\"http://www.w3.org/2000/svg\" height=\"24px\"viewBox=\"0 0 24 24\"\n",
              "       width=\"24px\">\n",
              "    <path d=\"M0 0h24v24H0V0z\" fill=\"none\"/>\n",
              "    <path d=\"M18.56 5.44l.94 2.06.94-2.06 2.06-.94-2.06-.94-.94-2.06-.94 2.06-2.06.94zm-11 1L8.5 8.5l.94-2.06 2.06-.94-2.06-.94L8.5 2.5l-.94 2.06-2.06.94zm10 10l.94 2.06.94-2.06 2.06-.94-2.06-.94-.94-2.06-.94 2.06-2.06.94z\"/><path d=\"M17.41 7.96l-1.37-1.37c-.4-.4-.92-.59-1.43-.59-.52 0-1.04.2-1.43.59L10.3 9.45l-7.72 7.72c-.78.78-.78 2.05 0 2.83L4 21.41c.39.39.9.59 1.41.59.51 0 1.02-.2 1.41-.59l7.78-7.78 2.81-2.81c.8-.78.8-2.07 0-2.86zM5.41 20L4 18.59l7.72-7.72 1.47 1.35L5.41 20z\"/>\n",
              "  </svg>\n",
              "      </button>\n",
              "      \n",
              "  <style>\n",
              "    .colab-df-container {\n",
              "      display:flex;\n",
              "      flex-wrap:wrap;\n",
              "      gap: 12px;\n",
              "    }\n",
              "\n",
              "    .colab-df-convert {\n",
              "      background-color: #E8F0FE;\n",
              "      border: none;\n",
              "      border-radius: 50%;\n",
              "      cursor: pointer;\n",
              "      display: none;\n",
              "      fill: #1967D2;\n",
              "      height: 32px;\n",
              "      padding: 0 0 0 0;\n",
              "      width: 32px;\n",
              "    }\n",
              "\n",
              "    .colab-df-convert:hover {\n",
              "      background-color: #E2EBFA;\n",
              "      box-shadow: 0px 1px 2px rgba(60, 64, 67, 0.3), 0px 1px 3px 1px rgba(60, 64, 67, 0.15);\n",
              "      fill: #174EA6;\n",
              "    }\n",
              "\n",
              "    [theme=dark] .colab-df-convert {\n",
              "      background-color: #3B4455;\n",
              "      fill: #D2E3FC;\n",
              "    }\n",
              "\n",
              "    [theme=dark] .colab-df-convert:hover {\n",
              "      background-color: #434B5C;\n",
              "      box-shadow: 0px 1px 3px 1px rgba(0, 0, 0, 0.15);\n",
              "      filter: drop-shadow(0px 1px 2px rgba(0, 0, 0, 0.3));\n",
              "      fill: #FFFFFF;\n",
              "    }\n",
              "  </style>\n",
              "\n",
              "      <script>\n",
              "        const buttonEl =\n",
              "          document.querySelector('#df-8e1276c7-ec68-4d23-8046-a731a6b31cc3 button.colab-df-convert');\n",
              "        buttonEl.style.display =\n",
              "          google.colab.kernel.accessAllowed ? 'block' : 'none';\n",
              "\n",
              "        async function convertToInteractive(key) {\n",
              "          const element = document.querySelector('#df-8e1276c7-ec68-4d23-8046-a731a6b31cc3');\n",
              "          const dataTable =\n",
              "            await google.colab.kernel.invokeFunction('convertToInteractive',\n",
              "                                                     [key], {});\n",
              "          if (!dataTable) return;\n",
              "\n",
              "          const docLinkHtml = 'Like what you see? Visit the ' +\n",
              "            '<a target=\"_blank\" href=https://colab.research.google.com/notebooks/data_table.ipynb>data table notebook</a>'\n",
              "            + ' to learn more about interactive tables.';\n",
              "          element.innerHTML = '';\n",
              "          dataTable['output_type'] = 'display_data';\n",
              "          await google.colab.output.renderOutput(dataTable, element);\n",
              "          const docLink = document.createElement('div');\n",
              "          docLink.innerHTML = docLinkHtml;\n",
              "          element.appendChild(docLink);\n",
              "        }\n",
              "      </script>\n",
              "    </div>\n",
              "  </div>\n",
              "  "
            ]
          },
          "metadata": {},
          "execution_count": 16
        }
      ]
    },
    {
      "cell_type": "markdown",
      "source": [
        "Limpieza realease_date\n",
        "\n",
        "YYYY-MM-DD"
      ],
      "metadata": {
        "id": "Rw23N5V0cm5_"
      }
    },
    {
      "cell_type": "code",
      "source": [
        "date_malformed = track_df.loc[track_df['release_date'].apply(lambda x: (re.match('\\d{4}-\\d{2}-\\d{2}', x) is None))]"
      ],
      "metadata": {
        "id": "25DUD33vb2pw"
      },
      "execution_count": null,
      "outputs": []
    },
    {
      "cell_type": "code",
      "source": [
        "date_malformed.shape"
      ],
      "metadata": {
        "colab": {
          "base_uri": "https://localhost:8080/"
        },
        "id": "FLQ59v1Zdq9y",
        "outputId": "eef0c8dc-a704-42e4-bcc0-cc44b04fcb6e"
      },
      "execution_count": null,
      "outputs": [
        {
          "output_type": "execute_result",
          "data": {
            "text/plain": [
              "(138594, 20)"
            ]
          },
          "metadata": {},
          "execution_count": 18
        }
      ]
    },
    {
      "cell_type": "code",
      "source": [
        "date_malformed.sample(3)"
      ],
      "metadata": {
        "colab": {
          "base_uri": "https://localhost:8080/"
        },
        "id": "aJhHWAB7dvEy",
        "outputId": "6cfdb4a7-ea2d-4e54-f862-6857439861e6"
      },
      "execution_count": null,
      "outputs": [
        {
          "output_type": "execute_result",
          "data": {
            "text/plain": [
              "                            id  \\\n",
              "8251    460OLdgNCMd8xdaMZYHrZw   \n",
              "150797  7mdygXWc4Rl4u2vnCj2h03   \n",
              "136272  4NUu82CgyrktXZbKLIcorB   \n",
              "\n",
              "                                                     name  popularity  \\\n",
              "8251    What a Night, What a Moon, What a Girl (with T...        13.0   \n",
              "150797                                         Luna Negra        26.0   \n",
              "136272                              Don't Cry, Sweetheart         0.0   \n",
              "\n",
              "        duration_ms  explicit                             artists  \\\n",
              "8251         175840         0  ['Billie Holiday', 'Teddy Wilson']   \n",
              "150797       284467         0                        ['Rey Ruiz']   \n",
              "136272       160884         0                     ['Russ Morgan']   \n",
              "\n",
              "                                               id_artists release_date  \\\n",
              "8251    ['1YzCsTRb22dQkh9lghPIrp', '0tg5uVI4VjzZOFzBry...         1933   \n",
              "150797                         ['1S0uvW1rgvtkNGma9su3fJ']         1992   \n",
              "136272                         ['4p2WNjwHrHBUD9XJBmbf7H']         1944   \n",
              "\n",
              "        danceability  energy  key  loudness  mode  speechiness  acousticness  \\\n",
              "8251           0.768   0.430  7.0   -11.055   0.0       0.0447         0.805   \n",
              "150797         0.690   0.694  5.0    -6.467   1.0       0.0366         0.566   \n",
              "136272         0.258   0.531  7.0    -5.743   1.0       0.0339           NaN   \n",
              "\n",
              "        instrumentalness  liveness  valence    tempo  time_signature  \n",
              "8251            0.045800     0.219    0.957  113.136             4.0  \n",
              "150797          0.000009     0.062    0.900  173.978             4.0  \n",
              "136272          0.919000       NaN    0.410  129.013             4.0  "
            ],
            "text/html": [
              "\n",
              "  <div id=\"df-a4264324-776d-4ea7-8333-11396c050c69\">\n",
              "    <div class=\"colab-df-container\">\n",
              "      <div>\n",
              "<style scoped>\n",
              "    .dataframe tbody tr th:only-of-type {\n",
              "        vertical-align: middle;\n",
              "    }\n",
              "\n",
              "    .dataframe tbody tr th {\n",
              "        vertical-align: top;\n",
              "    }\n",
              "\n",
              "    .dataframe thead th {\n",
              "        text-align: right;\n",
              "    }\n",
              "</style>\n",
              "<table border=\"1\" class=\"dataframe\">\n",
              "  <thead>\n",
              "    <tr style=\"text-align: right;\">\n",
              "      <th></th>\n",
              "      <th>id</th>\n",
              "      <th>name</th>\n",
              "      <th>popularity</th>\n",
              "      <th>duration_ms</th>\n",
              "      <th>explicit</th>\n",
              "      <th>artists</th>\n",
              "      <th>id_artists</th>\n",
              "      <th>release_date</th>\n",
              "      <th>danceability</th>\n",
              "      <th>energy</th>\n",
              "      <th>key</th>\n",
              "      <th>loudness</th>\n",
              "      <th>mode</th>\n",
              "      <th>speechiness</th>\n",
              "      <th>acousticness</th>\n",
              "      <th>instrumentalness</th>\n",
              "      <th>liveness</th>\n",
              "      <th>valence</th>\n",
              "      <th>tempo</th>\n",
              "      <th>time_signature</th>\n",
              "    </tr>\n",
              "  </thead>\n",
              "  <tbody>\n",
              "    <tr>\n",
              "      <th>8251</th>\n",
              "      <td>460OLdgNCMd8xdaMZYHrZw</td>\n",
              "      <td>What a Night, What a Moon, What a Girl (with T...</td>\n",
              "      <td>13.0</td>\n",
              "      <td>175840</td>\n",
              "      <td>0</td>\n",
              "      <td>['Billie Holiday', 'Teddy Wilson']</td>\n",
              "      <td>['1YzCsTRb22dQkh9lghPIrp', '0tg5uVI4VjzZOFzBry...</td>\n",
              "      <td>1933</td>\n",
              "      <td>0.768</td>\n",
              "      <td>0.430</td>\n",
              "      <td>7.0</td>\n",
              "      <td>-11.055</td>\n",
              "      <td>0.0</td>\n",
              "      <td>0.0447</td>\n",
              "      <td>0.805</td>\n",
              "      <td>0.045800</td>\n",
              "      <td>0.219</td>\n",
              "      <td>0.957</td>\n",
              "      <td>113.136</td>\n",
              "      <td>4.0</td>\n",
              "    </tr>\n",
              "    <tr>\n",
              "      <th>150797</th>\n",
              "      <td>7mdygXWc4Rl4u2vnCj2h03</td>\n",
              "      <td>Luna Negra</td>\n",
              "      <td>26.0</td>\n",
              "      <td>284467</td>\n",
              "      <td>0</td>\n",
              "      <td>['Rey Ruiz']</td>\n",
              "      <td>['1S0uvW1rgvtkNGma9su3fJ']</td>\n",
              "      <td>1992</td>\n",
              "      <td>0.690</td>\n",
              "      <td>0.694</td>\n",
              "      <td>5.0</td>\n",
              "      <td>-6.467</td>\n",
              "      <td>1.0</td>\n",
              "      <td>0.0366</td>\n",
              "      <td>0.566</td>\n",
              "      <td>0.000009</td>\n",
              "      <td>0.062</td>\n",
              "      <td>0.900</td>\n",
              "      <td>173.978</td>\n",
              "      <td>4.0</td>\n",
              "    </tr>\n",
              "    <tr>\n",
              "      <th>136272</th>\n",
              "      <td>4NUu82CgyrktXZbKLIcorB</td>\n",
              "      <td>Don't Cry, Sweetheart</td>\n",
              "      <td>0.0</td>\n",
              "      <td>160884</td>\n",
              "      <td>0</td>\n",
              "      <td>['Russ Morgan']</td>\n",
              "      <td>['4p2WNjwHrHBUD9XJBmbf7H']</td>\n",
              "      <td>1944</td>\n",
              "      <td>0.258</td>\n",
              "      <td>0.531</td>\n",
              "      <td>7.0</td>\n",
              "      <td>-5.743</td>\n",
              "      <td>1.0</td>\n",
              "      <td>0.0339</td>\n",
              "      <td>NaN</td>\n",
              "      <td>0.919000</td>\n",
              "      <td>NaN</td>\n",
              "      <td>0.410</td>\n",
              "      <td>129.013</td>\n",
              "      <td>4.0</td>\n",
              "    </tr>\n",
              "  </tbody>\n",
              "</table>\n",
              "</div>\n",
              "      <button class=\"colab-df-convert\" onclick=\"convertToInteractive('df-a4264324-776d-4ea7-8333-11396c050c69')\"\n",
              "              title=\"Convert this dataframe to an interactive table.\"\n",
              "              style=\"display:none;\">\n",
              "        \n",
              "  <svg xmlns=\"http://www.w3.org/2000/svg\" height=\"24px\"viewBox=\"0 0 24 24\"\n",
              "       width=\"24px\">\n",
              "    <path d=\"M0 0h24v24H0V0z\" fill=\"none\"/>\n",
              "    <path d=\"M18.56 5.44l.94 2.06.94-2.06 2.06-.94-2.06-.94-.94-2.06-.94 2.06-2.06.94zm-11 1L8.5 8.5l.94-2.06 2.06-.94-2.06-.94L8.5 2.5l-.94 2.06-2.06.94zm10 10l.94 2.06.94-2.06 2.06-.94-2.06-.94-.94-2.06-.94 2.06-2.06.94z\"/><path d=\"M17.41 7.96l-1.37-1.37c-.4-.4-.92-.59-1.43-.59-.52 0-1.04.2-1.43.59L10.3 9.45l-7.72 7.72c-.78.78-.78 2.05 0 2.83L4 21.41c.39.39.9.59 1.41.59.51 0 1.02-.2 1.41-.59l7.78-7.78 2.81-2.81c.8-.78.8-2.07 0-2.86zM5.41 20L4 18.59l7.72-7.72 1.47 1.35L5.41 20z\"/>\n",
              "  </svg>\n",
              "      </button>\n",
              "      \n",
              "  <style>\n",
              "    .colab-df-container {\n",
              "      display:flex;\n",
              "      flex-wrap:wrap;\n",
              "      gap: 12px;\n",
              "    }\n",
              "\n",
              "    .colab-df-convert {\n",
              "      background-color: #E8F0FE;\n",
              "      border: none;\n",
              "      border-radius: 50%;\n",
              "      cursor: pointer;\n",
              "      display: none;\n",
              "      fill: #1967D2;\n",
              "      height: 32px;\n",
              "      padding: 0 0 0 0;\n",
              "      width: 32px;\n",
              "    }\n",
              "\n",
              "    .colab-df-convert:hover {\n",
              "      background-color: #E2EBFA;\n",
              "      box-shadow: 0px 1px 2px rgba(60, 64, 67, 0.3), 0px 1px 3px 1px rgba(60, 64, 67, 0.15);\n",
              "      fill: #174EA6;\n",
              "    }\n",
              "\n",
              "    [theme=dark] .colab-df-convert {\n",
              "      background-color: #3B4455;\n",
              "      fill: #D2E3FC;\n",
              "    }\n",
              "\n",
              "    [theme=dark] .colab-df-convert:hover {\n",
              "      background-color: #434B5C;\n",
              "      box-shadow: 0px 1px 3px 1px rgba(0, 0, 0, 0.15);\n",
              "      filter: drop-shadow(0px 1px 2px rgba(0, 0, 0, 0.3));\n",
              "      fill: #FFFFFF;\n",
              "    }\n",
              "  </style>\n",
              "\n",
              "      <script>\n",
              "        const buttonEl =\n",
              "          document.querySelector('#df-a4264324-776d-4ea7-8333-11396c050c69 button.colab-df-convert');\n",
              "        buttonEl.style.display =\n",
              "          google.colab.kernel.accessAllowed ? 'block' : 'none';\n",
              "\n",
              "        async function convertToInteractive(key) {\n",
              "          const element = document.querySelector('#df-a4264324-776d-4ea7-8333-11396c050c69');\n",
              "          const dataTable =\n",
              "            await google.colab.kernel.invokeFunction('convertToInteractive',\n",
              "                                                     [key], {});\n",
              "          if (!dataTable) return;\n",
              "\n",
              "          const docLinkHtml = 'Like what you see? Visit the ' +\n",
              "            '<a target=\"_blank\" href=https://colab.research.google.com/notebooks/data_table.ipynb>data table notebook</a>'\n",
              "            + ' to learn more about interactive tables.';\n",
              "          element.innerHTML = '';\n",
              "          dataTable['output_type'] = 'display_data';\n",
              "          await google.colab.output.renderOutput(dataTable, element);\n",
              "          const docLink = document.createElement('div');\n",
              "          docLink.innerHTML = docLinkHtml;\n",
              "          element.appendChild(docLink);\n",
              "        }\n",
              "      </script>\n",
              "    </div>\n",
              "  </div>\n",
              "  "
            ]
          },
          "metadata": {},
          "execution_count": 19
        }
      ]
    },
    {
      "cell_type": "code",
      "source": [
        "date_malformed['release_date'].unique()"
      ],
      "metadata": {
        "colab": {
          "base_uri": "https://localhost:8080/"
        },
        "id": "4LC28l_XeAYh",
        "outputId": "147438fe-2634-4b94-ab57-b4d41d96bdc6"
      },
      "execution_count": null,
      "outputs": [
        {
          "output_type": "execute_result",
          "data": {
            "text/plain": [
              "array(['1922', '1923', 'Year 1923', '1924', '1925', '1926', '1927',\n",
              "       '1928', '1929', '1930', '1931', '1932', '1933', '1934', '1935',\n",
              "       '1936', '1937', '1938', '1939', '1940', '1941', '1942', '1943',\n",
              "       '1944', '1945', '1946', '1947', '1948', '1949', '1950', '1951',\n",
              "       '1952', '1953', '1954', '1955', '1956-03', '1956', '1956-04',\n",
              "       '1957-03', '1957', '1957-06', '1957-09', '1957-11', '1958',\n",
              "       '1958-04', '1958-06', '1958-01', '1958-11', '1959', '1959-07',\n",
              "       '1960', '1960-02', '1960-07', '1960-10', '1960-03', '1960-08',\n",
              "       '1960-01', '1961', '1961-03', '1961-10', '1961-02', '1961-07',\n",
              "       '1961-12', '1962', '1962-04', '1962-07', '1962-11', '1962-03',\n",
              "       '1962-02', '1962-10', '1963-02', '1963', '1963-07', '1963-08',\n",
              "       '1963-09', '1963-10', '1963-05', '1964', '1964-08', '1964-10',\n",
              "       '1964-06', '1964-09', '1964-11', '1964-04', '1965', '1965-11',\n",
              "       '1965-08', '1965-03', '1965-12', '1965-02', '1965-05', '1968',\n",
              "       '1966-03', '1966-11', '1966-05', '1966', '1966-07', '1966-09',\n",
              "       '1991', '1992', '1966-06', '1967-09', '1967', '1967-08', '1967-03',\n",
              "       '1967-01', '1967-12', '1967-10', '1968-10', '1968-01', '1968-12',\n",
              "       '1968-02', '1968-03', '1968-11', '1968-09', '1969-03', '1969',\n",
              "       '1969-01', '1969-08', '1969-09', '1969-04', '1970', '1970-02',\n",
              "       '1970-11', '1970-06', '1970-04', '1970-03', '1970-10', '1970-12',\n",
              "       '1970-09', '1971', '1971-09', '1971-03', '1971-11', '1971-06',\n",
              "       '1971-12', '1971-07', '1971-02', '1971-08', '1971-10', '1972',\n",
              "       '1972-05', '1972-07', '1972-01', '1973', '1973-09', '1973-05',\n",
              "       '1973-08', '1973-10', '1973-02', '1974', '1974-01', '1974-11',\n",
              "       '1974-09', '1974-04', '1974-05', '1974-02', '1975', '1975-09',\n",
              "       '1975-10', '1975-02', '1975-11', '1976', '1976-11', '1976-09',\n",
              "       '1976-12', '1976-08', '1976-10', '1976-05', '1977', '1977-09',\n",
              "       '1977-08', '1977-04', '1977-10', '1978', '1978-04', '1978-12',\n",
              "       '1978-06', '1978-09', '1979', '1979-06', '1979-08', '1979-05',\n",
              "       '1979-10', '1980', '1980-07', '1980-05', '1980-08', '1981',\n",
              "       '1981-02', '1981-03', '1981-08', '1981-01', '1982', '1982-10',\n",
              "       '1982-02', '1982-11', '1982-03', '1982-05', '1983', '1983-05',\n",
              "       '1983-03', '1984', '1984-11', '1985', '1985-10', '1985-07', '1986',\n",
              "       '1986-08', '1986-07', '1986-12', '1987', '1987-09', '1987-03',\n",
              "       '1987-10', '1988', '1989', '1990', '1990-07', '1990-10', '1990-02',\n",
              "       '1991-09', '1992-10', '1993', '1994', '1995', '1995-06', '1995-05',\n",
              "       '1996', '1997', '1998', '1999', '2000', '2008', '2013', '2009',\n",
              "       '2006', '2003', '2001', '2002', '2017', '2012', '2004', '2010',\n",
              "       '2015', '2016', '2007', '2005', '2014', '2011', '1957-04',\n",
              "       '1969-07', '1976-02', '1980-03', '1981-12', '1982-08', '1985-03',\n",
              "       '1986-10', '1987-02', '1987-11', '1988-06', '1989-05', '1994-12',\n",
              "       '1975-06', '1987-04', '2018', '1965-10', '1967-11', '1968-06',\n",
              "       '1972-11', '1974-07', '1989-09', '1958-12', '1977-02', '1991-01',\n",
              "       '1995-03', '1996-11', '1998-10', '2019', '1964-02', '1983-04',\n",
              "       '1984-12', '1986-03', '1988-08', '1989-02', '1997-03', '1967-02',\n",
              "       '2005-05', '1984-05', '2003-01', '1983-08', '1979-02', '1986-09',\n",
              "       '1987-12', '1988-12', '1990-01', '1990-11', '1981-07', '1985-09',\n",
              "       '1981-11', '1966-02', '1968-08', '1973-11', '1978-01', '1979-12',\n",
              "       '1980-12', '1983-01', '1997-09', '1970-07', '1969-11', '1978-10',\n",
              "       '2002-03', '1988-05', '1972-10', '1968-05', '1983-10', '1988-04',\n",
              "       '2001-09', '1996-02', '2002-09', '2003-07', 'Year 2013', '1967-05',\n",
              "       '1980-09', '1988-10', '1989-10', '1974-10', '1969-06', '1985-11',\n",
              "       '1987-06', 'Year 1998', '1966-10', '1975-05', '1973-01', '1976-03',\n",
              "       '1981-05', '1983-09', '1985-04', '1996-03', '1980-10', '1981-10',\n",
              "       '1999-10', '1991-05', 'Year 2020'], dtype=object)"
            ]
          },
          "metadata": {},
          "execution_count": 20
        }
      ]
    },
    {
      "cell_type": "markdown",
      "source": [
        "Se omitirá el valor de string year"
      ],
      "metadata": {
        "id": "CZ2WG4-8eUdy"
      }
    },
    {
      "cell_type": "code",
      "source": [
        "def extract_year(x):\n",
        "  year = None\n",
        "  if \"Year\" in x:\n",
        "    x = x.replace(\"Year\", \"\")\n",
        "    x = x.strip()\n",
        "    year = x\n",
        "  else:\n",
        "    year = x\n",
        "  \n",
        "  return year\n",
        "\n",
        "extract_year(\"Year 2020\")"
      ],
      "metadata": {
        "colab": {
          "base_uri": "https://localhost:8080/"
        },
        "id": "qTJjH5Q-eeHO",
        "outputId": "22d608b3-10c4-40f4-d718-14c184a04e7c"
      },
      "execution_count": null,
      "outputs": [
        {
          "output_type": "execute_result",
          "data": {
            "text/plain": [
              "'2020'"
            ],
            "application/vnd.google.colaboratory.intrinsic+json": {
              "type": "string"
            }
          },
          "metadata": {},
          "execution_count": 21
        }
      ]
    },
    {
      "cell_type": "code",
      "source": [
        "pd.to_datetime(date_malformed['release_date'].apply(extract_year))"
      ],
      "metadata": {
        "colab": {
          "base_uri": "https://localhost:8080/"
        },
        "id": "YArAvdKRfQI_",
        "outputId": "69bd0f7c-6108-4a4f-ef8a-9118a6f158d0"
      },
      "execution_count": null,
      "outputs": [
        {
          "output_type": "execute_result",
          "data": {
            "text/plain": [
              "4        1922-01-01\n",
              "5        1922-01-01\n",
              "6        1922-01-01\n",
              "7        1922-01-01\n",
              "8        1922-01-01\n",
              "            ...    \n",
              "586437   2009-01-01\n",
              "586473   2011-01-01\n",
              "586499   2013-01-01\n",
              "586553   2015-01-01\n",
              "586664   2020-01-01\n",
              "Name: release_date, Length: 138594, dtype: datetime64[ns]"
            ]
          },
          "metadata": {},
          "execution_count": 22
        }
      ]
    },
    {
      "cell_type": "code",
      "source": [
        "track_df['release_date'] = track_df[\"release_date\"].apply(extract_year)"
      ],
      "metadata": {
        "id": "IuDiYTZXgBGk"
      },
      "execution_count": null,
      "outputs": []
    },
    {
      "cell_type": "code",
      "source": [
        "track_df['release_date'] = pd.to_datetime(track_df['release_date'])"
      ],
      "metadata": {
        "id": "Udy3ZUgYgNVE"
      },
      "execution_count": null,
      "outputs": []
    },
    {
      "cell_type": "code",
      "source": [
        "track_df['release_date'].dtype"
      ],
      "metadata": {
        "colab": {
          "base_uri": "https://localhost:8080/"
        },
        "id": "LGmm_dr_gZqA",
        "outputId": "34ee670e-eae4-46ff-d906-5d00783e7082"
      },
      "execution_count": null,
      "outputs": [
        {
          "output_type": "execute_result",
          "data": {
            "text/plain": [
              "dtype('<M8[ns]')"
            ]
          },
          "metadata": {},
          "execution_count": 25
        }
      ]
    },
    {
      "cell_type": "code",
      "source": [
        "track_df.dtypes"
      ],
      "metadata": {
        "colab": {
          "base_uri": "https://localhost:8080/"
        },
        "id": "oCbXImwTghCG",
        "outputId": "c0508dd6-d280-42a2-e692-37256851927a"
      },
      "execution_count": null,
      "outputs": [
        {
          "output_type": "execute_result",
          "data": {
            "text/plain": [
              "id                          object\n",
              "name                        object\n",
              "popularity                 float64\n",
              "duration_ms                  int64\n",
              "explicit                     int64\n",
              "artists                     object\n",
              "id_artists                  object\n",
              "release_date        datetime64[ns]\n",
              "danceability               float64\n",
              "energy                     float64\n",
              "key                        float64\n",
              "loudness                   float64\n",
              "mode                       float64\n",
              "speechiness                float64\n",
              "acousticness               float64\n",
              "instrumentalness           float64\n",
              "liveness                   float64\n",
              "valence                    float64\n",
              "tempo                      float64\n",
              "time_signature             float64\n",
              "dtype: object"
            ]
          },
          "metadata": {},
          "execution_count": 26
        }
      ]
    },
    {
      "cell_type": "markdown",
      "source": [
        "## Analisis exploratorio de datos"
      ],
      "metadata": {
        "id": "jP9pkdCRhePv"
      }
    },
    {
      "cell_type": "markdown",
      "source": [
        "### Univariados"
      ],
      "metadata": {
        "id": "J11HNyj2hro6"
      }
    },
    {
      "cell_type": "markdown",
      "source": [
        "Descripción de columnas:\n",
        "\n",
        "* id: -\n",
        "* name: -\n",
        "* popularity: The popularity of the album. The value will be between 0 and 100, with 100 being the most popular.\n",
        "* duration_ms: The track length in milliseconds.\n",
        "* explicit: Whether or not the track has explicit lyrics ( true = yes it does; false = no it does not OR unknown)\n",
        "* artists: The artists who performed the track. Each artist object includes a link in href to more detailed information about the artist.\n",
        "* id_artists: -\n",
        "* release_date: The date the album was first released.\n",
        "* danceability: Danceability describes how suitable a track is for dancing based on a combination of musical elements including tempo, rhythm stability, beat strength, and overall regularity. A value of 0.0 is least danceable and 1.0 is most danceable.\n",
        "* energy: Energy is a measure from 0.0 to 1.0 and represents a perceptual measure of intensity and activity. Typically, energetic tracks feel fast, loud, and noisy. For example, death metal has high energy, while a Bach prelude scores low on the scale. Perceptual features contributing to this attribute include dynamic range, perceived loudness, timbre, onset rate, and general entropy.\n",
        "* key: The key the track is in. Integers map to pitches using standard Pitch Class notation. E.g. 0 = C, 1 = C♯/D♭, 2 = D, and so on. If no key was detected, the value is -1.\n",
        "* loudness: The overall loudness of a track in decibels (dB). Loudness values are averaged across the entire track and are useful for comparing relative loudness of tracks. Loudness is the quality of a sound that is the primary psychological correlate of physical strength (amplitude). Values typically range between -60 and 0 db.\n",
        "* mode: Mode indicates the modality (major or minor) of a track, the type of scale from which its melodic content is derived. Major is represented by 1 and minor is 0.\n",
        "* speechiness: Speechiness detects the presence of spoken words in a track. The more exclusively speech-like the recording (e.g. talk show, audio book, poetry), the closer to 1.0 the attribute value. Values above 0.66 describe tracks that are probably made entirely of spoken words. Values between 0.33 and 0.66 describe tracks that may contain both music and speech, either in sections or layered, including such cases as rap music. Values below 0.33 most likely represent music and other non-speech-like tracks.\n",
        "* acousticness: A confidence measure from 0.0 to 1.0 of whether the track is acoustic. 1.0 represents high confidence the track is acoustic.\n",
        "* instrumentalness: Predicts whether a track contains no vocals. \"Ooh\" and \"aah\" sounds are treated as instrumental in this context. Rap or spoken word tracks are clearly \"vocal\". The closer the instrumentalness value is to 1.0, the greater likelihood the track contains no vocal content. Values above 0.5 are intended to represent instrumental tracks, but confidence is higher as the value approaches 1.0.\n",
        "* liveness: Detects the presence of an audience in the recording. Higher liveness values represent an increased probability that the track was performed live. A value above 0.8 provides strong likelihood that the track is live.\n",
        "* valence: A measure from 0.0 to 1.0 describing the musical positiveness conveyed by a track. Tracks with high valence sound more positive (e.g. happy, cheerful, euphoric), while tracks with low valence sound more negative (e.g. sad, depressed, angry).\n",
        "* tempo: The overall estimated tempo of a track in beats per minute (BPM). In musical terminology, tempo is the speed or pace of a given piece and derives directly from the average beat duration.\n",
        "* time_signature: An estimated time signature. The time signature (meter) is a notational convention to specify how many beats are in each bar (or measure). The time signature ranges from 3 to 7 indicating time signatures of \"3/4\", to \"7/4\"."
      ],
      "metadata": {
        "id": "JO7paBU4mJNh"
      }
    },
    {
      "cell_type": "code",
      "source": [
        "#profile = ProfileReport(track_df)"
      ],
      "metadata": {
        "id": "rVv0FhdqkMvA"
      },
      "execution_count": null,
      "outputs": []
    },
    {
      "cell_type": "code",
      "source": [
        "#profile.to_notebook_iframe()"
      ],
      "metadata": {
        "id": "NuOYabm8k8AY"
      },
      "execution_count": null,
      "outputs": []
    },
    {
      "cell_type": "code",
      "source": [
        "track_df.describe()"
      ],
      "metadata": {
        "colab": {
          "base_uri": "https://localhost:8080/",
          "height": 364
        },
        "id": "OyAUGr9amWnT",
        "outputId": "ca047502-a57d-4fce-8a93-e7b07da4defc"
      },
      "execution_count": null,
      "outputs": [
        {
          "output_type": "execute_result",
          "data": {
            "text/plain": [
              "          popularity   duration_ms       explicit   danceability  \\\n",
              "count  555128.000000  5.866720e+05  586672.000000  564477.000000   \n",
              "mean       27.564493  2.300512e+05       0.027571       0.563608   \n",
              "std        18.371158  1.265261e+05       0.241849       0.166092   \n",
              "min         0.000000  3.344000e+03      -1.000000       0.000000   \n",
              "25%        13.000000  1.750930e+05       0.000000       0.453000   \n",
              "50%        27.000000  2.148930e+05       0.000000       0.577000   \n",
              "75%        41.000000  2.638670e+05       0.000000       0.686000   \n",
              "max       100.000000  5.621218e+06       1.000000       0.991000   \n",
              "\n",
              "              energy            key       loudness           mode  \\\n",
              "count  564246.000000  564114.000000  564238.000000  564406.000000   \n",
              "mean        0.542160       5.222037     -10.206486       0.658609   \n",
              "std         0.251872       3.519683       5.089432       0.474177   \n",
              "min         0.000000       0.000000     -60.000000       0.000000   \n",
              "25%         0.343000       2.000000     -12.890000       0.000000   \n",
              "50%         0.549000       5.000000      -9.242000       1.000000   \n",
              "75%         0.748000       8.000000      -6.483000       1.000000   \n",
              "max         1.000000      11.000000       5.376000       1.000000   \n",
              "\n",
              "         speechiness   acousticness  instrumentalness       liveness  \\\n",
              "count  564216.000000  564055.000000     564202.000000  564394.000000   \n",
              "mean        0.104757       0.449750          0.113352       0.213931   \n",
              "std         0.179644       0.348881          0.266767       0.184336   \n",
              "min         0.000000       0.000000          0.000000       0.000000   \n",
              "25%         0.034000       0.096700          0.000000       0.098300   \n",
              "50%         0.044300       0.422000          0.000024       0.139000   \n",
              "75%         0.076300       0.784000          0.009530       0.278000   \n",
              "max         0.971000       0.996000          1.000000       1.000000   \n",
              "\n",
              "             valence          tempo  time_signature  \n",
              "count  564324.000000  564318.000000   564322.000000  \n",
              "mean        0.552261     118.457192        3.873484  \n",
              "std         0.257680      29.765675        0.472978  \n",
              "min         0.000000       0.000000        0.000000  \n",
              "25%         0.346000      95.594000        4.000000  \n",
              "50%         0.564000     117.375000        4.000000  \n",
              "75%         0.769000     136.317000        4.000000  \n",
              "max         1.000000     246.381000        5.000000  "
            ],
            "text/html": [
              "\n",
              "  <div id=\"df-f21128c6-5f4d-4370-8982-f84d4d1a9d73\">\n",
              "    <div class=\"colab-df-container\">\n",
              "      <div>\n",
              "<style scoped>\n",
              "    .dataframe tbody tr th:only-of-type {\n",
              "        vertical-align: middle;\n",
              "    }\n",
              "\n",
              "    .dataframe tbody tr th {\n",
              "        vertical-align: top;\n",
              "    }\n",
              "\n",
              "    .dataframe thead th {\n",
              "        text-align: right;\n",
              "    }\n",
              "</style>\n",
              "<table border=\"1\" class=\"dataframe\">\n",
              "  <thead>\n",
              "    <tr style=\"text-align: right;\">\n",
              "      <th></th>\n",
              "      <th>popularity</th>\n",
              "      <th>duration_ms</th>\n",
              "      <th>explicit</th>\n",
              "      <th>danceability</th>\n",
              "      <th>energy</th>\n",
              "      <th>key</th>\n",
              "      <th>loudness</th>\n",
              "      <th>mode</th>\n",
              "      <th>speechiness</th>\n",
              "      <th>acousticness</th>\n",
              "      <th>instrumentalness</th>\n",
              "      <th>liveness</th>\n",
              "      <th>valence</th>\n",
              "      <th>tempo</th>\n",
              "      <th>time_signature</th>\n",
              "    </tr>\n",
              "  </thead>\n",
              "  <tbody>\n",
              "    <tr>\n",
              "      <th>count</th>\n",
              "      <td>555128.000000</td>\n",
              "      <td>5.866720e+05</td>\n",
              "      <td>586672.000000</td>\n",
              "      <td>564477.000000</td>\n",
              "      <td>564246.000000</td>\n",
              "      <td>564114.000000</td>\n",
              "      <td>564238.000000</td>\n",
              "      <td>564406.000000</td>\n",
              "      <td>564216.000000</td>\n",
              "      <td>564055.000000</td>\n",
              "      <td>564202.000000</td>\n",
              "      <td>564394.000000</td>\n",
              "      <td>564324.000000</td>\n",
              "      <td>564318.000000</td>\n",
              "      <td>564322.000000</td>\n",
              "    </tr>\n",
              "    <tr>\n",
              "      <th>mean</th>\n",
              "      <td>27.564493</td>\n",
              "      <td>2.300512e+05</td>\n",
              "      <td>0.027571</td>\n",
              "      <td>0.563608</td>\n",
              "      <td>0.542160</td>\n",
              "      <td>5.222037</td>\n",
              "      <td>-10.206486</td>\n",
              "      <td>0.658609</td>\n",
              "      <td>0.104757</td>\n",
              "      <td>0.449750</td>\n",
              "      <td>0.113352</td>\n",
              "      <td>0.213931</td>\n",
              "      <td>0.552261</td>\n",
              "      <td>118.457192</td>\n",
              "      <td>3.873484</td>\n",
              "    </tr>\n",
              "    <tr>\n",
              "      <th>std</th>\n",
              "      <td>18.371158</td>\n",
              "      <td>1.265261e+05</td>\n",
              "      <td>0.241849</td>\n",
              "      <td>0.166092</td>\n",
              "      <td>0.251872</td>\n",
              "      <td>3.519683</td>\n",
              "      <td>5.089432</td>\n",
              "      <td>0.474177</td>\n",
              "      <td>0.179644</td>\n",
              "      <td>0.348881</td>\n",
              "      <td>0.266767</td>\n",
              "      <td>0.184336</td>\n",
              "      <td>0.257680</td>\n",
              "      <td>29.765675</td>\n",
              "      <td>0.472978</td>\n",
              "    </tr>\n",
              "    <tr>\n",
              "      <th>min</th>\n",
              "      <td>0.000000</td>\n",
              "      <td>3.344000e+03</td>\n",
              "      <td>-1.000000</td>\n",
              "      <td>0.000000</td>\n",
              "      <td>0.000000</td>\n",
              "      <td>0.000000</td>\n",
              "      <td>-60.000000</td>\n",
              "      <td>0.000000</td>\n",
              "      <td>0.000000</td>\n",
              "      <td>0.000000</td>\n",
              "      <td>0.000000</td>\n",
              "      <td>0.000000</td>\n",
              "      <td>0.000000</td>\n",
              "      <td>0.000000</td>\n",
              "      <td>0.000000</td>\n",
              "    </tr>\n",
              "    <tr>\n",
              "      <th>25%</th>\n",
              "      <td>13.000000</td>\n",
              "      <td>1.750930e+05</td>\n",
              "      <td>0.000000</td>\n",
              "      <td>0.453000</td>\n",
              "      <td>0.343000</td>\n",
              "      <td>2.000000</td>\n",
              "      <td>-12.890000</td>\n",
              "      <td>0.000000</td>\n",
              "      <td>0.034000</td>\n",
              "      <td>0.096700</td>\n",
              "      <td>0.000000</td>\n",
              "      <td>0.098300</td>\n",
              "      <td>0.346000</td>\n",
              "      <td>95.594000</td>\n",
              "      <td>4.000000</td>\n",
              "    </tr>\n",
              "    <tr>\n",
              "      <th>50%</th>\n",
              "      <td>27.000000</td>\n",
              "      <td>2.148930e+05</td>\n",
              "      <td>0.000000</td>\n",
              "      <td>0.577000</td>\n",
              "      <td>0.549000</td>\n",
              "      <td>5.000000</td>\n",
              "      <td>-9.242000</td>\n",
              "      <td>1.000000</td>\n",
              "      <td>0.044300</td>\n",
              "      <td>0.422000</td>\n",
              "      <td>0.000024</td>\n",
              "      <td>0.139000</td>\n",
              "      <td>0.564000</td>\n",
              "      <td>117.375000</td>\n",
              "      <td>4.000000</td>\n",
              "    </tr>\n",
              "    <tr>\n",
              "      <th>75%</th>\n",
              "      <td>41.000000</td>\n",
              "      <td>2.638670e+05</td>\n",
              "      <td>0.000000</td>\n",
              "      <td>0.686000</td>\n",
              "      <td>0.748000</td>\n",
              "      <td>8.000000</td>\n",
              "      <td>-6.483000</td>\n",
              "      <td>1.000000</td>\n",
              "      <td>0.076300</td>\n",
              "      <td>0.784000</td>\n",
              "      <td>0.009530</td>\n",
              "      <td>0.278000</td>\n",
              "      <td>0.769000</td>\n",
              "      <td>136.317000</td>\n",
              "      <td>4.000000</td>\n",
              "    </tr>\n",
              "    <tr>\n",
              "      <th>max</th>\n",
              "      <td>100.000000</td>\n",
              "      <td>5.621218e+06</td>\n",
              "      <td>1.000000</td>\n",
              "      <td>0.991000</td>\n",
              "      <td>1.000000</td>\n",
              "      <td>11.000000</td>\n",
              "      <td>5.376000</td>\n",
              "      <td>1.000000</td>\n",
              "      <td>0.971000</td>\n",
              "      <td>0.996000</td>\n",
              "      <td>1.000000</td>\n",
              "      <td>1.000000</td>\n",
              "      <td>1.000000</td>\n",
              "      <td>246.381000</td>\n",
              "      <td>5.000000</td>\n",
              "    </tr>\n",
              "  </tbody>\n",
              "</table>\n",
              "</div>\n",
              "      <button class=\"colab-df-convert\" onclick=\"convertToInteractive('df-f21128c6-5f4d-4370-8982-f84d4d1a9d73')\"\n",
              "              title=\"Convert this dataframe to an interactive table.\"\n",
              "              style=\"display:none;\">\n",
              "        \n",
              "  <svg xmlns=\"http://www.w3.org/2000/svg\" height=\"24px\"viewBox=\"0 0 24 24\"\n",
              "       width=\"24px\">\n",
              "    <path d=\"M0 0h24v24H0V0z\" fill=\"none\"/>\n",
              "    <path d=\"M18.56 5.44l.94 2.06.94-2.06 2.06-.94-2.06-.94-.94-2.06-.94 2.06-2.06.94zm-11 1L8.5 8.5l.94-2.06 2.06-.94-2.06-.94L8.5 2.5l-.94 2.06-2.06.94zm10 10l.94 2.06.94-2.06 2.06-.94-2.06-.94-.94-2.06-.94 2.06-2.06.94z\"/><path d=\"M17.41 7.96l-1.37-1.37c-.4-.4-.92-.59-1.43-.59-.52 0-1.04.2-1.43.59L10.3 9.45l-7.72 7.72c-.78.78-.78 2.05 0 2.83L4 21.41c.39.39.9.59 1.41.59.51 0 1.02-.2 1.41-.59l7.78-7.78 2.81-2.81c.8-.78.8-2.07 0-2.86zM5.41 20L4 18.59l7.72-7.72 1.47 1.35L5.41 20z\"/>\n",
              "  </svg>\n",
              "      </button>\n",
              "      \n",
              "  <style>\n",
              "    .colab-df-container {\n",
              "      display:flex;\n",
              "      flex-wrap:wrap;\n",
              "      gap: 12px;\n",
              "    }\n",
              "\n",
              "    .colab-df-convert {\n",
              "      background-color: #E8F0FE;\n",
              "      border: none;\n",
              "      border-radius: 50%;\n",
              "      cursor: pointer;\n",
              "      display: none;\n",
              "      fill: #1967D2;\n",
              "      height: 32px;\n",
              "      padding: 0 0 0 0;\n",
              "      width: 32px;\n",
              "    }\n",
              "\n",
              "    .colab-df-convert:hover {\n",
              "      background-color: #E2EBFA;\n",
              "      box-shadow: 0px 1px 2px rgba(60, 64, 67, 0.3), 0px 1px 3px 1px rgba(60, 64, 67, 0.15);\n",
              "      fill: #174EA6;\n",
              "    }\n",
              "\n",
              "    [theme=dark] .colab-df-convert {\n",
              "      background-color: #3B4455;\n",
              "      fill: #D2E3FC;\n",
              "    }\n",
              "\n",
              "    [theme=dark] .colab-df-convert:hover {\n",
              "      background-color: #434B5C;\n",
              "      box-shadow: 0px 1px 3px 1px rgba(0, 0, 0, 0.15);\n",
              "      filter: drop-shadow(0px 1px 2px rgba(0, 0, 0, 0.3));\n",
              "      fill: #FFFFFF;\n",
              "    }\n",
              "  </style>\n",
              "\n",
              "      <script>\n",
              "        const buttonEl =\n",
              "          document.querySelector('#df-f21128c6-5f4d-4370-8982-f84d4d1a9d73 button.colab-df-convert');\n",
              "        buttonEl.style.display =\n",
              "          google.colab.kernel.accessAllowed ? 'block' : 'none';\n",
              "\n",
              "        async function convertToInteractive(key) {\n",
              "          const element = document.querySelector('#df-f21128c6-5f4d-4370-8982-f84d4d1a9d73');\n",
              "          const dataTable =\n",
              "            await google.colab.kernel.invokeFunction('convertToInteractive',\n",
              "                                                     [key], {});\n",
              "          if (!dataTable) return;\n",
              "\n",
              "          const docLinkHtml = 'Like what you see? Visit the ' +\n",
              "            '<a target=\"_blank\" href=https://colab.research.google.com/notebooks/data_table.ipynb>data table notebook</a>'\n",
              "            + ' to learn more about interactive tables.';\n",
              "          element.innerHTML = '';\n",
              "          dataTable['output_type'] = 'display_data';\n",
              "          await google.colab.output.renderOutput(dataTable, element);\n",
              "          const docLink = document.createElement('div');\n",
              "          docLink.innerHTML = docLinkHtml;\n",
              "          element.appendChild(docLink);\n",
              "        }\n",
              "      </script>\n",
              "    </div>\n",
              "  </div>\n",
              "  "
            ]
          },
          "metadata": {},
          "execution_count": 29
        }
      ]
    },
    {
      "cell_type": "code",
      "source": [
        "categoricas = list(filter(lambda x: track_df[x].dtype==\"object\", track_df.columns))\n",
        "numericas = list(filter(lambda x: track_df[x].dtype!=\"object\" and track_df[x].dtype!=\"datetime64[ns]\", track_df.columns))"
      ],
      "metadata": {
        "id": "ZVM-Z7ZknGdJ"
      },
      "execution_count": null,
      "outputs": []
    },
    {
      "cell_type": "code",
      "source": [
        "numericas"
      ],
      "metadata": {
        "colab": {
          "base_uri": "https://localhost:8080/"
        },
        "id": "cDPxQiTDnl0k",
        "outputId": "3820aa42-beed-476a-d60b-d1539135f3e0"
      },
      "execution_count": null,
      "outputs": [
        {
          "output_type": "execute_result",
          "data": {
            "text/plain": [
              "['popularity',\n",
              " 'duration_ms',\n",
              " 'explicit',\n",
              " 'danceability',\n",
              " 'energy',\n",
              " 'key',\n",
              " 'loudness',\n",
              " 'mode',\n",
              " 'speechiness',\n",
              " 'acousticness',\n",
              " 'instrumentalness',\n",
              " 'liveness',\n",
              " 'valence',\n",
              " 'tempo',\n",
              " 'time_signature']"
            ]
          },
          "metadata": {},
          "execution_count": 31
        }
      ]
    },
    {
      "cell_type": "code",
      "source": [
        "track_df[numericas].mean()"
      ],
      "metadata": {
        "colab": {
          "base_uri": "https://localhost:8080/"
        },
        "id": "5o8Lc5aomhSR",
        "outputId": "b291e7da-7e45-4da7-ff1d-a5306580f7bb"
      },
      "execution_count": null,
      "outputs": [
        {
          "output_type": "execute_result",
          "data": {
            "text/plain": [
              "popularity              27.564493\n",
              "duration_ms         230051.167286\n",
              "explicit                 0.027571\n",
              "danceability             0.563608\n",
              "energy                   0.542160\n",
              "key                      5.222037\n",
              "loudness               -10.206486\n",
              "mode                     0.658609\n",
              "speechiness              0.104757\n",
              "acousticness             0.449750\n",
              "instrumentalness         0.113352\n",
              "liveness                 0.213931\n",
              "valence                  0.552261\n",
              "tempo                  118.457192\n",
              "time_signature           3.873484\n",
              "dtype: float64"
            ]
          },
          "metadata": {},
          "execution_count": 32
        }
      ]
    },
    {
      "cell_type": "code",
      "source": [
        "most_popular = track_df[track_df[\"popularity\"] >= track_df[\"popularity\"].quantile(0.95)]\n",
        "plt.figure(figsize = (50, 50))\n",
        "most_popular.hist()\n",
        "plt.show()"
      ],
      "metadata": {
        "colab": {
          "base_uri": "https://localhost:8080/",
          "height": 299
        },
        "id": "EP7lEjYIv9Rm",
        "outputId": "9f3f7313-c243-47b3-edff-869df712d7dc"
      },
      "execution_count": null,
      "outputs": [
        {
          "output_type": "display_data",
          "data": {
            "text/plain": [
              "<Figure size 3600x3600 with 0 Axes>"
            ]
          },
          "metadata": {}
        },
        {
          "output_type": "display_data",
          "data": {
            "text/plain": [
              "<Figure size 432x288 with 16 Axes>"
            ],
            "image/png": "[encoded data removed]"
          },
          "metadata": {
            "needs_background": "light"
          }
        }
      ]
    },
    {
      "cell_type": "markdown",
      "source": [
        "### Bivariado"
      ],
      "metadata": {
        "id": "h3D4XL3roD3f"
      }
    },
    {
      "cell_type": "markdown",
      "source": [
        "Correlaciones\n",
        "\n",
        "* Valence vs danceability: positiva\n",
        "* acousticness vs energy: negativa\n",
        "* energy vs valence: positiva\n",
        "* energy vs popularity: positiva"
      ],
      "metadata": {
        "id": "msELgmodoQ_v"
      }
    },
    {
      "cell_type": "code",
      "source": [
        "sns.heatmap(track_df[['valence','danceability', 'acousticness', 'energy','popularity']].corr(), cmap='seismic')"
      ],
      "metadata": {
        "colab": {
          "base_uri": "https://localhost:8080/",
          "height": 342
        },
        "id": "C97H4M52oLXT",
        "outputId": "941a1214-364c-4032-9b4c-f93e56693e17"
      },
      "execution_count": null,
      "outputs": [
        {
          "output_type": "execute_result",
          "data": {
            "text/plain": [
              "<AxesSubplot:>"
            ]
          },
          "metadata": {},
          "execution_count": 34
        },
        {
          "output_type": "display_data",
          "data": {
            "text/plain": [
              "<Figure size 432x288 with 2 Axes>"
            ],
            "image/png": "[encoded data removed]"
          },
          "metadata": {
            "needs_background": "light"
          }
        }
      ]
    },
    {
      "cell_type": "code",
      "source": [
        "pop_max = track_df[\"popularity\"].max()\n",
        "track_df[track_df[\"popularity\"] == pop_max][\"name\"]"
      ],
      "metadata": {
        "colab": {
          "base_uri": "https://localhost:8080/"
        },
        "id": "udQRco0JrrWM",
        "outputId": "c5398ce1-b9ab-4bf9-c87a-6741bd4c704e"
      },
      "execution_count": null,
      "outputs": [
        {
          "output_type": "execute_result",
          "data": {
            "text/plain": [
              "93802    Peaches (feat. Daniel Caesar & Giveon)\n",
              "Name: name, dtype: object"
            ]
          },
          "metadata": {},
          "execution_count": 35
        }
      ]
    },
    {
      "cell_type": "code",
      "source": [
        "most_popular = track_df[track_df[\"popularity\"] >= track_df[\"popularity\"].quantile(0.95)]"
      ],
      "metadata": {
        "id": "rDhtr-_auJeX"
      },
      "execution_count": null,
      "outputs": []
    },
    {
      "cell_type": "code",
      "source": [
        "the_best = most_popular.sort_values('popularity', ascending=False).iloc[0:5]\n",
        "the_best"
      ],
      "metadata": {
        "colab": {
          "base_uri": "https://localhost:8080/",
          "height": 443
        },
        "id": "vIv02j6nu01j",
        "outputId": "3ad43db6-43f3-4ee1-9029-e7c9aff60416"
      },
      "execution_count": null,
      "outputs": [
        {
          "output_type": "execute_result",
          "data": {
            "text/plain": [
              "                           id                                    name  \\\n",
              "93802  4iJyoBOLtHqaGxP12qzhQI  Peaches (feat. Daniel Caesar & Giveon)   \n",
              "93803  7lPN2DXiMsVn7XUKtOW1CS                         drivers license   \n",
              "93804  3Ofmpyhv5UAQ70mENzB277                  Astronaut In The Ocean   \n",
              "92810  5QO79kh1waicV47BqGRL3g                         Save Your Tears   \n",
              "92811  6tDDoYIxWvMLTdKpjFkc1B                               telepatía   \n",
              "\n",
              "       popularity  duration_ms  explicit  \\\n",
              "93802       100.0       198082         1   \n",
              "93803        99.0       242014         1   \n",
              "93804        98.0       132780         0   \n",
              "92810        97.0       215627         1   \n",
              "92811        97.0       160191         0   \n",
              "\n",
              "                                            artists  \\\n",
              "93802  ['Justin Bieber', 'Daniel Caesar', 'Giveon']   \n",
              "93803                            ['Olivia Rodrigo']   \n",
              "93804                               ['Masked Wolf']   \n",
              "92810                                ['The Weeknd']   \n",
              "92811                                ['Kali Uchis']   \n",
              "\n",
              "                                              id_artists release_date  \\\n",
              "93802  ['1uNFoZAHBGtllmzznpCI3s', '20wkVLutqVOYrc0kxF...   2021-03-19   \n",
              "93803                         ['1McMsnEElThX1knmY4oliG']   2021-01-08   \n",
              "93804                         ['1uU7g3DNSbsu0QjSEqZtEd']   2021-01-06   \n",
              "92810                         ['1Xyo4u8uXC1ZmMpatF05PJ']   2020-03-20   \n",
              "92811                         ['1U1el3k54VvEUzo3ybLPlM']   2020-12-04   \n",
              "\n",
              "       danceability  energy   key  loudness  mode  speechiness  acousticness  \\\n",
              "93802         0.677   0.696   0.0    -6.181   1.0       0.1190        0.3210   \n",
              "93803         0.585   0.436  10.0    -8.761   1.0       0.0601           NaN   \n",
              "93804         0.778   0.695   4.0    -6.865   0.0       0.0913        0.1750   \n",
              "92810           NaN   0.826   0.0    -5.487   1.0       0.0309        0.0212   \n",
              "92811         0.653   0.524  11.0    -9.016   0.0       0.0502        0.1120   \n",
              "\n",
              "       instrumentalness  liveness  valence    tempo  time_signature  \n",
              "93802          0.000000     0.420    0.464   90.030             4.0  \n",
              "93803          0.000013     0.105    0.132  143.874             4.0  \n",
              "93804          0.000000     0.150    0.472  149.996             NaN  \n",
              "92810          0.000012     0.543    0.644  118.051             4.0  \n",
              "92811          0.000000     0.203    0.553   83.970             4.0  "
            ],
            "text/html": [
              "\n",
              "  <div id=\"df-d371f6f7-0b5a-4c5d-bcca-9de511e92f74\">\n",
              "    <div class=\"colab-df-container\">\n",
              "      <div>\n",
              "<style scoped>\n",
              "    .dataframe tbody tr th:only-of-type {\n",
              "        vertical-align: middle;\n",
              "    }\n",
              "\n",
              "    .dataframe tbody tr th {\n",
              "        vertical-align: top;\n",
              "    }\n",
              "\n",
              "    .dataframe thead th {\n",
              "        text-align: right;\n",
              "    }\n",
              "</style>\n",
              "<table border=\"1\" class=\"dataframe\">\n",
              "  <thead>\n",
              "    <tr style=\"text-align: right;\">\n",
              "      <th></th>\n",
              "      <th>id</th>\n",
              "      <th>name</th>\n",
              "      <th>popularity</th>\n",
              "      <th>duration_ms</th>\n",
              "      <th>explicit</th>\n",
              "      <th>artists</th>\n",
              "      <th>id_artists</th>\n",
              "      <th>release_date</th>\n",
              "      <th>danceability</th>\n",
              "      <th>energy</th>\n",
              "      <th>key</th>\n",
              "      <th>loudness</th>\n",
              "      <th>mode</th>\n",
              "      <th>speechiness</th>\n",
              "      <th>acousticness</th>\n",
              "      <th>instrumentalness</th>\n",
              "      <th>liveness</th>\n",
              "      <th>valence</th>\n",
              "      <th>tempo</th>\n",
              "      <th>time_signature</th>\n",
              "    </tr>\n",
              "  </thead>\n",
              "  <tbody>\n",
              "    <tr>\n",
              "      <th>93802</th>\n",
              "      <td>4iJyoBOLtHqaGxP12qzhQI</td>\n",
              "      <td>Peaches (feat. Daniel Caesar &amp; Giveon)</td>\n",
              "      <td>100.0</td>\n",
              "      <td>198082</td>\n",
              "      <td>1</td>\n",
              "      <td>['Justin Bieber', 'Daniel Caesar', 'Giveon']</td>\n",
              "      <td>['1uNFoZAHBGtllmzznpCI3s', '20wkVLutqVOYrc0kxF...</td>\n",
              "      <td>2021-03-19</td>\n",
              "      <td>0.677</td>\n",
              "      <td>0.696</td>\n",
              "      <td>0.0</td>\n",
              "      <td>-6.181</td>\n",
              "      <td>1.0</td>\n",
              "      <td>0.1190</td>\n",
              "      <td>0.3210</td>\n",
              "      <td>0.000000</td>\n",
              "      <td>0.420</td>\n",
              "      <td>0.464</td>\n",
              "      <td>90.030</td>\n",
              "      <td>4.0</td>\n",
              "    </tr>\n",
              "    <tr>\n",
              "      <th>93803</th>\n",
              "      <td>7lPN2DXiMsVn7XUKtOW1CS</td>\n",
              "      <td>drivers license</td>\n",
              "      <td>99.0</td>\n",
              "      <td>242014</td>\n",
              "      <td>1</td>\n",
              "      <td>['Olivia Rodrigo']</td>\n",
              "      <td>['1McMsnEElThX1knmY4oliG']</td>\n",
              "      <td>2021-01-08</td>\n",
              "      <td>0.585</td>\n",
              "      <td>0.436</td>\n",
              "      <td>10.0</td>\n",
              "      <td>-8.761</td>\n",
              "      <td>1.0</td>\n",
              "      <td>0.0601</td>\n",
              "      <td>NaN</td>\n",
              "      <td>0.000013</td>\n",
              "      <td>0.105</td>\n",
              "      <td>0.132</td>\n",
              "      <td>143.874</td>\n",
              "      <td>4.0</td>\n",
              "    </tr>\n",
              "    <tr>\n",
              "      <th>93804</th>\n",
              "      <td>3Ofmpyhv5UAQ70mENzB277</td>\n",
              "      <td>Astronaut In The Ocean</td>\n",
              "      <td>98.0</td>\n",
              "      <td>132780</td>\n",
              "      <td>0</td>\n",
              "      <td>['Masked Wolf']</td>\n",
              "      <td>['1uU7g3DNSbsu0QjSEqZtEd']</td>\n",
              "      <td>2021-01-06</td>\n",
              "      <td>0.778</td>\n",
              "      <td>0.695</td>\n",
              "      <td>4.0</td>\n",
              "      <td>-6.865</td>\n",
              "      <td>0.0</td>\n",
              "      <td>0.0913</td>\n",
              "      <td>0.1750</td>\n",
              "      <td>0.000000</td>\n",
              "      <td>0.150</td>\n",
              "      <td>0.472</td>\n",
              "      <td>149.996</td>\n",
              "      <td>NaN</td>\n",
              "    </tr>\n",
              "    <tr>\n",
              "      <th>92810</th>\n",
              "      <td>5QO79kh1waicV47BqGRL3g</td>\n",
              "      <td>Save Your Tears</td>\n",
              "      <td>97.0</td>\n",
              "      <td>215627</td>\n",
              "      <td>1</td>\n",
              "      <td>['The Weeknd']</td>\n",
              "      <td>['1Xyo4u8uXC1ZmMpatF05PJ']</td>\n",
              "      <td>2020-03-20</td>\n",
              "      <td>NaN</td>\n",
              "      <td>0.826</td>\n",
              "      <td>0.0</td>\n",
              "      <td>-5.487</td>\n",
              "      <td>1.0</td>\n",
              "      <td>0.0309</td>\n",
              "      <td>0.0212</td>\n",
              "      <td>0.000012</td>\n",
              "      <td>0.543</td>\n",
              "      <td>0.644</td>\n",
              "      <td>118.051</td>\n",
              "      <td>4.0</td>\n",
              "    </tr>\n",
              "    <tr>\n",
              "      <th>92811</th>\n",
              "      <td>6tDDoYIxWvMLTdKpjFkc1B</td>\n",
              "      <td>telepatía</td>\n",
              "      <td>97.0</td>\n",
              "      <td>160191</td>\n",
              "      <td>0</td>\n",
              "      <td>['Kali Uchis']</td>\n",
              "      <td>['1U1el3k54VvEUzo3ybLPlM']</td>\n",
              "      <td>2020-12-04</td>\n",
              "      <td>0.653</td>\n",
              "      <td>0.524</td>\n",
              "      <td>11.0</td>\n",
              "      <td>-9.016</td>\n",
              "      <td>0.0</td>\n",
              "      <td>0.0502</td>\n",
              "      <td>0.1120</td>\n",
              "      <td>0.000000</td>\n",
              "      <td>0.203</td>\n",
              "      <td>0.553</td>\n",
              "      <td>83.970</td>\n",
              "      <td>4.0</td>\n",
              "    </tr>\n",
              "  </tbody>\n",
              "</table>\n",
              "</div>\n",
              "      <button class=\"colab-df-convert\" onclick=\"convertToInteractive('df-d371f6f7-0b5a-4c5d-bcca-9de511e92f74')\"\n",
              "              title=\"Convert this dataframe to an interactive table.\"\n",
              "              style=\"display:none;\">\n",
              "        \n",
              "  <svg xmlns=\"http://www.w3.org/2000/svg\" height=\"24px\"viewBox=\"0 0 24 24\"\n",
              "       width=\"24px\">\n",
              "    <path d=\"M0 0h24v24H0V0z\" fill=\"none\"/>\n",
              "    <path d=\"M18.56 5.44l.94 2.06.94-2.06 2.06-.94-2.06-.94-.94-2.06-.94 2.06-2.06.94zm-11 1L8.5 8.5l.94-2.06 2.06-.94-2.06-.94L8.5 2.5l-.94 2.06-2.06.94zm10 10l.94 2.06.94-2.06 2.06-.94-2.06-.94-.94-2.06-.94 2.06-2.06.94z\"/><path d=\"M17.41 7.96l-1.37-1.37c-.4-.4-.92-.59-1.43-.59-.52 0-1.04.2-1.43.59L10.3 9.45l-7.72 7.72c-.78.78-.78 2.05 0 2.83L4 21.41c.39.39.9.59 1.41.59.51 0 1.02-.2 1.41-.59l7.78-7.78 2.81-2.81c.8-.78.8-2.07 0-2.86zM5.41 20L4 18.59l7.72-7.72 1.47 1.35L5.41 20z\"/>\n",
              "  </svg>\n",
              "      </button>\n",
              "      \n",
              "  <style>\n",
              "    .colab-df-container {\n",
              "      display:flex;\n",
              "      flex-wrap:wrap;\n",
              "      gap: 12px;\n",
              "    }\n",
              "\n",
              "    .colab-df-convert {\n",
              "      background-color: #E8F0FE;\n",
              "      border: none;\n",
              "      border-radius: 50%;\n",
              "      cursor: pointer;\n",
              "      display: none;\n",
              "      fill: #1967D2;\n",
              "      height: 32px;\n",
              "      padding: 0 0 0 0;\n",
              "      width: 32px;\n",
              "    }\n",
              "\n",
              "    .colab-df-convert:hover {\n",
              "      background-color: #E2EBFA;\n",
              "      box-shadow: 0px 1px 2px rgba(60, 64, 67, 0.3), 0px 1px 3px 1px rgba(60, 64, 67, 0.15);\n",
              "      fill: #174EA6;\n",
              "    }\n",
              "\n",
              "    [theme=dark] .colab-df-convert {\n",
              "      background-color: #3B4455;\n",
              "      fill: #D2E3FC;\n",
              "    }\n",
              "\n",
              "    [theme=dark] .colab-df-convert:hover {\n",
              "      background-color: #434B5C;\n",
              "      box-shadow: 0px 1px 3px 1px rgba(0, 0, 0, 0.15);\n",
              "      filter: drop-shadow(0px 1px 2px rgba(0, 0, 0, 0.3));\n",
              "      fill: #FFFFFF;\n",
              "    }\n",
              "  </style>\n",
              "\n",
              "      <script>\n",
              "        const buttonEl =\n",
              "          document.querySelector('#df-d371f6f7-0b5a-4c5d-bcca-9de511e92f74 button.colab-df-convert');\n",
              "        buttonEl.style.display =\n",
              "          google.colab.kernel.accessAllowed ? 'block' : 'none';\n",
              "\n",
              "        async function convertToInteractive(key) {\n",
              "          const element = document.querySelector('#df-d371f6f7-0b5a-4c5d-bcca-9de511e92f74');\n",
              "          const dataTable =\n",
              "            await google.colab.kernel.invokeFunction('convertToInteractive',\n",
              "                                                     [key], {});\n",
              "          if (!dataTable) return;\n",
              "\n",
              "          const docLinkHtml = 'Like what you see? Visit the ' +\n",
              "            '<a target=\"_blank\" href=https://colab.research.google.com/notebooks/data_table.ipynb>data table notebook</a>'\n",
              "            + ' to learn more about interactive tables.';\n",
              "          element.innerHTML = '';\n",
              "          dataTable['output_type'] = 'display_data';\n",
              "          await google.colab.output.renderOutput(dataTable, element);\n",
              "          const docLink = document.createElement('div');\n",
              "          docLink.innerHTML = docLinkHtml;\n",
              "          element.appendChild(docLink);\n",
              "        }\n",
              "      </script>\n",
              "    </div>\n",
              "  </div>\n",
              "  "
            ]
          },
          "metadata": {},
          "execution_count": 37
        }
      ]
    },
    {
      "cell_type": "code",
      "source": [
        "plt.figure(figsize = (18, 3))\n",
        "plt.plot(the_best[\"name\"], the_best[\"energy\"])"
      ],
      "metadata": {
        "colab": {
          "base_uri": "https://localhost:8080/",
          "height": 229
        },
        "id": "sIgThXoFvTm3",
        "outputId": "a0153b09-da72-460c-a965-76e94473eac3"
      },
      "execution_count": null,
      "outputs": [
        {
          "output_type": "execute_result",
          "data": {
            "text/plain": [
              "[<matplotlib.lines.Line2D at 0x7f45894d69a0>]"
            ]
          },
          "metadata": {},
          "execution_count": 38
        },
        {
          "output_type": "display_data",
          "data": {
            "text/plain": [
              "<Figure size 1296x216 with 1 Axes>"
            ],
            "image/png": "[encoded data removed]"
          },
          "metadata": {
            "needs_background": "light"
          }
        }
      ]
    },
    {
      "cell_type": "code",
      "source": [
        "plt.figure(figsize = (18, 3))\n",
        "plt.plot(the_best[\"name\"], the_best[\"valence\"])"
      ],
      "metadata": {
        "colab": {
          "base_uri": "https://localhost:8080/",
          "height": 229
        },
        "id": "e4y15ETYv2IJ",
        "outputId": "6e12a117-5e50-461f-b3c4-487c79a5f40e"
      },
      "execution_count": null,
      "outputs": [
        {
          "output_type": "execute_result",
          "data": {
            "text/plain": [
              "[<matplotlib.lines.Line2D at 0x7f45894abd30>]"
            ]
          },
          "metadata": {},
          "execution_count": 39
        },
        {
          "output_type": "display_data",
          "data": {
            "text/plain": [
              "<Figure size 1296x216 with 1 Axes>"
            ],
            "image/png": "[encoded data removed]"
          },
          "metadata": {
            "needs_background": "light"
          }
        }
      ]
    },
    {
      "cell_type": "code",
      "source": [
        "plt.boxplot(most_popular['danceability'].fillna(0), vert=False)"
      ],
      "metadata": {
        "colab": {
          "base_uri": "https://localhost:8080/",
          "height": 411
        },
        "id": "VIfu2ipiwllh",
        "outputId": "2f3d87ad-8a55-48b9-c713-b1f98ba2a936"
      },
      "execution_count": null,
      "outputs": [
        {
          "output_type": "execute_result",
          "data": {
            "text/plain": [
              "{'whiskers': [<matplotlib.lines.Line2D at 0x7f4595f17670>,\n",
              "  <matplotlib.lines.Line2D at 0x7f4595f17fd0>],\n",
              " 'caps': [<matplotlib.lines.Line2D at 0x7f4595f175b0>,\n",
              "  <matplotlib.lines.Line2D at 0x7f4595f173a0>],\n",
              " 'boxes': [<matplotlib.lines.Line2D at 0x7f4595f175e0>],\n",
              " 'medians': [<matplotlib.lines.Line2D at 0x7f458964c250>],\n",
              " 'fliers': [<matplotlib.lines.Line2D at 0x7f458964c490>],\n",
              " 'means': []}"
            ]
          },
          "metadata": {},
          "execution_count": 40
        },
        {
          "output_type": "display_data",
          "data": {
            "text/plain": [
              "<Figure size 432x288 with 1 Axes>"
            ],
            "image/png": "[encoded data removed]"
          },
          "metadata": {
            "needs_background": "light"
          }
        }
      ]
    },
    {
      "cell_type": "code",
      "source": [
        "track_df.head()"
      ],
      "metadata": {
        "colab": {
          "base_uri": "https://localhost:8080/",
          "height": 374
        },
        "id": "O99eVZQXz_Wg",
        "outputId": "adc4e9ab-6df5-48a4-b3ce-3108445a70b6"
      },
      "execution_count": null,
      "outputs": [
        {
          "output_type": "execute_result",
          "data": {
            "text/plain": [
              "                       id                                 name  popularity  \\\n",
              "0  35iwgR4jXetI318WEWsa1Q                                Carve         6.0   \n",
              "1  021ht4sdgPcrDgSk7JTbKY  Capítulo 2.16 - Banquero Anarquista         0.0   \n",
              "2  07A5yehtSnoedViJAZkNnc   Vivo para Quererte - Remasterizado         0.0   \n",
              "3  08FmqUhxtyLTn6pAh6bk45        El Prisionero - Remasterizado         NaN   \n",
              "4  08y9GfoqCWfOGsKdwojr5e                  Lady of the Evening         0.0   \n",
              "\n",
              "   duration_ms  explicit              artists                  id_artists  \\\n",
              "0       126903         0              ['Uli']  ['45tIt06XoI0Iio4LBEVpls']   \n",
              "1        98200         0  ['Fernando Pessoa']  ['14jtPCOoNZwquk5wd9DxrY']   \n",
              "2       181640         0  ['Ignacio Corsini']  ['5LiOoJbxVSAMkBS2fUm3X2']   \n",
              "3       176907         0  ['Ignacio Corsini']  ['5LiOoJbxVSAMkBS2fUm3X2']   \n",
              "4       163080         0      ['Dick Haymes']  ['3BiJGZsyX9sJchTqcSA7Su']   \n",
              "\n",
              "  release_date  danceability  energy  key  loudness  mode  speechiness  \\\n",
              "0   1922-02-22         0.645   0.445  0.0   -13.338   1.0       0.4510   \n",
              "1   1922-06-01         0.695   0.263  0.0   -22.136   1.0       0.9570   \n",
              "2   1922-03-21         0.434   0.177  1.0   -21.180   1.0       0.0512   \n",
              "3   1922-03-21         0.321     NaN  7.0   -27.961   1.0       0.0504   \n",
              "4   1922-01-01         0.402   0.158  3.0   -16.900   0.0       0.0390   \n",
              "\n",
              "   acousticness  instrumentalness  liveness  valence    tempo  time_signature  \n",
              "0         0.674            0.7440     0.151    0.127  104.851             3.0  \n",
              "1         0.797            0.0000     0.148    0.655  102.009             1.0  \n",
              "2         0.994            0.0218     0.212    0.457  130.418             5.0  \n",
              "3         0.995            0.9180     0.104    0.397  169.980             3.0  \n",
              "4         0.989            0.1300     0.311    0.196  103.220             4.0  "
            ],
            "text/html": [
              "\n",
              "  <div id=\"df-e6441e9e-4dca-4aa6-8797-5e5b7da6d98f\">\n",
              "    <div class=\"colab-df-container\">\n",
              "      <div>\n",
              "<style scoped>\n",
              "    .dataframe tbody tr th:only-of-type {\n",
              "        vertical-align: middle;\n",
              "    }\n",
              "\n",
              "    .dataframe tbody tr th {\n",
              "        vertical-align: top;\n",
              "    }\n",
              "\n",
              "    .dataframe thead th {\n",
              "        text-align: right;\n",
              "    }\n",
              "</style>\n",
              "<table border=\"1\" class=\"dataframe\">\n",
              "  <thead>\n",
              "    <tr style=\"text-align: right;\">\n",
              "      <th></th>\n",
              "      <th>id</th>\n",
              "      <th>name</th>\n",
              "      <th>popularity</th>\n",
              "      <th>duration_ms</th>\n",
              "      <th>explicit</th>\n",
              "      <th>artists</th>\n",
              "      <th>id_artists</th>\n",
              "      <th>release_date</th>\n",
              "      <th>danceability</th>\n",
              "      <th>energy</th>\n",
              "      <th>key</th>\n",
              "      <th>loudness</th>\n",
              "      <th>mode</th>\n",
              "      <th>speechiness</th>\n",
              "      <th>acousticness</th>\n",
              "      <th>instrumentalness</th>\n",
              "      <th>liveness</th>\n",
              "      <th>valence</th>\n",
              "      <th>tempo</th>\n",
              "      <th>time_signature</th>\n",
              "    </tr>\n",
              "  </thead>\n",
              "  <tbody>\n",
              "    <tr>\n",
              "      <th>0</th>\n",
              "      <td>35iwgR4jXetI318WEWsa1Q</td>\n",
              "      <td>Carve</td>\n",
              "      <td>6.0</td>\n",
              "      <td>126903</td>\n",
              "      <td>0</td>\n",
              "      <td>['Uli']</td>\n",
              "      <td>['45tIt06XoI0Iio4LBEVpls']</td>\n",
              "      <td>1922-02-22</td>\n",
              "      <td>0.645</td>\n",
              "      <td>0.445</td>\n",
              "      <td>0.0</td>\n",
              "      <td>-13.338</td>\n",
              "      <td>1.0</td>\n",
              "      <td>0.4510</td>\n",
              "      <td>0.674</td>\n",
              "      <td>0.7440</td>\n",
              "      <td>0.151</td>\n",
              "      <td>0.127</td>\n",
              "      <td>104.851</td>\n",
              "      <td>3.0</td>\n",
              "    </tr>\n",
              "    <tr>\n",
              "      <th>1</th>\n",
              "      <td>021ht4sdgPcrDgSk7JTbKY</td>\n",
              "      <td>Capítulo 2.16 - Banquero Anarquista</td>\n",
              "      <td>0.0</td>\n",
              "      <td>98200</td>\n",
              "      <td>0</td>\n",
              "      <td>['Fernando Pessoa']</td>\n",
              "      <td>['14jtPCOoNZwquk5wd9DxrY']</td>\n",
              "      <td>1922-06-01</td>\n",
              "      <td>0.695</td>\n",
              "      <td>0.263</td>\n",
              "      <td>0.0</td>\n",
              "      <td>-22.136</td>\n",
              "      <td>1.0</td>\n",
              "      <td>0.9570</td>\n",
              "      <td>0.797</td>\n",
              "      <td>0.0000</td>\n",
              "      <td>0.148</td>\n",
              "      <td>0.655</td>\n",
              "      <td>102.009</td>\n",
              "      <td>1.0</td>\n",
              "    </tr>\n",
              "    <tr>\n",
              "      <th>2</th>\n",
              "      <td>07A5yehtSnoedViJAZkNnc</td>\n",
              "      <td>Vivo para Quererte - Remasterizado</td>\n",
              "      <td>0.0</td>\n",
              "      <td>181640</td>\n",
              "      <td>0</td>\n",
              "      <td>['Ignacio Corsini']</td>\n",
              "      <td>['5LiOoJbxVSAMkBS2fUm3X2']</td>\n",
              "      <td>1922-03-21</td>\n",
              "      <td>0.434</td>\n",
              "      <td>0.177</td>\n",
              "      <td>1.0</td>\n",
              "      <td>-21.180</td>\n",
              "      <td>1.0</td>\n",
              "      <td>0.0512</td>\n",
              "      <td>0.994</td>\n",
              "      <td>0.0218</td>\n",
              "      <td>0.212</td>\n",
              "      <td>0.457</td>\n",
              "      <td>130.418</td>\n",
              "      <td>5.0</td>\n",
              "    </tr>\n",
              "    <tr>\n",
              "      <th>3</th>\n",
              "      <td>08FmqUhxtyLTn6pAh6bk45</td>\n",
              "      <td>El Prisionero - Remasterizado</td>\n",
              "      <td>NaN</td>\n",
              "      <td>176907</td>\n",
              "      <td>0</td>\n",
              "      <td>['Ignacio Corsini']</td>\n",
              "      <td>['5LiOoJbxVSAMkBS2fUm3X2']</td>\n",
              "      <td>1922-03-21</td>\n",
              "      <td>0.321</td>\n",
              "      <td>NaN</td>\n",
              "      <td>7.0</td>\n",
              "      <td>-27.961</td>\n",
              "      <td>1.0</td>\n",
              "      <td>0.0504</td>\n",
              "      <td>0.995</td>\n",
              "      <td>0.9180</td>\n",
              "      <td>0.104</td>\n",
              "      <td>0.397</td>\n",
              "      <td>169.980</td>\n",
              "      <td>3.0</td>\n",
              "    </tr>\n",
              "    <tr>\n",
              "      <th>4</th>\n",
              "      <td>08y9GfoqCWfOGsKdwojr5e</td>\n",
              "      <td>Lady of the Evening</td>\n",
              "      <td>0.0</td>\n",
              "      <td>163080</td>\n",
              "      <td>0</td>\n",
              "      <td>['Dick Haymes']</td>\n",
              "      <td>['3BiJGZsyX9sJchTqcSA7Su']</td>\n",
              "      <td>1922-01-01</td>\n",
              "      <td>0.402</td>\n",
              "      <td>0.158</td>\n",
              "      <td>3.0</td>\n",
              "      <td>-16.900</td>\n",
              "      <td>0.0</td>\n",
              "      <td>0.0390</td>\n",
              "      <td>0.989</td>\n",
              "      <td>0.1300</td>\n",
              "      <td>0.311</td>\n",
              "      <td>0.196</td>\n",
              "      <td>103.220</td>\n",
              "      <td>4.0</td>\n",
              "    </tr>\n",
              "  </tbody>\n",
              "</table>\n",
              "</div>\n",
              "      <button class=\"colab-df-convert\" onclick=\"convertToInteractive('df-e6441e9e-4dca-4aa6-8797-5e5b7da6d98f')\"\n",
              "              title=\"Convert this dataframe to an interactive table.\"\n",
              "              style=\"display:none;\">\n",
              "        \n",
              "  <svg xmlns=\"http://www.w3.org/2000/svg\" height=\"24px\"viewBox=\"0 0 24 24\"\n",
              "       width=\"24px\">\n",
              "    <path d=\"M0 0h24v24H0V0z\" fill=\"none\"/>\n",
              "    <path d=\"M18.56 5.44l.94 2.06.94-2.06 2.06-.94-2.06-.94-.94-2.06-.94 2.06-2.06.94zm-11 1L8.5 8.5l.94-2.06 2.06-.94-2.06-.94L8.5 2.5l-.94 2.06-2.06.94zm10 10l.94 2.06.94-2.06 2.06-.94-2.06-.94-.94-2.06-.94 2.06-2.06.94z\"/><path d=\"M17.41 7.96l-1.37-1.37c-.4-.4-.92-.59-1.43-.59-.52 0-1.04.2-1.43.59L10.3 9.45l-7.72 7.72c-.78.78-.78 2.05 0 2.83L4 21.41c.39.39.9.59 1.41.59.51 0 1.02-.2 1.41-.59l7.78-7.78 2.81-2.81c.8-.78.8-2.07 0-2.86zM5.41 20L4 18.59l7.72-7.72 1.47 1.35L5.41 20z\"/>\n",
              "  </svg>\n",
              "      </button>\n",
              "      \n",
              "  <style>\n",
              "    .colab-df-container {\n",
              "      display:flex;\n",
              "      flex-wrap:wrap;\n",
              "      gap: 12px;\n",
              "    }\n",
              "\n",
              "    .colab-df-convert {\n",
              "      background-color: #E8F0FE;\n",
              "      border: none;\n",
              "      border-radius: 50%;\n",
              "      cursor: pointer;\n",
              "      display: none;\n",
              "      fill: #1967D2;\n",
              "      height: 32px;\n",
              "      padding: 0 0 0 0;\n",
              "      width: 32px;\n",
              "    }\n",
              "\n",
              "    .colab-df-convert:hover {\n",
              "      background-color: #E2EBFA;\n",
              "      box-shadow: 0px 1px 2px rgba(60, 64, 67, 0.3), 0px 1px 3px 1px rgba(60, 64, 67, 0.15);\n",
              "      fill: #174EA6;\n",
              "    }\n",
              "\n",
              "    [theme=dark] .colab-df-convert {\n",
              "      background-color: #3B4455;\n",
              "      fill: #D2E3FC;\n",
              "    }\n",
              "\n",
              "    [theme=dark] .colab-df-convert:hover {\n",
              "      background-color: #434B5C;\n",
              "      box-shadow: 0px 1px 3px 1px rgba(0, 0, 0, 0.15);\n",
              "      filter: drop-shadow(0px 1px 2px rgba(0, 0, 0, 0.3));\n",
              "      fill: #FFFFFF;\n",
              "    }\n",
              "  </style>\n",
              "\n",
              "      <script>\n",
              "        const buttonEl =\n",
              "          document.querySelector('#df-e6441e9e-4dca-4aa6-8797-5e5b7da6d98f button.colab-df-convert');\n",
              "        buttonEl.style.display =\n",
              "          google.colab.kernel.accessAllowed ? 'block' : 'none';\n",
              "\n",
              "        async function convertToInteractive(key) {\n",
              "          const element = document.querySelector('#df-e6441e9e-4dca-4aa6-8797-5e5b7da6d98f');\n",
              "          const dataTable =\n",
              "            await google.colab.kernel.invokeFunction('convertToInteractive',\n",
              "                                                     [key], {});\n",
              "          if (!dataTable) return;\n",
              "\n",
              "          const docLinkHtml = 'Like what you see? Visit the ' +\n",
              "            '<a target=\"_blank\" href=https://colab.research.google.com/notebooks/data_table.ipynb>data table notebook</a>'\n",
              "            + ' to learn more about interactive tables.';\n",
              "          element.innerHTML = '';\n",
              "          dataTable['output_type'] = 'display_data';\n",
              "          await google.colab.output.renderOutput(dataTable, element);\n",
              "          const docLink = document.createElement('div');\n",
              "          docLink.innerHTML = docLinkHtml;\n",
              "          element.appendChild(docLink);\n",
              "        }\n",
              "      </script>\n",
              "    </div>\n",
              "  </div>\n",
              "  "
            ]
          },
          "metadata": {},
          "execution_count": 42
        }
      ]
    },
    {
      "cell_type": "code",
      "source": [
        "track_df[\"artists\"] = track_df[\"artists\"].str.replace(\"'\", \"\")\n",
        "track_df[\"artists\"] = track_df[\"artists\"].str.replace(\"[\",\"\")\n",
        "track_df[\"artists\"] = track_df[\"artists\"].str.replace(\"]\",\"\")\n",
        "track_df[\"artists\"]"
      ],
      "metadata": {
        "colab": {
          "base_uri": "https://localhost:8080/"
        },
        "id": "kw51PuIhvF0d",
        "outputId": "e285f45f-0941-41f7-d34b-021a160cf07a"
      },
      "execution_count": null,
      "outputs": [
        {
          "output_type": "stream",
          "name": "stderr",
          "text": [
            "<ipython-input-35-64be8a562159>:2: FutureWarning: The default value of regex will change from True to False in a future version. In addition, single character regular expressions will *not* be treated as literal strings when regex=True.\n",
            "  track_df[\"artists\"] = track_df[\"artists\"].str.replace(\"[\",\"\")\n",
            "<ipython-input-35-64be8a562159>:3: FutureWarning: The default value of regex will change from True to False in a future version. In addition, single character regular expressions will *not* be treated as literal strings when regex=True.\n",
            "  track_df[\"artists\"] = track_df[\"artists\"].str.replace(\"]\",\"\")\n"
          ]
        },
        {
          "output_type": "execute_result",
          "data": {
            "text/plain": [
              "0                               Uli\n",
              "1                   Fernando Pessoa\n",
              "2                   Ignacio Corsini\n",
              "3                   Ignacio Corsini\n",
              "4                       Dick Haymes\n",
              "                    ...            \n",
              "586667                      阿YueYue\n",
              "586668                   ROLE MODEL\n",
              "586669                      FINNEAS\n",
              "586670    Gentle Bones, Clara Benin\n",
              "586671                    Afrosound\n",
              "Name: artists, Length: 586672, dtype: object"
            ]
          },
          "metadata": {},
          "execution_count": 35
        }
      ]
    },
    {
      "cell_type": "code",
      "source": [
        "track_df[\"id_artists\"] = track_df[\"id_artists\"].str.replace(\"'\", \"\")\n",
        "track_df[\"id_artists\"] = track_df[\"id_artists\"].str.replace(\"[\",\"\")\n",
        "track_df[\"id_artists\"] = track_df[\"id_artists\"].str.replace(\"]\",\"\")\n",
        "track_df[\"id_artists\"]"
      ],
      "metadata": {
        "colab": {
          "base_uri": "https://localhost:8080/"
        },
        "id": "QcucqFBAyI-U",
        "outputId": "eb31b35c-803b-4c96-a99a-09fe07d13f5e"
      },
      "execution_count": null,
      "outputs": [
        {
          "output_type": "stream",
          "name": "stderr",
          "text": [
            "<ipython-input-37-5fe29368e517>:2: FutureWarning: The default value of regex will change from True to False in a future version. In addition, single character regular expressions will *not* be treated as literal strings when regex=True.\n",
            "  track_df[\"id_artists\"] = track_df[\"id_artists\"].str.replace(\"[\",\"\")\n",
            "<ipython-input-37-5fe29368e517>:3: FutureWarning: The default value of regex will change from True to False in a future version. In addition, single character regular expressions will *not* be treated as literal strings when regex=True.\n",
            "  track_df[\"id_artists\"] = track_df[\"id_artists\"].str.replace(\"]\",\"\")\n"
          ]
        },
        {
          "output_type": "execute_result",
          "data": {
            "text/plain": [
              "0                                 45tIt06XoI0Iio4LBEVpls\n",
              "1                                 14jtPCOoNZwquk5wd9DxrY\n",
              "2                                 5LiOoJbxVSAMkBS2fUm3X2\n",
              "3                                 5LiOoJbxVSAMkBS2fUm3X2\n",
              "4                                 3BiJGZsyX9sJchTqcSA7Su\n",
              "                               ...                      \n",
              "586667                            1QLBXKM5GCpyQQSVMNZqrZ\n",
              "586668                            1dy5WNgIKQU6ezkpZs4y8z\n",
              "586669                            37M5pPGs6V1fchFJSgCguX\n",
              "586670    4jGPdu95icCKVF31CcFKbS, 5ebPSE9YI5aLeZ1Z2gkqjn\n",
              "586671                            0i4Qda0k4nf7jnNHmSNpYv\n",
              "Name: id_artists, Length: 586672, dtype: object"
            ]
          },
          "metadata": {},
          "execution_count": 37
        }
      ]
    },
    {
      "cell_type": "code",
      "source": [
        "track_df.to_csv('normal_track3.csv', index=False)"
      ],
      "metadata": {
        "id": "sSmpHxlchH-A"
      },
      "execution_count": null,
      "outputs": []
    },
    {
      "cell_type": "code",
      "source": [
        "str(track_df.iloc()[0].to_dict()).replace(\"'\",'\"')"
      ],
      "metadata": {
        "id": "Uz--Lo52y4kW",
        "colab": {
          "base_uri": "https://localhost:8080/",
          "height": 72
        },
        "outputId": "b65958c1-1a92-494e-b0a8-36561a7ea63f"
      },
      "execution_count": null,
      "outputs": [
        {
          "output_type": "execute_result",
          "data": {
            "text/plain": [
              "'{\"id\": \"35iwgR4jXetI318WEWsa1Q\", \"name\": \"Carve\", \"popularity\": 6.0, \"duration_ms\": 126903, \"explicit\": 0, \"artists\": \"[\"Uli\"]\", \"id_artists\": \"[\"45tIt06XoI0Iio4LBEVpls\"]\", \"release_date\": Timestamp(\"1922-02-22 00:00:00\"), \"danceability\": 0.645, \"energy\": 0.445, \"key\": 0.0, \"loudness\": -13.338, \"mode\": 1.0, \"speechiness\": 0.451, \"acousticness\": 0.674, \"instrumentalness\": 0.744, \"liveness\": 0.151, \"valence\": 0.127, \"tempo\": 104.851, \"time_signature\": 3.0}'"
            ],
            "application/vnd.google.colaboratory.intrinsic+json": {
              "type": "string"
            }
          },
          "metadata": {},
          "execution_count": 33
        }
      ]
    },
    {
      "cell_type": "code",
      "source": [],
      "metadata": {
        "id": "J0UbPuggXx9i"
      },
      "execution_count": null,
      "outputs": []
    },
    {
      "cell_type": "code",
      "source": [
        "track_df[\"id_artists\"].str.contains(\"1uNFoZAHBGtllmzznpCI3s\").any()"
      ],
      "metadata": {
        "colab": {
          "base_uri": "https://localhost:8080/"
        },
        "id": "DJ1zOEwfyptQ",
        "outputId": "f138480d-8a9b-4941-db78-d0892b3e9e8d"
      },
      "execution_count": null,
      "outputs": [
        {
          "output_type": "execute_result",
          "data": {
            "text/plain": [
              "True"
            ]
          },
          "metadata": {},
          "execution_count": 71
        }
      ]
    },
    {
      "cell_type": "markdown",
      "source": [
        "# Artist_mod"
      ],
      "metadata": {
        "id": "38CVDjXBpmM1"
      }
    },
    {
      "cell_type": "code",
      "source": [
        "artist_df = pd.read_csv('/content/drive/MyDrive/Spotify/artists_mod.csv')"
      ],
      "metadata": {
        "id": "GfXJsQubp1Z8"
      },
      "execution_count": null,
      "outputs": []
    },
    {
      "cell_type": "markdown",
      "source": [
        "## Descripción general"
      ],
      "metadata": {
        "id": "xMUZuLmEx2mZ"
      }
    },
    {
      "cell_type": "code",
      "source": [
        "artist_df.shape"
      ],
      "metadata": {
        "colab": {
          "base_uri": "https://localhost:8080/"
        },
        "id": "sxMw5om3p8uH",
        "outputId": "22c4153e-b6bd-4775-c6c2-a83167ef0d57"
      },
      "execution_count": null,
      "outputs": [
        {
          "output_type": "execute_result",
          "data": {
            "text/plain": [
              "(1162095, 5)"
            ]
          },
          "metadata": {},
          "execution_count": 43
        }
      ]
    },
    {
      "cell_type": "code",
      "source": [
        "artist_df[artist_df[\"name\"]==\"Justin Bieber\"]"
      ],
      "metadata": {
        "colab": {
          "base_uri": "https://localhost:8080/",
          "height": 81
        },
        "id": "rFFekwRzzky4",
        "outputId": "5440a751-c298-4935-a9ba-057e698ddcbe"
      },
      "execution_count": null,
      "outputs": [
        {
          "output_type": "execute_result",
          "data": {
            "text/plain": [
              "                            id   followers  \\\n",
              "144481  1uNFoZAHBGtllmzznpCI3s  44606973.0   \n",
              "\n",
              "                                          genres           name  popularity  \n",
              "144481  ['canadian pop', 'pop', 'post-teen pop']  Justin Bieber         100  "
            ],
            "text/html": [
              "\n",
              "  <div id=\"df-744efe90-fe87-419c-a7cc-9644a045b241\">\n",
              "    <div class=\"colab-df-container\">\n",
              "      <div>\n",
              "<style scoped>\n",
              "    .dataframe tbody tr th:only-of-type {\n",
              "        vertical-align: middle;\n",
              "    }\n",
              "\n",
              "    .dataframe tbody tr th {\n",
              "        vertical-align: top;\n",
              "    }\n",
              "\n",
              "    .dataframe thead th {\n",
              "        text-align: right;\n",
              "    }\n",
              "</style>\n",
              "<table border=\"1\" class=\"dataframe\">\n",
              "  <thead>\n",
              "    <tr style=\"text-align: right;\">\n",
              "      <th></th>\n",
              "      <th>id</th>\n",
              "      <th>followers</th>\n",
              "      <th>genres</th>\n",
              "      <th>name</th>\n",
              "      <th>popularity</th>\n",
              "    </tr>\n",
              "  </thead>\n",
              "  <tbody>\n",
              "    <tr>\n",
              "      <th>144481</th>\n",
              "      <td>1uNFoZAHBGtllmzznpCI3s</td>\n",
              "      <td>44606973.0</td>\n",
              "      <td>['canadian pop', 'pop', 'post-teen pop']</td>\n",
              "      <td>Justin Bieber</td>\n",
              "      <td>100</td>\n",
              "    </tr>\n",
              "  </tbody>\n",
              "</table>\n",
              "</div>\n",
              "      <button class=\"colab-df-convert\" onclick=\"convertToInteractive('df-744efe90-fe87-419c-a7cc-9644a045b241')\"\n",
              "              title=\"Convert this dataframe to an interactive table.\"\n",
              "              style=\"display:none;\">\n",
              "        \n",
              "  <svg xmlns=\"http://www.w3.org/2000/svg\" height=\"24px\"viewBox=\"0 0 24 24\"\n",
              "       width=\"24px\">\n",
              "    <path d=\"M0 0h24v24H0V0z\" fill=\"none\"/>\n",
              "    <path d=\"M18.56 5.44l.94 2.06.94-2.06 2.06-.94-2.06-.94-.94-2.06-.94 2.06-2.06.94zm-11 1L8.5 8.5l.94-2.06 2.06-.94-2.06-.94L8.5 2.5l-.94 2.06-2.06.94zm10 10l.94 2.06.94-2.06 2.06-.94-2.06-.94-.94-2.06-.94 2.06-2.06.94z\"/><path d=\"M17.41 7.96l-1.37-1.37c-.4-.4-.92-.59-1.43-.59-.52 0-1.04.2-1.43.59L10.3 9.45l-7.72 7.72c-.78.78-.78 2.05 0 2.83L4 21.41c.39.39.9.59 1.41.59.51 0 1.02-.2 1.41-.59l7.78-7.78 2.81-2.81c.8-.78.8-2.07 0-2.86zM5.41 20L4 18.59l7.72-7.72 1.47 1.35L5.41 20z\"/>\n",
              "  </svg>\n",
              "      </button>\n",
              "      \n",
              "  <style>\n",
              "    .colab-df-container {\n",
              "      display:flex;\n",
              "      flex-wrap:wrap;\n",
              "      gap: 12px;\n",
              "    }\n",
              "\n",
              "    .colab-df-convert {\n",
              "      background-color: #E8F0FE;\n",
              "      border: none;\n",
              "      border-radius: 50%;\n",
              "      cursor: pointer;\n",
              "      display: none;\n",
              "      fill: #1967D2;\n",
              "      height: 32px;\n",
              "      padding: 0 0 0 0;\n",
              "      width: 32px;\n",
              "    }\n",
              "\n",
              "    .colab-df-convert:hover {\n",
              "      background-color: #E2EBFA;\n",
              "      box-shadow: 0px 1px 2px rgba(60, 64, 67, 0.3), 0px 1px 3px 1px rgba(60, 64, 67, 0.15);\n",
              "      fill: #174EA6;\n",
              "    }\n",
              "\n",
              "    [theme=dark] .colab-df-convert {\n",
              "      background-color: #3B4455;\n",
              "      fill: #D2E3FC;\n",
              "    }\n",
              "\n",
              "    [theme=dark] .colab-df-convert:hover {\n",
              "      background-color: #434B5C;\n",
              "      box-shadow: 0px 1px 3px 1px rgba(0, 0, 0, 0.15);\n",
              "      filter: drop-shadow(0px 1px 2px rgba(0, 0, 0, 0.3));\n",
              "      fill: #FFFFFF;\n",
              "    }\n",
              "  </style>\n",
              "\n",
              "      <script>\n",
              "        const buttonEl =\n",
              "          document.querySelector('#df-744efe90-fe87-419c-a7cc-9644a045b241 button.colab-df-convert');\n",
              "        buttonEl.style.display =\n",
              "          google.colab.kernel.accessAllowed ? 'block' : 'none';\n",
              "\n",
              "        async function convertToInteractive(key) {\n",
              "          const element = document.querySelector('#df-744efe90-fe87-419c-a7cc-9644a045b241');\n",
              "          const dataTable =\n",
              "            await google.colab.kernel.invokeFunction('convertToInteractive',\n",
              "                                                     [key], {});\n",
              "          if (!dataTable) return;\n",
              "\n",
              "          const docLinkHtml = 'Like what you see? Visit the ' +\n",
              "            '<a target=\"_blank\" href=https://colab.research.google.com/notebooks/data_table.ipynb>data table notebook</a>'\n",
              "            + ' to learn more about interactive tables.';\n",
              "          element.innerHTML = '';\n",
              "          dataTable['output_type'] = 'display_data';\n",
              "          await google.colab.output.renderOutput(dataTable, element);\n",
              "          const docLink = document.createElement('div');\n",
              "          docLink.innerHTML = docLinkHtml;\n",
              "          element.appendChild(docLink);\n",
              "        }\n",
              "      </script>\n",
              "    </div>\n",
              "  </div>\n",
              "  "
            ]
          },
          "metadata": {},
          "execution_count": 69
        }
      ]
    },
    {
      "cell_type": "code",
      "source": [
        "artist_df.sample(5)"
      ],
      "metadata": {
        "colab": {
          "base_uri": "https://localhost:8080/",
          "height": 206
        },
        "id": "ADtSVUjWp18B",
        "outputId": "0a161ffd-ffa4-45fc-8c83-99528b1364ff"
      },
      "execution_count": null,
      "outputs": [
        {
          "output_type": "execute_result",
          "data": {
            "text/plain": [
              "                             id  followers genres  \\\n",
              "173557   5tQCDrwslI4nnBQUZ74DM9       75.0     []   \n",
              "1054843  0s56jPTjHaOPgAhvqRCxNN        8.0     []   \n",
              "195597   0xZx3tHU9i2rtUfmxOKlNJ        3.0     []   \n",
              "450623   7wxzhKwKi4sks4KpId7kOh      331.0     []   \n",
              "824752   7FMvDpKoQ77DoNz6CMV3bv       47.0     []   \n",
              "\n",
              "                                     name  popularity  \n",
              "173557                             Iconic           6  \n",
              "1054843          Nex Millen/Retrospective           0  \n",
              "195597   Ian Brown/Christopher van Kampen           0  \n",
              "450623                      Della Memoria           2  \n",
              "824752                        Kadir Aslan           2  "
            ],
            "text/html": [
              "\n",
              "  <div id=\"df-38a07978-233f-411f-be51-18ba7d7cc8ce\">\n",
              "    <div class=\"colab-df-container\">\n",
              "      <div>\n",
              "<style scoped>\n",
              "    .dataframe tbody tr th:only-of-type {\n",
              "        vertical-align: middle;\n",
              "    }\n",
              "\n",
              "    .dataframe tbody tr th {\n",
              "        vertical-align: top;\n",
              "    }\n",
              "\n",
              "    .dataframe thead th {\n",
              "        text-align: right;\n",
              "    }\n",
              "</style>\n",
              "<table border=\"1\" class=\"dataframe\">\n",
              "  <thead>\n",
              "    <tr style=\"text-align: right;\">\n",
              "      <th></th>\n",
              "      <th>id</th>\n",
              "      <th>followers</th>\n",
              "      <th>genres</th>\n",
              "      <th>name</th>\n",
              "      <th>popularity</th>\n",
              "    </tr>\n",
              "  </thead>\n",
              "  <tbody>\n",
              "    <tr>\n",
              "      <th>173557</th>\n",
              "      <td>5tQCDrwslI4nnBQUZ74DM9</td>\n",
              "      <td>75.0</td>\n",
              "      <td>[]</td>\n",
              "      <td>Iconic</td>\n",
              "      <td>6</td>\n",
              "    </tr>\n",
              "    <tr>\n",
              "      <th>1054843</th>\n",
              "      <td>0s56jPTjHaOPgAhvqRCxNN</td>\n",
              "      <td>8.0</td>\n",
              "      <td>[]</td>\n",
              "      <td>Nex Millen/Retrospective</td>\n",
              "      <td>0</td>\n",
              "    </tr>\n",
              "    <tr>\n",
              "      <th>195597</th>\n",
              "      <td>0xZx3tHU9i2rtUfmxOKlNJ</td>\n",
              "      <td>3.0</td>\n",
              "      <td>[]</td>\n",
              "      <td>Ian Brown/Christopher van Kampen</td>\n",
              "      <td>0</td>\n",
              "    </tr>\n",
              "    <tr>\n",
              "      <th>450623</th>\n",
              "      <td>7wxzhKwKi4sks4KpId7kOh</td>\n",
              "      <td>331.0</td>\n",
              "      <td>[]</td>\n",
              "      <td>Della Memoria</td>\n",
              "      <td>2</td>\n",
              "    </tr>\n",
              "    <tr>\n",
              "      <th>824752</th>\n",
              "      <td>7FMvDpKoQ77DoNz6CMV3bv</td>\n",
              "      <td>47.0</td>\n",
              "      <td>[]</td>\n",
              "      <td>Kadir Aslan</td>\n",
              "      <td>2</td>\n",
              "    </tr>\n",
              "  </tbody>\n",
              "</table>\n",
              "</div>\n",
              "      <button class=\"colab-df-convert\" onclick=\"convertToInteractive('df-38a07978-233f-411f-be51-18ba7d7cc8ce')\"\n",
              "              title=\"Convert this dataframe to an interactive table.\"\n",
              "              style=\"display:none;\">\n",
              "        \n",
              "  <svg xmlns=\"http://www.w3.org/2000/svg\" height=\"24px\"viewBox=\"0 0 24 24\"\n",
              "       width=\"24px\">\n",
              "    <path d=\"M0 0h24v24H0V0z\" fill=\"none\"/>\n",
              "    <path d=\"M18.56 5.44l.94 2.06.94-2.06 2.06-.94-2.06-.94-.94-2.06-.94 2.06-2.06.94zm-11 1L8.5 8.5l.94-2.06 2.06-.94-2.06-.94L8.5 2.5l-.94 2.06-2.06.94zm10 10l.94 2.06.94-2.06 2.06-.94-2.06-.94-.94-2.06-.94 2.06-2.06.94z\"/><path d=\"M17.41 7.96l-1.37-1.37c-.4-.4-.92-.59-1.43-.59-.52 0-1.04.2-1.43.59L10.3 9.45l-7.72 7.72c-.78.78-.78 2.05 0 2.83L4 21.41c.39.39.9.59 1.41.59.51 0 1.02-.2 1.41-.59l7.78-7.78 2.81-2.81c.8-.78.8-2.07 0-2.86zM5.41 20L4 18.59l7.72-7.72 1.47 1.35L5.41 20z\"/>\n",
              "  </svg>\n",
              "      </button>\n",
              "      \n",
              "  <style>\n",
              "    .colab-df-container {\n",
              "      display:flex;\n",
              "      flex-wrap:wrap;\n",
              "      gap: 12px;\n",
              "    }\n",
              "\n",
              "    .colab-df-convert {\n",
              "      background-color: #E8F0FE;\n",
              "      border: none;\n",
              "      border-radius: 50%;\n",
              "      cursor: pointer;\n",
              "      display: none;\n",
              "      fill: #1967D2;\n",
              "      height: 32px;\n",
              "      padding: 0 0 0 0;\n",
              "      width: 32px;\n",
              "    }\n",
              "\n",
              "    .colab-df-convert:hover {\n",
              "      background-color: #E2EBFA;\n",
              "      box-shadow: 0px 1px 2px rgba(60, 64, 67, 0.3), 0px 1px 3px 1px rgba(60, 64, 67, 0.15);\n",
              "      fill: #174EA6;\n",
              "    }\n",
              "\n",
              "    [theme=dark] .colab-df-convert {\n",
              "      background-color: #3B4455;\n",
              "      fill: #D2E3FC;\n",
              "    }\n",
              "\n",
              "    [theme=dark] .colab-df-convert:hover {\n",
              "      background-color: #434B5C;\n",
              "      box-shadow: 0px 1px 3px 1px rgba(0, 0, 0, 0.15);\n",
              "      filter: drop-shadow(0px 1px 2px rgba(0, 0, 0, 0.3));\n",
              "      fill: #FFFFFF;\n",
              "    }\n",
              "  </style>\n",
              "\n",
              "      <script>\n",
              "        const buttonEl =\n",
              "          document.querySelector('#df-38a07978-233f-411f-be51-18ba7d7cc8ce button.colab-df-convert');\n",
              "        buttonEl.style.display =\n",
              "          google.colab.kernel.accessAllowed ? 'block' : 'none';\n",
              "\n",
              "        async function convertToInteractive(key) {\n",
              "          const element = document.querySelector('#df-38a07978-233f-411f-be51-18ba7d7cc8ce');\n",
              "          const dataTable =\n",
              "            await google.colab.kernel.invokeFunction('convertToInteractive',\n",
              "                                                     [key], {});\n",
              "          if (!dataTable) return;\n",
              "\n",
              "          const docLinkHtml = 'Like what you see? Visit the ' +\n",
              "            '<a target=\"_blank\" href=https://colab.research.google.com/notebooks/data_table.ipynb>data table notebook</a>'\n",
              "            + ' to learn more about interactive tables.';\n",
              "          element.innerHTML = '';\n",
              "          dataTable['output_type'] = 'display_data';\n",
              "          await google.colab.output.renderOutput(dataTable, element);\n",
              "          const docLink = document.createElement('div');\n",
              "          docLink.innerHTML = docLinkHtml;\n",
              "          element.appendChild(docLink);\n",
              "        }\n",
              "      </script>\n",
              "    </div>\n",
              "  </div>\n",
              "  "
            ]
          },
          "metadata": {},
          "execution_count": 67
        }
      ]
    },
    {
      "cell_type": "code",
      "source": [
        "artist_df.dtypes"
      ],
      "metadata": {
        "colab": {
          "base_uri": "https://localhost:8080/"
        },
        "id": "2ngp_PGSzsYw",
        "outputId": "f68a150a-359a-4732-9c92-0cfe94ef02eb"
      },
      "execution_count": null,
      "outputs": [
        {
          "output_type": "execute_result",
          "data": {
            "text/plain": [
              "id             object\n",
              "followers     float64\n",
              "genres         object\n",
              "name           object\n",
              "popularity      int64\n",
              "dtype: object"
            ]
          },
          "metadata": {},
          "execution_count": 45
        }
      ]
    },
    {
      "cell_type": "code",
      "source": [
        "artist_df.describe()"
      ],
      "metadata": {
        "colab": {
          "base_uri": "https://localhost:8080/",
          "height": 300
        },
        "id": "dfdfEKTJqrLk",
        "outputId": "18688bf0-a99f-4350-8438-59fa4a5d1c58"
      },
      "execution_count": null,
      "outputs": [
        {
          "output_type": "execute_result",
          "data": {
            "text/plain": [
              "          followers    popularity\n",
              "count  1.162084e+06  1.162095e+06\n",
              "mean   1.022070e+04  8.795961e+00\n",
              "std    2.543995e+05  1.355777e+01\n",
              "min    0.000000e+00  0.000000e+00\n",
              "25%    1.000000e+01  0.000000e+00\n",
              "50%    5.700000e+01  2.000000e+00\n",
              "75%    4.170000e+02  1.300000e+01\n",
              "max    7.890023e+07  1.000000e+02"
            ],
            "text/html": [
              "\n",
              "  <div id=\"df-d5f00bbc-da6c-4b9f-b688-00dd73ba6cd8\">\n",
              "    <div class=\"colab-df-container\">\n",
              "      <div>\n",
              "<style scoped>\n",
              "    .dataframe tbody tr th:only-of-type {\n",
              "        vertical-align: middle;\n",
              "    }\n",
              "\n",
              "    .dataframe tbody tr th {\n",
              "        vertical-align: top;\n",
              "    }\n",
              "\n",
              "    .dataframe thead th {\n",
              "        text-align: right;\n",
              "    }\n",
              "</style>\n",
              "<table border=\"1\" class=\"dataframe\">\n",
              "  <thead>\n",
              "    <tr style=\"text-align: right;\">\n",
              "      <th></th>\n",
              "      <th>followers</th>\n",
              "      <th>popularity</th>\n",
              "    </tr>\n",
              "  </thead>\n",
              "  <tbody>\n",
              "    <tr>\n",
              "      <th>count</th>\n",
              "      <td>1.162084e+06</td>\n",
              "      <td>1.162095e+06</td>\n",
              "    </tr>\n",
              "    <tr>\n",
              "      <th>mean</th>\n",
              "      <td>1.022070e+04</td>\n",
              "      <td>8.795961e+00</td>\n",
              "    </tr>\n",
              "    <tr>\n",
              "      <th>std</th>\n",
              "      <td>2.543995e+05</td>\n",
              "      <td>1.355777e+01</td>\n",
              "    </tr>\n",
              "    <tr>\n",
              "      <th>min</th>\n",
              "      <td>0.000000e+00</td>\n",
              "      <td>0.000000e+00</td>\n",
              "    </tr>\n",
              "    <tr>\n",
              "      <th>25%</th>\n",
              "      <td>1.000000e+01</td>\n",
              "      <td>0.000000e+00</td>\n",
              "    </tr>\n",
              "    <tr>\n",
              "      <th>50%</th>\n",
              "      <td>5.700000e+01</td>\n",
              "      <td>2.000000e+00</td>\n",
              "    </tr>\n",
              "    <tr>\n",
              "      <th>75%</th>\n",
              "      <td>4.170000e+02</td>\n",
              "      <td>1.300000e+01</td>\n",
              "    </tr>\n",
              "    <tr>\n",
              "      <th>max</th>\n",
              "      <td>7.890023e+07</td>\n",
              "      <td>1.000000e+02</td>\n",
              "    </tr>\n",
              "  </tbody>\n",
              "</table>\n",
              "</div>\n",
              "      <button class=\"colab-df-convert\" onclick=\"convertToInteractive('df-d5f00bbc-da6c-4b9f-b688-00dd73ba6cd8')\"\n",
              "              title=\"Convert this dataframe to an interactive table.\"\n",
              "              style=\"display:none;\">\n",
              "        \n",
              "  <svg xmlns=\"http://www.w3.org/2000/svg\" height=\"24px\"viewBox=\"0 0 24 24\"\n",
              "       width=\"24px\">\n",
              "    <path d=\"M0 0h24v24H0V0z\" fill=\"none\"/>\n",
              "    <path d=\"M18.56 5.44l.94 2.06.94-2.06 2.06-.94-2.06-.94-.94-2.06-.94 2.06-2.06.94zm-11 1L8.5 8.5l.94-2.06 2.06-.94-2.06-.94L8.5 2.5l-.94 2.06-2.06.94zm10 10l.94 2.06.94-2.06 2.06-.94-2.06-.94-.94-2.06-.94 2.06-2.06.94z\"/><path d=\"M17.41 7.96l-1.37-1.37c-.4-.4-.92-.59-1.43-.59-.52 0-1.04.2-1.43.59L10.3 9.45l-7.72 7.72c-.78.78-.78 2.05 0 2.83L4 21.41c.39.39.9.59 1.41.59.51 0 1.02-.2 1.41-.59l7.78-7.78 2.81-2.81c.8-.78.8-2.07 0-2.86zM5.41 20L4 18.59l7.72-7.72 1.47 1.35L5.41 20z\"/>\n",
              "  </svg>\n",
              "      </button>\n",
              "      \n",
              "  <style>\n",
              "    .colab-df-container {\n",
              "      display:flex;\n",
              "      flex-wrap:wrap;\n",
              "      gap: 12px;\n",
              "    }\n",
              "\n",
              "    .colab-df-convert {\n",
              "      background-color: #E8F0FE;\n",
              "      border: none;\n",
              "      border-radius: 50%;\n",
              "      cursor: pointer;\n",
              "      display: none;\n",
              "      fill: #1967D2;\n",
              "      height: 32px;\n",
              "      padding: 0 0 0 0;\n",
              "      width: 32px;\n",
              "    }\n",
              "\n",
              "    .colab-df-convert:hover {\n",
              "      background-color: #E2EBFA;\n",
              "      box-shadow: 0px 1px 2px rgba(60, 64, 67, 0.3), 0px 1px 3px 1px rgba(60, 64, 67, 0.15);\n",
              "      fill: #174EA6;\n",
              "    }\n",
              "\n",
              "    [theme=dark] .colab-df-convert {\n",
              "      background-color: #3B4455;\n",
              "      fill: #D2E3FC;\n",
              "    }\n",
              "\n",
              "    [theme=dark] .colab-df-convert:hover {\n",
              "      background-color: #434B5C;\n",
              "      box-shadow: 0px 1px 3px 1px rgba(0, 0, 0, 0.15);\n",
              "      filter: drop-shadow(0px 1px 2px rgba(0, 0, 0, 0.3));\n",
              "      fill: #FFFFFF;\n",
              "    }\n",
              "  </style>\n",
              "\n",
              "      <script>\n",
              "        const buttonEl =\n",
              "          document.querySelector('#df-d5f00bbc-da6c-4b9f-b688-00dd73ba6cd8 button.colab-df-convert');\n",
              "        buttonEl.style.display =\n",
              "          google.colab.kernel.accessAllowed ? 'block' : 'none';\n",
              "\n",
              "        async function convertToInteractive(key) {\n",
              "          const element = document.querySelector('#df-d5f00bbc-da6c-4b9f-b688-00dd73ba6cd8');\n",
              "          const dataTable =\n",
              "            await google.colab.kernel.invokeFunction('convertToInteractive',\n",
              "                                                     [key], {});\n",
              "          if (!dataTable) return;\n",
              "\n",
              "          const docLinkHtml = 'Like what you see? Visit the ' +\n",
              "            '<a target=\"_blank\" href=https://colab.research.google.com/notebooks/data_table.ipynb>data table notebook</a>'\n",
              "            + ' to learn more about interactive tables.';\n",
              "          element.innerHTML = '';\n",
              "          dataTable['output_type'] = 'display_data';\n",
              "          await google.colab.output.renderOutput(dataTable, element);\n",
              "          const docLink = document.createElement('div');\n",
              "          docLink.innerHTML = docLinkHtml;\n",
              "          element.appendChild(docLink);\n",
              "        }\n",
              "      </script>\n",
              "    </div>\n",
              "  </div>\n",
              "  "
            ]
          },
          "metadata": {},
          "execution_count": 46
        }
      ]
    },
    {
      "cell_type": "markdown",
      "source": [
        "## Análisis de calidad de datos y limpieza"
      ],
      "metadata": {
        "id": "RLhTuTmhyEcw"
      }
    },
    {
      "cell_type": "code",
      "source": [
        "artist_df.isnull().sum()"
      ],
      "metadata": {
        "colab": {
          "base_uri": "https://localhost:8080/"
        },
        "id": "yQyxHl3HyH3A",
        "outputId": "240c5cb9-081b-4a71-b6c3-2cf7da43db8a"
      },
      "execution_count": null,
      "outputs": [
        {
          "output_type": "execute_result",
          "data": {
            "text/plain": [
              "id             0\n",
              "followers     11\n",
              "genres         0\n",
              "name           0\n",
              "popularity     0\n",
              "dtype: int64"
            ]
          },
          "metadata": {},
          "execution_count": 47
        }
      ]
    },
    {
      "cell_type": "code",
      "source": [
        "artist_df[artist_df[\"followers\"].isnull()]"
      ],
      "metadata": {
        "colab": {
          "base_uri": "https://localhost:8080/"
        },
        "id": "jSDyyLCYyRcf",
        "outputId": "66627d8b-1958-415e-962c-e53d0243bfe8"
      },
      "execution_count": null,
      "outputs": [
        {
          "output_type": "execute_result",
          "data": {
            "text/plain": [
              "                            id  followers                  genres  \\\n",
              "436666  7F71W80jaXFARK7hBjsDI2        NaN           ['czech pop']   \n",
              "436667  3MLHJz04KmEVzCTPclzkEm        NaN           ['czech pop']   \n",
              "437264  0cqZsULDZdJTGA4Zqh8Ckv        NaN                      []   \n",
              "437265  0BuknWzKujyc9HfZ1V50Uk        NaN                      []   \n",
              "439102  6ltU5gIDLmWNYaVNHnll5G        NaN  ['mexican electronic']   \n",
              "439103  7C9nWRMbRqpPUuKh2OEw9n        NaN                      []   \n",
              "439104  41c30F8zy5UCTSevbn0WfD        NaN  ['mexican electronic']   \n",
              "457848  1DK979aOesiZ4Vkus8txqu        NaN                      []   \n",
              "457849  2lr0R5vHGfI0C489h0r6qV        NaN            ['dc indie']   \n",
              "457850  0xkSOIeyeTILNIOZKyFgaP        NaN                      []   \n",
              "457851  4EqqnE0XMAcreVF84QGYJ0        NaN                      []   \n",
              "\n",
              "                                                     name  popularity  \n",
              "436666                                            Marcell          36  \n",
              "436667                                               Niko          21  \n",
              "437264                                           Savzilla           0  \n",
              "437265                                          Duck Doja           0  \n",
              "439102                                               Zofa           0  \n",
              "439103                                                MHV           3  \n",
              "439104                                     Broadband Star           0  \n",
              "457848              AmorArtis Orchestra & Johannes Somary           2  \n",
              "457849                                    Black Dog Prowl          16  \n",
              "457850  Band of the Fifteenth Field Artillery Regiment...           3  \n",
              "457851                             Robert Steven Williams           0  "
            ],
            "text/html": [
              "\n",
              "  <div id=\"df-a9d23dd3-296e-4f49-ae3a-eab569a9d11e\">\n",
              "    <div class=\"colab-df-container\">\n",
              "      <div>\n",
              "<style scoped>\n",
              "    .dataframe tbody tr th:only-of-type {\n",
              "        vertical-align: middle;\n",
              "    }\n",
              "\n",
              "    .dataframe tbody tr th {\n",
              "        vertical-align: top;\n",
              "    }\n",
              "\n",
              "    .dataframe thead th {\n",
              "        text-align: right;\n",
              "    }\n",
              "</style>\n",
              "<table border=\"1\" class=\"dataframe\">\n",
              "  <thead>\n",
              "    <tr style=\"text-align: right;\">\n",
              "      <th></th>\n",
              "      <th>id</th>\n",
              "      <th>followers</th>\n",
              "      <th>genres</th>\n",
              "      <th>name</th>\n",
              "      <th>popularity</th>\n",
              "    </tr>\n",
              "  </thead>\n",
              "  <tbody>\n",
              "    <tr>\n",
              "      <th>436666</th>\n",
              "      <td>7F71W80jaXFARK7hBjsDI2</td>\n",
              "      <td>NaN</td>\n",
              "      <td>['czech pop']</td>\n",
              "      <td>Marcell</td>\n",
              "      <td>36</td>\n",
              "    </tr>\n",
              "    <tr>\n",
              "      <th>436667</th>\n",
              "      <td>3MLHJz04KmEVzCTPclzkEm</td>\n",
              "      <td>NaN</td>\n",
              "      <td>['czech pop']</td>\n",
              "      <td>Niko</td>\n",
              "      <td>21</td>\n",
              "    </tr>\n",
              "    <tr>\n",
              "      <th>437264</th>\n",
              "      <td>0cqZsULDZdJTGA4Zqh8Ckv</td>\n",
              "      <td>NaN</td>\n",
              "      <td>[]</td>\n",
              "      <td>Savzilla</td>\n",
              "      <td>0</td>\n",
              "    </tr>\n",
              "    <tr>\n",
              "      <th>437265</th>\n",
              "      <td>0BuknWzKujyc9HfZ1V50Uk</td>\n",
              "      <td>NaN</td>\n",
              "      <td>[]</td>\n",
              "      <td>Duck Doja</td>\n",
              "      <td>0</td>\n",
              "    </tr>\n",
              "    <tr>\n",
              "      <th>439102</th>\n",
              "      <td>6ltU5gIDLmWNYaVNHnll5G</td>\n",
              "      <td>NaN</td>\n",
              "      <td>['mexican electronic']</td>\n",
              "      <td>Zofa</td>\n",
              "      <td>0</td>\n",
              "    </tr>\n",
              "    <tr>\n",
              "      <th>439103</th>\n",
              "      <td>7C9nWRMbRqpPUuKh2OEw9n</td>\n",
              "      <td>NaN</td>\n",
              "      <td>[]</td>\n",
              "      <td>MHV</td>\n",
              "      <td>3</td>\n",
              "    </tr>\n",
              "    <tr>\n",
              "      <th>439104</th>\n",
              "      <td>41c30F8zy5UCTSevbn0WfD</td>\n",
              "      <td>NaN</td>\n",
              "      <td>['mexican electronic']</td>\n",
              "      <td>Broadband Star</td>\n",
              "      <td>0</td>\n",
              "    </tr>\n",
              "    <tr>\n",
              "      <th>457848</th>\n",
              "      <td>1DK979aOesiZ4Vkus8txqu</td>\n",
              "      <td>NaN</td>\n",
              "      <td>[]</td>\n",
              "      <td>AmorArtis Orchestra &amp; Johannes Somary</td>\n",
              "      <td>2</td>\n",
              "    </tr>\n",
              "    <tr>\n",
              "      <th>457849</th>\n",
              "      <td>2lr0R5vHGfI0C489h0r6qV</td>\n",
              "      <td>NaN</td>\n",
              "      <td>['dc indie']</td>\n",
              "      <td>Black Dog Prowl</td>\n",
              "      <td>16</td>\n",
              "    </tr>\n",
              "    <tr>\n",
              "      <th>457850</th>\n",
              "      <td>0xkSOIeyeTILNIOZKyFgaP</td>\n",
              "      <td>NaN</td>\n",
              "      <td>[]</td>\n",
              "      <td>Band of the Fifteenth Field Artillery Regiment...</td>\n",
              "      <td>3</td>\n",
              "    </tr>\n",
              "    <tr>\n",
              "      <th>457851</th>\n",
              "      <td>4EqqnE0XMAcreVF84QGYJ0</td>\n",
              "      <td>NaN</td>\n",
              "      <td>[]</td>\n",
              "      <td>Robert Steven Williams</td>\n",
              "      <td>0</td>\n",
              "    </tr>\n",
              "  </tbody>\n",
              "</table>\n",
              "</div>\n",
              "      <button class=\"colab-df-convert\" onclick=\"convertToInteractive('df-a9d23dd3-296e-4f49-ae3a-eab569a9d11e')\"\n",
              "              title=\"Convert this dataframe to an interactive table.\"\n",
              "              style=\"display:none;\">\n",
              "        \n",
              "  <svg xmlns=\"http://www.w3.org/2000/svg\" height=\"24px\"viewBox=\"0 0 24 24\"\n",
              "       width=\"24px\">\n",
              "    <path d=\"M0 0h24v24H0V0z\" fill=\"none\"/>\n",
              "    <path d=\"M18.56 5.44l.94 2.06.94-2.06 2.06-.94-2.06-.94-.94-2.06-.94 2.06-2.06.94zm-11 1L8.5 8.5l.94-2.06 2.06-.94-2.06-.94L8.5 2.5l-.94 2.06-2.06.94zm10 10l.94 2.06.94-2.06 2.06-.94-2.06-.94-.94-2.06-.94 2.06-2.06.94z\"/><path d=\"M17.41 7.96l-1.37-1.37c-.4-.4-.92-.59-1.43-.59-.52 0-1.04.2-1.43.59L10.3 9.45l-7.72 7.72c-.78.78-.78 2.05 0 2.83L4 21.41c.39.39.9.59 1.41.59.51 0 1.02-.2 1.41-.59l7.78-7.78 2.81-2.81c.8-.78.8-2.07 0-2.86zM5.41 20L4 18.59l7.72-7.72 1.47 1.35L5.41 20z\"/>\n",
              "  </svg>\n",
              "      </button>\n",
              "      \n",
              "  <style>\n",
              "    .colab-df-container {\n",
              "      display:flex;\n",
              "      flex-wrap:wrap;\n",
              "      gap: 12px;\n",
              "    }\n",
              "\n",
              "    .colab-df-convert {\n",
              "      background-color: #E8F0FE;\n",
              "      border: none;\n",
              "      border-radius: 50%;\n",
              "      cursor: pointer;\n",
              "      display: none;\n",
              "      fill: #1967D2;\n",
              "      height: 32px;\n",
              "      padding: 0 0 0 0;\n",
              "      width: 32px;\n",
              "    }\n",
              "\n",
              "    .colab-df-convert:hover {\n",
              "      background-color: #E2EBFA;\n",
              "      box-shadow: 0px 1px 2px rgba(60, 64, 67, 0.3), 0px 1px 3px 1px rgba(60, 64, 67, 0.15);\n",
              "      fill: #174EA6;\n",
              "    }\n",
              "\n",
              "    [theme=dark] .colab-df-convert {\n",
              "      background-color: #3B4455;\n",
              "      fill: #D2E3FC;\n",
              "    }\n",
              "\n",
              "    [theme=dark] .colab-df-convert:hover {\n",
              "      background-color: #434B5C;\n",
              "      box-shadow: 0px 1px 3px 1px rgba(0, 0, 0, 0.15);\n",
              "      filter: drop-shadow(0px 1px 2px rgba(0, 0, 0, 0.3));\n",
              "      fill: #FFFFFF;\n",
              "    }\n",
              "  </style>\n",
              "\n",
              "      <script>\n",
              "        const buttonEl =\n",
              "          document.querySelector('#df-a9d23dd3-296e-4f49-ae3a-eab569a9d11e button.colab-df-convert');\n",
              "        buttonEl.style.display =\n",
              "          google.colab.kernel.accessAllowed ? 'block' : 'none';\n",
              "\n",
              "        async function convertToInteractive(key) {\n",
              "          const element = document.querySelector('#df-a9d23dd3-296e-4f49-ae3a-eab569a9d11e');\n",
              "          const dataTable =\n",
              "            await google.colab.kernel.invokeFunction('convertToInteractive',\n",
              "                                                     [key], {});\n",
              "          if (!dataTable) return;\n",
              "\n",
              "          const docLinkHtml = 'Like what you see? Visit the ' +\n",
              "            '<a target=\"_blank\" href=https://colab.research.google.com/notebooks/data_table.ipynb>data table notebook</a>'\n",
              "            + ' to learn more about interactive tables.';\n",
              "          element.innerHTML = '';\n",
              "          dataTable['output_type'] = 'display_data';\n",
              "          await google.colab.output.renderOutput(dataTable, element);\n",
              "          const docLink = document.createElement('div');\n",
              "          docLink.innerHTML = docLinkHtml;\n",
              "          element.appendChild(docLink);\n",
              "        }\n",
              "      </script>\n",
              "    </div>\n",
              "  </div>\n",
              "  "
            ]
          },
          "metadata": {},
          "execution_count": 48
        }
      ]
    },
    {
      "cell_type": "code",
      "source": [
        "artist_df = artist_df.dropna()"
      ],
      "metadata": {
        "id": "XIJZOPO9zEuL"
      },
      "execution_count": null,
      "outputs": []
    },
    {
      "cell_type": "code",
      "source": [
        "artist_df.isnull().sum()"
      ],
      "metadata": {
        "colab": {
          "base_uri": "https://localhost:8080/"
        },
        "id": "9Z9R3fmwzP-g",
        "outputId": "221d356a-4cb6-4634-979b-4a6b47dce73b"
      },
      "execution_count": null,
      "outputs": [
        {
          "output_type": "execute_result",
          "data": {
            "text/plain": [
              "id            0\n",
              "followers     0\n",
              "genres        0\n",
              "name          0\n",
              "popularity    0\n",
              "dtype: int64"
            ]
          },
          "metadata": {},
          "execution_count": 50
        }
      ]
    },
    {
      "cell_type": "code",
      "source": [
        "artist_df[\"genres\"].unique()"
      ],
      "metadata": {
        "colab": {
          "base_uri": "https://localhost:8080/"
        },
        "id": "TC94UxhkzUR1",
        "outputId": "fad1938e-8233-4233-8625-454069335e86"
      },
      "execution_count": null,
      "outputs": [
        {
          "output_type": "execute_result",
          "data": {
            "text/plain": [
              "array(['[]', \"['carnaval cadiz']\", \"['classical harp', 'harp']\", ...,\n",
              "       \"['dark post-punk', 'french post-punk', 'polish post-punk']\",\n",
              "       \"['pop punk', 'tulsa indie']\",\n",
              "       \"['clean comedy', 'deep comedy', 'new comedy']\"], dtype=object)"
            ]
          },
          "metadata": {},
          "execution_count": 51
        }
      ]
    },
    {
      "cell_type": "markdown",
      "source": [
        "## Análisis exploratorio de datos"
      ],
      "metadata": {
        "id": "UKfnn74Ox741"
      }
    },
    {
      "cell_type": "markdown",
      "source": [
        "### Análisis univariado"
      ],
      "metadata": {
        "id": "AMtqIB2v1rn0"
      }
    },
    {
      "cell_type": "code",
      "source": [
        "most_popular = artist_df[artist_df[\"popularity\"] > artist_df[\"popularity\"].quantile(0.95)]\n",
        "most_popular"
      ],
      "metadata": {
        "colab": {
          "base_uri": "https://localhost:8080/",
          "height": 423
        },
        "id": "1jGcbCx91vS9",
        "outputId": "fb649b9f-f749-49a7-b55e-9450ae43fbb1"
      },
      "execution_count": null,
      "outputs": [
        {
          "output_type": "execute_result",
          "data": {
            "text/plain": [
              "                             id  followers  \\\n",
              "153      7frYUe4C7A42uZqCzD34Y4    53636.0   \n",
              "154      6acbdy69rtlv8m9EW31MYl    72684.0   \n",
              "155      72578usTM6Cj5qWsi471Nc   248568.0   \n",
              "156      4rK6HLvoZhLFUTcUhG9WfC     5644.0   \n",
              "157      6iv4lysB1yHXoZJ2gfqTdh      786.0   \n",
              "...                         ...        ...   \n",
              "1161543  1nTJnNxTJmEiZSYf8ScLQ8    21794.0   \n",
              "1161853  1ArHGXX1xQLdigiM7hlS5S     6981.0   \n",
              "1161990  5ERw1G2b8kceV2YuK2MPSe    12310.0   \n",
              "1161992  4a118edzJsiImCyPCZk6mY    21144.0   \n",
              "1162049  6ok7bEDf9CZ0448D59AaNL    48046.0   \n",
              "\n",
              "                                                    genres  \\\n",
              "153         ['desi pop', 'punjabi hip hop', 'punjabi pop']   \n",
              "154      ['afro dancehall', 'afropop', 'azontobeats', '...   \n",
              "155      ['filmi', 'indian folk', 'indian rock', 'kanna...   \n",
              "156                                                     []   \n",
              "157                                      ['indian fusion']   \n",
              "...                                                    ...   \n",
              "1161543                                    ['movie tunes']   \n",
              "1161853                            ['underground hip hop']   \n",
              "1161990                                                 []   \n",
              "1161992  ['dark post-punk', 'french post-punk', 'polish...   \n",
              "1162049                        ['pop punk', 'tulsa indie']   \n",
              "\n",
              "                          name  popularity  \n",
              "153                    Sultaan          53  \n",
              "154                      Phyno          51  \n",
              "155                Raghu Dixit          52  \n",
              "156                     Deacon          52  \n",
              "157             Shashwat Singh          56  \n",
              "...                        ...         ...  \n",
              "1161543                  Smile          44  \n",
              "1161853        Curtis Williams          41  \n",
              "1161990  I Hate Myself Because          45  \n",
              "1161992            Rendez Vous          40  \n",
              "1162049                   Ludo          48  \n",
              "\n",
              "[56350 rows x 5 columns]"
            ],
            "text/html": [
              "\n",
              "  <div id=\"df-bc269a92-c048-4532-8e0f-a4d00a38e3f1\">\n",
              "    <div class=\"colab-df-container\">\n",
              "      <div>\n",
              "<style scoped>\n",
              "    .dataframe tbody tr th:only-of-type {\n",
              "        vertical-align: middle;\n",
              "    }\n",
              "\n",
              "    .dataframe tbody tr th {\n",
              "        vertical-align: top;\n",
              "    }\n",
              "\n",
              "    .dataframe thead th {\n",
              "        text-align: right;\n",
              "    }\n",
              "</style>\n",
              "<table border=\"1\" class=\"dataframe\">\n",
              "  <thead>\n",
              "    <tr style=\"text-align: right;\">\n",
              "      <th></th>\n",
              "      <th>id</th>\n",
              "      <th>followers</th>\n",
              "      <th>genres</th>\n",
              "      <th>name</th>\n",
              "      <th>popularity</th>\n",
              "    </tr>\n",
              "  </thead>\n",
              "  <tbody>\n",
              "    <tr>\n",
              "      <th>153</th>\n",
              "      <td>7frYUe4C7A42uZqCzD34Y4</td>\n",
              "      <td>53636.0</td>\n",
              "      <td>['desi pop', 'punjabi hip hop', 'punjabi pop']</td>\n",
              "      <td>Sultaan</td>\n",
              "      <td>53</td>\n",
              "    </tr>\n",
              "    <tr>\n",
              "      <th>154</th>\n",
              "      <td>6acbdy69rtlv8m9EW31MYl</td>\n",
              "      <td>72684.0</td>\n",
              "      <td>['afro dancehall', 'afropop', 'azontobeats', '...</td>\n",
              "      <td>Phyno</td>\n",
              "      <td>51</td>\n",
              "    </tr>\n",
              "    <tr>\n",
              "      <th>155</th>\n",
              "      <td>72578usTM6Cj5qWsi471Nc</td>\n",
              "      <td>248568.0</td>\n",
              "      <td>['filmi', 'indian folk', 'indian rock', 'kanna...</td>\n",
              "      <td>Raghu Dixit</td>\n",
              "      <td>52</td>\n",
              "    </tr>\n",
              "    <tr>\n",
              "      <th>156</th>\n",
              "      <td>4rK6HLvoZhLFUTcUhG9WfC</td>\n",
              "      <td>5644.0</td>\n",
              "      <td>[]</td>\n",
              "      <td>Deacon</td>\n",
              "      <td>52</td>\n",
              "    </tr>\n",
              "    <tr>\n",
              "      <th>157</th>\n",
              "      <td>6iv4lysB1yHXoZJ2gfqTdh</td>\n",
              "      <td>786.0</td>\n",
              "      <td>['indian fusion']</td>\n",
              "      <td>Shashwat Singh</td>\n",
              "      <td>56</td>\n",
              "    </tr>\n",
              "    <tr>\n",
              "      <th>...</th>\n",
              "      <td>...</td>\n",
              "      <td>...</td>\n",
              "      <td>...</td>\n",
              "      <td>...</td>\n",
              "      <td>...</td>\n",
              "    </tr>\n",
              "    <tr>\n",
              "      <th>1161543</th>\n",
              "      <td>1nTJnNxTJmEiZSYf8ScLQ8</td>\n",
              "      <td>21794.0</td>\n",
              "      <td>['movie tunes']</td>\n",
              "      <td>Smile</td>\n",
              "      <td>44</td>\n",
              "    </tr>\n",
              "    <tr>\n",
              "      <th>1161853</th>\n",
              "      <td>1ArHGXX1xQLdigiM7hlS5S</td>\n",
              "      <td>6981.0</td>\n",
              "      <td>['underground hip hop']</td>\n",
              "      <td>Curtis Williams</td>\n",
              "      <td>41</td>\n",
              "    </tr>\n",
              "    <tr>\n",
              "      <th>1161990</th>\n",
              "      <td>5ERw1G2b8kceV2YuK2MPSe</td>\n",
              "      <td>12310.0</td>\n",
              "      <td>[]</td>\n",
              "      <td>I Hate Myself Because</td>\n",
              "      <td>45</td>\n",
              "    </tr>\n",
              "    <tr>\n",
              "      <th>1161992</th>\n",
              "      <td>4a118edzJsiImCyPCZk6mY</td>\n",
              "      <td>21144.0</td>\n",
              "      <td>['dark post-punk', 'french post-punk', 'polish...</td>\n",
              "      <td>Rendez Vous</td>\n",
              "      <td>40</td>\n",
              "    </tr>\n",
              "    <tr>\n",
              "      <th>1162049</th>\n",
              "      <td>6ok7bEDf9CZ0448D59AaNL</td>\n",
              "      <td>48046.0</td>\n",
              "      <td>['pop punk', 'tulsa indie']</td>\n",
              "      <td>Ludo</td>\n",
              "      <td>48</td>\n",
              "    </tr>\n",
              "  </tbody>\n",
              "</table>\n",
              "<p>56350 rows × 5 columns</p>\n",
              "</div>\n",
              "      <button class=\"colab-df-convert\" onclick=\"convertToInteractive('df-bc269a92-c048-4532-8e0f-a4d00a38e3f1')\"\n",
              "              title=\"Convert this dataframe to an interactive table.\"\n",
              "              style=\"display:none;\">\n",
              "        \n",
              "  <svg xmlns=\"http://www.w3.org/2000/svg\" height=\"24px\"viewBox=\"0 0 24 24\"\n",
              "       width=\"24px\">\n",
              "    <path d=\"M0 0h24v24H0V0z\" fill=\"none\"/>\n",
              "    <path d=\"M18.56 5.44l.94 2.06.94-2.06 2.06-.94-2.06-.94-.94-2.06-.94 2.06-2.06.94zm-11 1L8.5 8.5l.94-2.06 2.06-.94-2.06-.94L8.5 2.5l-.94 2.06-2.06.94zm10 10l.94 2.06.94-2.06 2.06-.94-2.06-.94-.94-2.06-.94 2.06-2.06.94z\"/><path d=\"M17.41 7.96l-1.37-1.37c-.4-.4-.92-.59-1.43-.59-.52 0-1.04.2-1.43.59L10.3 9.45l-7.72 7.72c-.78.78-.78 2.05 0 2.83L4 21.41c.39.39.9.59 1.41.59.51 0 1.02-.2 1.41-.59l7.78-7.78 2.81-2.81c.8-.78.8-2.07 0-2.86zM5.41 20L4 18.59l7.72-7.72 1.47 1.35L5.41 20z\"/>\n",
              "  </svg>\n",
              "      </button>\n",
              "      \n",
              "  <style>\n",
              "    .colab-df-container {\n",
              "      display:flex;\n",
              "      flex-wrap:wrap;\n",
              "      gap: 12px;\n",
              "    }\n",
              "\n",
              "    .colab-df-convert {\n",
              "      background-color: #E8F0FE;\n",
              "      border: none;\n",
              "      border-radius: 50%;\n",
              "      cursor: pointer;\n",
              "      display: none;\n",
              "      fill: #1967D2;\n",
              "      height: 32px;\n",
              "      padding: 0 0 0 0;\n",
              "      width: 32px;\n",
              "    }\n",
              "\n",
              "    .colab-df-convert:hover {\n",
              "      background-color: #E2EBFA;\n",
              "      box-shadow: 0px 1px 2px rgba(60, 64, 67, 0.3), 0px 1px 3px 1px rgba(60, 64, 67, 0.15);\n",
              "      fill: #174EA6;\n",
              "    }\n",
              "\n",
              "    [theme=dark] .colab-df-convert {\n",
              "      background-color: #3B4455;\n",
              "      fill: #D2E3FC;\n",
              "    }\n",
              "\n",
              "    [theme=dark] .colab-df-convert:hover {\n",
              "      background-color: #434B5C;\n",
              "      box-shadow: 0px 1px 3px 1px rgba(0, 0, 0, 0.15);\n",
              "      filter: drop-shadow(0px 1px 2px rgba(0, 0, 0, 0.3));\n",
              "      fill: #FFFFFF;\n",
              "    }\n",
              "  </style>\n",
              "\n",
              "      <script>\n",
              "        const buttonEl =\n",
              "          document.querySelector('#df-bc269a92-c048-4532-8e0f-a4d00a38e3f1 button.colab-df-convert');\n",
              "        buttonEl.style.display =\n",
              "          google.colab.kernel.accessAllowed ? 'block' : 'none';\n",
              "\n",
              "        async function convertToInteractive(key) {\n",
              "          const element = document.querySelector('#df-bc269a92-c048-4532-8e0f-a4d00a38e3f1');\n",
              "          const dataTable =\n",
              "            await google.colab.kernel.invokeFunction('convertToInteractive',\n",
              "                                                     [key], {});\n",
              "          if (!dataTable) return;\n",
              "\n",
              "          const docLinkHtml = 'Like what you see? Visit the ' +\n",
              "            '<a target=\"_blank\" href=https://colab.research.google.com/notebooks/data_table.ipynb>data table notebook</a>'\n",
              "            + ' to learn more about interactive tables.';\n",
              "          element.innerHTML = '';\n",
              "          dataTable['output_type'] = 'display_data';\n",
              "          await google.colab.output.renderOutput(dataTable, element);\n",
              "          const docLink = document.createElement('div');\n",
              "          docLink.innerHTML = docLinkHtml;\n",
              "          element.appendChild(docLink);\n",
              "        }\n",
              "      </script>\n",
              "    </div>\n",
              "  </div>\n",
              "  "
            ]
          },
          "metadata": {},
          "execution_count": 52
        }
      ]
    },
    {
      "cell_type": "code",
      "source": [
        "plt.figure(figsize = (18, 3))\n",
        "plt.boxplot(artist_df['popularity'], vert= False)\n",
        "plt.plot()"
      ],
      "metadata": {
        "colab": {
          "base_uri": "https://localhost:8080/",
          "height": 229
        },
        "id": "ppu2xnJmrEW5",
        "outputId": "e6558bde-c149-4c85-f07f-e96ca79d292a"
      },
      "execution_count": null,
      "outputs": [
        {
          "output_type": "execute_result",
          "data": {
            "text/plain": [
              "[]"
            ]
          },
          "metadata": {},
          "execution_count": 55
        },
        {
          "output_type": "display_data",
          "data": {
            "text/plain": [
              "<Figure size 1296x216 with 1 Axes>"
            ],
            "image/png": "[encoded data removed]"
          },
          "metadata": {
            "needs_background": "light"
          }
        }
      ]
    },
    {
      "cell_type": "code",
      "source": [
        "plt.plot(most_popular[\"followers\"])"
      ],
      "metadata": {
        "colab": {
          "base_uri": "https://localhost:8080/",
          "height": 307
        },
        "id": "e_l_mADX2zf9",
        "outputId": "ea9b8646-e7e3-45e2-ae8f-af12dd848592"
      },
      "execution_count": null,
      "outputs": [
        {
          "output_type": "execute_result",
          "data": {
            "text/plain": [
              "[<matplotlib.lines.Line2D at 0x7f45935f2f70>]"
            ]
          },
          "metadata": {},
          "execution_count": 56
        },
        {
          "output_type": "display_data",
          "data": {
            "text/plain": [
              "<Figure size 432x288 with 1 Axes>"
            ],
            "image/png": "[encoded data removed]"
          },
          "metadata": {
            "needs_background": "light"
          }
        }
      ]
    },
    {
      "cell_type": "code",
      "source": [
        "def count_genres(x):\n",
        "  transform = x.replace(\"[\", \"\").replace(\"]\",\"\")\n",
        "  if transform == \"\":\n",
        "    return 0\n",
        "  res = transform.split(\",\")\n",
        "  return len(res)"
      ],
      "metadata": {
        "id": "ocAMANb53pSb"
      },
      "execution_count": null,
      "outputs": []
    },
    {
      "cell_type": "code",
      "source": [
        "temp = most_popular.copy()\n",
        "n_genres = most_popular[\"genres\"].apply(count_genres).value_counts(dropna = False)\n",
        "\n",
        "n_genres"
      ],
      "metadata": {
        "colab": {
          "base_uri": "https://localhost:8080/"
        },
        "id": "idOAMwrM46SA",
        "outputId": "14f287e6-16fe-478d-e380-e71a11bb5cdc"
      },
      "execution_count": null,
      "outputs": [
        {
          "output_type": "execute_result",
          "data": {
            "text/plain": [
              "1     16051\n",
              "2     11184\n",
              "0     10812\n",
              "3      6888\n",
              "4      4301\n",
              "5      2718\n",
              "6      1697\n",
              "7      1056\n",
              "8       658\n",
              "9       426\n",
              "10      246\n",
              "11      124\n",
              "12       75\n",
              "13       37\n",
              "14       34\n",
              "15       22\n",
              "16       11\n",
              "17        6\n",
              "18        2\n",
              "19        1\n",
              "21        1\n",
              "Name: genres, dtype: int64"
            ]
          },
          "metadata": {},
          "execution_count": 58
        }
      ]
    },
    {
      "cell_type": "markdown",
      "source": [
        "### Análisis bivariado"
      ],
      "metadata": {
        "id": "FhoSH7dcyAI8"
      }
    },
    {
      "cell_type": "code",
      "source": [
        "plt.scatter(most_popular[\"popularity\"], most_popular[\"followers\"])\n",
        "plt.xlabel(\"popularity\")\n",
        "plt.ylabel(\"followers\")"
      ],
      "metadata": {
        "colab": {
          "base_uri": "https://localhost:8080/",
          "height": 308
        },
        "id": "GsEi0HRt2Bl8",
        "outputId": "74ac9f08-b9e0-42f6-9412-ac3bca9856c0"
      },
      "execution_count": null,
      "outputs": [
        {
          "output_type": "execute_result",
          "data": {
            "text/plain": [
              "Text(0, 0.5, 'followers')"
            ]
          },
          "metadata": {},
          "execution_count": 59
        },
        {
          "output_type": "display_data",
          "data": {
            "text/plain": [
              "<Figure size 432x288 with 1 Axes>"
            ],
            "image/png": "[encoded data removed]"
          },
          "metadata": {
            "needs_background": "light"
          }
        }
      ]
    },
    {
      "cell_type": "code",
      "source": [
        "max_pop = most_popular[\"popularity\"].max()\n",
        "the_best = most_popular[most_popular[\"popularity\"]==max_pop]\n",
        "the_best"
      ],
      "metadata": {
        "colab": {
          "base_uri": "https://localhost:8080/",
          "height": 81
        },
        "id": "WmlgwUc2rk4Q",
        "outputId": "61de0917-c521-4c33-b3d5-221ca5e5b084"
      },
      "execution_count": null,
      "outputs": [
        {
          "output_type": "execute_result",
          "data": {
            "text/plain": [
              "                            id   followers  \\\n",
              "144481  1uNFoZAHBGtllmzznpCI3s  44606973.0   \n",
              "\n",
              "                                          genres           name  popularity  \n",
              "144481  ['canadian pop', 'pop', 'post-teen pop']  Justin Bieber         100  "
            ],
            "text/html": [
              "\n",
              "  <div id=\"df-e03213ff-dcfe-4660-9948-18452b90f8f2\">\n",
              "    <div class=\"colab-df-container\">\n",
              "      <div>\n",
              "<style scoped>\n",
              "    .dataframe tbody tr th:only-of-type {\n",
              "        vertical-align: middle;\n",
              "    }\n",
              "\n",
              "    .dataframe tbody tr th {\n",
              "        vertical-align: top;\n",
              "    }\n",
              "\n",
              "    .dataframe thead th {\n",
              "        text-align: right;\n",
              "    }\n",
              "</style>\n",
              "<table border=\"1\" class=\"dataframe\">\n",
              "  <thead>\n",
              "    <tr style=\"text-align: right;\">\n",
              "      <th></th>\n",
              "      <th>id</th>\n",
              "      <th>followers</th>\n",
              "      <th>genres</th>\n",
              "      <th>name</th>\n",
              "      <th>popularity</th>\n",
              "    </tr>\n",
              "  </thead>\n",
              "  <tbody>\n",
              "    <tr>\n",
              "      <th>144481</th>\n",
              "      <td>1uNFoZAHBGtllmzznpCI3s</td>\n",
              "      <td>44606973.0</td>\n",
              "      <td>['canadian pop', 'pop', 'post-teen pop']</td>\n",
              "      <td>Justin Bieber</td>\n",
              "      <td>100</td>\n",
              "    </tr>\n",
              "  </tbody>\n",
              "</table>\n",
              "</div>\n",
              "      <button class=\"colab-df-convert\" onclick=\"convertToInteractive('df-e03213ff-dcfe-4660-9948-18452b90f8f2')\"\n",
              "              title=\"Convert this dataframe to an interactive table.\"\n",
              "              style=\"display:none;\">\n",
              "        \n",
              "  <svg xmlns=\"http://www.w3.org/2000/svg\" height=\"24px\"viewBox=\"0 0 24 24\"\n",
              "       width=\"24px\">\n",
              "    <path d=\"M0 0h24v24H0V0z\" fill=\"none\"/>\n",
              "    <path d=\"M18.56 5.44l.94 2.06.94-2.06 2.06-.94-2.06-.94-.94-2.06-.94 2.06-2.06.94zm-11 1L8.5 8.5l.94-2.06 2.06-.94-2.06-.94L8.5 2.5l-.94 2.06-2.06.94zm10 10l.94 2.06.94-2.06 2.06-.94-2.06-.94-.94-2.06-.94 2.06-2.06.94z\"/><path d=\"M17.41 7.96l-1.37-1.37c-.4-.4-.92-.59-1.43-.59-.52 0-1.04.2-1.43.59L10.3 9.45l-7.72 7.72c-.78.78-.78 2.05 0 2.83L4 21.41c.39.39.9.59 1.41.59.51 0 1.02-.2 1.41-.59l7.78-7.78 2.81-2.81c.8-.78.8-2.07 0-2.86zM5.41 20L4 18.59l7.72-7.72 1.47 1.35L5.41 20z\"/>\n",
              "  </svg>\n",
              "      </button>\n",
              "      \n",
              "  <style>\n",
              "    .colab-df-container {\n",
              "      display:flex;\n",
              "      flex-wrap:wrap;\n",
              "      gap: 12px;\n",
              "    }\n",
              "\n",
              "    .colab-df-convert {\n",
              "      background-color: #E8F0FE;\n",
              "      border: none;\n",
              "      border-radius: 50%;\n",
              "      cursor: pointer;\n",
              "      display: none;\n",
              "      fill: #1967D2;\n",
              "      height: 32px;\n",
              "      padding: 0 0 0 0;\n",
              "      width: 32px;\n",
              "    }\n",
              "\n",
              "    .colab-df-convert:hover {\n",
              "      background-color: #E2EBFA;\n",
              "      box-shadow: 0px 1px 2px rgba(60, 64, 67, 0.3), 0px 1px 3px 1px rgba(60, 64, 67, 0.15);\n",
              "      fill: #174EA6;\n",
              "    }\n",
              "\n",
              "    [theme=dark] .colab-df-convert {\n",
              "      background-color: #3B4455;\n",
              "      fill: #D2E3FC;\n",
              "    }\n",
              "\n",
              "    [theme=dark] .colab-df-convert:hover {\n",
              "      background-color: #434B5C;\n",
              "      box-shadow: 0px 1px 3px 1px rgba(0, 0, 0, 0.15);\n",
              "      filter: drop-shadow(0px 1px 2px rgba(0, 0, 0, 0.3));\n",
              "      fill: #FFFFFF;\n",
              "    }\n",
              "  </style>\n",
              "\n",
              "      <script>\n",
              "        const buttonEl =\n",
              "          document.querySelector('#df-e03213ff-dcfe-4660-9948-18452b90f8f2 button.colab-df-convert');\n",
              "        buttonEl.style.display =\n",
              "          google.colab.kernel.accessAllowed ? 'block' : 'none';\n",
              "\n",
              "        async function convertToInteractive(key) {\n",
              "          const element = document.querySelector('#df-e03213ff-dcfe-4660-9948-18452b90f8f2');\n",
              "          const dataTable =\n",
              "            await google.colab.kernel.invokeFunction('convertToInteractive',\n",
              "                                                     [key], {});\n",
              "          if (!dataTable) return;\n",
              "\n",
              "          const docLinkHtml = 'Like what you see? Visit the ' +\n",
              "            '<a target=\"_blank\" href=https://colab.research.google.com/notebooks/data_table.ipynb>data table notebook</a>'\n",
              "            + ' to learn more about interactive tables.';\n",
              "          element.innerHTML = '';\n",
              "          dataTable['output_type'] = 'display_data';\n",
              "          await google.colab.output.renderOutput(dataTable, element);\n",
              "          const docLink = document.createElement('div');\n",
              "          docLink.innerHTML = docLinkHtml;\n",
              "          element.appendChild(docLink);\n",
              "        }\n",
              "      </script>\n",
              "    </div>\n",
              "  </div>\n",
              "  "
            ]
          },
          "metadata": {},
          "execution_count": 60
        }
      ]
    },
    {
      "cell_type": "code",
      "source": [
        "max_foll = most_popular[\"followers\"].max()\n",
        "the_best = most_popular[most_popular[\"followers\"]==max_foll]\n",
        "the_best"
      ],
      "metadata": {
        "colab": {
          "base_uri": "https://localhost:8080/",
          "height": 81
        },
        "id": "jfidv51g6oWR",
        "outputId": "ef459a17-017a-4879-a8b0-2f3c5f884465"
      },
      "execution_count": null,
      "outputs": [
        {
          "output_type": "execute_result",
          "data": {
            "text/plain": [
              "                            id   followers             genres        name  \\\n",
              "144138  6eUKZXaKkcviH0Ku9w2n3V  78900234.0  ['pop', 'uk pop']  Ed Sheeran   \n",
              "\n",
              "        popularity  \n",
              "144138          92  "
            ],
            "text/html": [
              "\n",
              "  <div id=\"df-3950f071-0617-4f36-8129-3702136111e8\">\n",
              "    <div class=\"colab-df-container\">\n",
              "      <div>\n",
              "<style scoped>\n",
              "    .dataframe tbody tr th:only-of-type {\n",
              "        vertical-align: middle;\n",
              "    }\n",
              "\n",
              "    .dataframe tbody tr th {\n",
              "        vertical-align: top;\n",
              "    }\n",
              "\n",
              "    .dataframe thead th {\n",
              "        text-align: right;\n",
              "    }\n",
              "</style>\n",
              "<table border=\"1\" class=\"dataframe\">\n",
              "  <thead>\n",
              "    <tr style=\"text-align: right;\">\n",
              "      <th></th>\n",
              "      <th>id</th>\n",
              "      <th>followers</th>\n",
              "      <th>genres</th>\n",
              "      <th>name</th>\n",
              "      <th>popularity</th>\n",
              "    </tr>\n",
              "  </thead>\n",
              "  <tbody>\n",
              "    <tr>\n",
              "      <th>144138</th>\n",
              "      <td>6eUKZXaKkcviH0Ku9w2n3V</td>\n",
              "      <td>78900234.0</td>\n",
              "      <td>['pop', 'uk pop']</td>\n",
              "      <td>Ed Sheeran</td>\n",
              "      <td>92</td>\n",
              "    </tr>\n",
              "  </tbody>\n",
              "</table>\n",
              "</div>\n",
              "      <button class=\"colab-df-convert\" onclick=\"convertToInteractive('df-3950f071-0617-4f36-8129-3702136111e8')\"\n",
              "              title=\"Convert this dataframe to an interactive table.\"\n",
              "              style=\"display:none;\">\n",
              "        \n",
              "  <svg xmlns=\"http://www.w3.org/2000/svg\" height=\"24px\"viewBox=\"0 0 24 24\"\n",
              "       width=\"24px\">\n",
              "    <path d=\"M0 0h24v24H0V0z\" fill=\"none\"/>\n",
              "    <path d=\"M18.56 5.44l.94 2.06.94-2.06 2.06-.94-2.06-.94-.94-2.06-.94 2.06-2.06.94zm-11 1L8.5 8.5l.94-2.06 2.06-.94-2.06-.94L8.5 2.5l-.94 2.06-2.06.94zm10 10l.94 2.06.94-2.06 2.06-.94-2.06-.94-.94-2.06-.94 2.06-2.06.94z\"/><path d=\"M17.41 7.96l-1.37-1.37c-.4-.4-.92-.59-1.43-.59-.52 0-1.04.2-1.43.59L10.3 9.45l-7.72 7.72c-.78.78-.78 2.05 0 2.83L4 21.41c.39.39.9.59 1.41.59.51 0 1.02-.2 1.41-.59l7.78-7.78 2.81-2.81c.8-.78.8-2.07 0-2.86zM5.41 20L4 18.59l7.72-7.72 1.47 1.35L5.41 20z\"/>\n",
              "  </svg>\n",
              "      </button>\n",
              "      \n",
              "  <style>\n",
              "    .colab-df-container {\n",
              "      display:flex;\n",
              "      flex-wrap:wrap;\n",
              "      gap: 12px;\n",
              "    }\n",
              "\n",
              "    .colab-df-convert {\n",
              "      background-color: #E8F0FE;\n",
              "      border: none;\n",
              "      border-radius: 50%;\n",
              "      cursor: pointer;\n",
              "      display: none;\n",
              "      fill: #1967D2;\n",
              "      height: 32px;\n",
              "      padding: 0 0 0 0;\n",
              "      width: 32px;\n",
              "    }\n",
              "\n",
              "    .colab-df-convert:hover {\n",
              "      background-color: #E2EBFA;\n",
              "      box-shadow: 0px 1px 2px rgba(60, 64, 67, 0.3), 0px 1px 3px 1px rgba(60, 64, 67, 0.15);\n",
              "      fill: #174EA6;\n",
              "    }\n",
              "\n",
              "    [theme=dark] .colab-df-convert {\n",
              "      background-color: #3B4455;\n",
              "      fill: #D2E3FC;\n",
              "    }\n",
              "\n",
              "    [theme=dark] .colab-df-convert:hover {\n",
              "      background-color: #434B5C;\n",
              "      box-shadow: 0px 1px 3px 1px rgba(0, 0, 0, 0.15);\n",
              "      filter: drop-shadow(0px 1px 2px rgba(0, 0, 0, 0.3));\n",
              "      fill: #FFFFFF;\n",
              "    }\n",
              "  </style>\n",
              "\n",
              "      <script>\n",
              "        const buttonEl =\n",
              "          document.querySelector('#df-3950f071-0617-4f36-8129-3702136111e8 button.colab-df-convert');\n",
              "        buttonEl.style.display =\n",
              "          google.colab.kernel.accessAllowed ? 'block' : 'none';\n",
              "\n",
              "        async function convertToInteractive(key) {\n",
              "          const element = document.querySelector('#df-3950f071-0617-4f36-8129-3702136111e8');\n",
              "          const dataTable =\n",
              "            await google.colab.kernel.invokeFunction('convertToInteractive',\n",
              "                                                     [key], {});\n",
              "          if (!dataTable) return;\n",
              "\n",
              "          const docLinkHtml = 'Like what you see? Visit the ' +\n",
              "            '<a target=\"_blank\" href=https://colab.research.google.com/notebooks/data_table.ipynb>data table notebook</a>'\n",
              "            + ' to learn more about interactive tables.';\n",
              "          element.innerHTML = '';\n",
              "          dataTable['output_type'] = 'display_data';\n",
              "          await google.colab.output.renderOutput(dataTable, element);\n",
              "          const docLink = document.createElement('div');\n",
              "          docLink.innerHTML = docLinkHtml;\n",
              "          element.appendChild(docLink);\n",
              "        }\n",
              "      </script>\n",
              "    </div>\n",
              "  </div>\n",
              "  "
            ]
          },
          "metadata": {},
          "execution_count": 61
        }
      ]
    },
    {
      "cell_type": "code",
      "source": [
        "artist_df.dtypes"
      ],
      "metadata": {
        "colab": {
          "base_uri": "https://localhost:8080/"
        },
        "id": "vmLfy1gV5iK9",
        "outputId": "aa98e905-9a0a-4d77-c7f9-1bc856cc4bf2"
      },
      "execution_count": null,
      "outputs": [
        {
          "output_type": "execute_result",
          "data": {
            "text/plain": [
              "id             object\n",
              "followers     float64\n",
              "genres         object\n",
              "name           object\n",
              "popularity      int64\n",
              "dtype: object"
            ]
          },
          "metadata": {},
          "execution_count": 63
        }
      ]
    },
    {
      "cell_type": "code",
      "source": [
        "artist_df.to_csv('normal_artist.csv')"
      ],
      "metadata": {
        "id": "IC_gHSYTihq2",
        "colab": {
          "base_uri": "https://localhost:8080/",
          "height": 171
        },
        "outputId": "633c7be3-d915-48f5-c7dd-09ae85441523"
      },
      "execution_count": null,
      "outputs": [
        {
          "output_type": "error",
          "ename": "TypeError",
          "evalue": "ignored",
          "traceback": [
            "\u001b[0;31m---------------------------------------------------------------------------\u001b[0m",
            "\u001b[0;31mTypeError\u001b[0m                                 Traceback (most recent call last)",
            "\u001b[0;32m<ipython-input-62-e73589cf663b>\u001b[0m in \u001b[0;36m<module>\u001b[0;34m\u001b[0m\n\u001b[0;32m----> 1\u001b[0;31m \u001b[0martist_df\u001b[0m\u001b[0;34m.\u001b[0m\u001b[0mto_sql\u001b[0m\u001b[0;34m(\u001b[0m\u001b[0;34m'normal_artist.csv'\u001b[0m\u001b[0;34m)\u001b[0m\u001b[0;34m\u001b[0m\u001b[0;34m\u001b[0m\u001b[0m\n\u001b[0m",
            "\u001b[0;31mTypeError\u001b[0m: to_sql() missing 1 required positional argument: 'con'"
          ]
        }
      ]
    }
  ]
}